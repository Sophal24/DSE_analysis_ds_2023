{
 "cells": [
  {
   "cell_type": "markdown",
   "metadata": {},
   "source": [
    "## Digital Skill Essential or known as DSE"
   ]
  },
  {
   "cell_type": "code",
   "execution_count": 30,
   "metadata": {},
   "outputs": [],
   "source": [
    "import pandas as pd\n",
    "import matplotlib.pyplot as plt\n",
    "import seaborn as sns\n",
    "from collections import Counter\n",
    "import numpy as np"
   ]
  },
  {
   "cell_type": "code",
   "execution_count": 31,
   "metadata": {},
   "outputs": [
    {
     "data": {
      "text/html": [
       "<div>\n",
       "<style scoped>\n",
       "    .dataframe tbody tr th:only-of-type {\n",
       "        vertical-align: middle;\n",
       "    }\n",
       "\n",
       "    .dataframe tbody tr th {\n",
       "        vertical-align: top;\n",
       "    }\n",
       "\n",
       "    .dataframe thead th {\n",
       "        text-align: right;\n",
       "    }\n",
       "</style>\n",
       "<table border=\"1\" class=\"dataframe\">\n",
       "  <thead>\n",
       "    <tr style=\"text-align: right;\">\n",
       "      <th></th>\n",
       "      <th>Surname</th>\n",
       "      <th>First name</th>\n",
       "      <th>Email address</th>\n",
       "      <th>State</th>\n",
       "      <th>Started on</th>\n",
       "      <th>Completed</th>\n",
       "      <th>Time taken</th>\n",
       "      <th>Grade/100.00</th>\n",
       "      <th>Q. 1 /1.25</th>\n",
       "      <th>Q. 2 /1.25</th>\n",
       "      <th>...</th>\n",
       "      <th>Q. 71 /1.25</th>\n",
       "      <th>Q. 72 /1.25</th>\n",
       "      <th>Q. 73 /1.25</th>\n",
       "      <th>Q. 74 /1.25</th>\n",
       "      <th>Q. 75 /1.25</th>\n",
       "      <th>Q. 76 /1.25</th>\n",
       "      <th>Q. 77 /1.25</th>\n",
       "      <th>Q. 78 /1.25</th>\n",
       "      <th>Q. 79 /1.25</th>\n",
       "      <th>Q. 80 /1.25</th>\n",
       "    </tr>\n",
       "  </thead>\n",
       "  <tbody>\n",
       "    <tr>\n",
       "      <th>0</th>\n",
       "      <td>ម៉ាលីស</td>\n",
       "      <td>វ៉ាន់</td>\n",
       "      <td>vmalispg1n31@era.gov.kh</td>\n",
       "      <td>Finished</td>\n",
       "      <td>22 July 2022  6:03 AM</td>\n",
       "      <td>22 July 2022  7:23 AM</td>\n",
       "      <td>1 hour 20 mins</td>\n",
       "      <td>41.52</td>\n",
       "      <td>1.25</td>\n",
       "      <td>0.00</td>\n",
       "      <td>...</td>\n",
       "      <td>1.25</td>\n",
       "      <td>0.21</td>\n",
       "      <td>0.83</td>\n",
       "      <td>1.25</td>\n",
       "      <td>0.63</td>\n",
       "      <td>0.75</td>\n",
       "      <td>0.42</td>\n",
       "      <td>0.42</td>\n",
       "      <td>0.00</td>\n",
       "      <td>0.00</td>\n",
       "    </tr>\n",
       "    <tr>\n",
       "      <th>1</th>\n",
       "      <td>គឹមតៃ</td>\n",
       "      <td>ហៃ</td>\n",
       "      <td>hkimtaip22n72@era.gov.kh</td>\n",
       "      <td>Finished</td>\n",
       "      <td>22 July 2022  6:04 AM</td>\n",
       "      <td>22 July 2022  6:38 AM</td>\n",
       "      <td>33 mins 29 secs</td>\n",
       "      <td>14.54</td>\n",
       "      <td>-</td>\n",
       "      <td>1.25</td>\n",
       "      <td>...</td>\n",
       "      <td>0.00</td>\n",
       "      <td>0.00</td>\n",
       "      <td>0.42</td>\n",
       "      <td>-</td>\n",
       "      <td>-</td>\n",
       "      <td>-</td>\n",
       "      <td>-</td>\n",
       "      <td>-</td>\n",
       "      <td>-</td>\n",
       "      <td>-</td>\n",
       "    </tr>\n",
       "    <tr>\n",
       "      <th>2</th>\n",
       "      <td>ប៊ុនលី</td>\n",
       "      <td>ទូច</td>\n",
       "      <td>tbunlypg2n84@era.gov.kh</td>\n",
       "      <td>Finished</td>\n",
       "      <td>22 July 2022  6:08 AM</td>\n",
       "      <td>22 July 2022  7:22 AM</td>\n",
       "      <td>1 hour 13 mins</td>\n",
       "      <td>45.25</td>\n",
       "      <td>1.25</td>\n",
       "      <td>0.00</td>\n",
       "      <td>...</td>\n",
       "      <td>1.25</td>\n",
       "      <td>0.00</td>\n",
       "      <td>1.04</td>\n",
       "      <td>0.00</td>\n",
       "      <td>0.63</td>\n",
       "      <td>0.50</td>\n",
       "      <td>0.83</td>\n",
       "      <td>1.25</td>\n",
       "      <td>1.25</td>\n",
       "      <td>0.00</td>\n",
       "    </tr>\n",
       "  </tbody>\n",
       "</table>\n",
       "<p>3 rows × 88 columns</p>\n",
       "</div>"
      ],
      "text/plain": [
       "  Surname First name             Email address     State  \\\n",
       "0  ម៉ាលីស      វ៉ាន់   vmalispg1n31@era.gov.kh  Finished   \n",
       "1   គឹមតៃ         ហៃ  hkimtaip22n72@era.gov.kh  Finished   \n",
       "2  ប៊ុនលី        ទូច   tbunlypg2n84@era.gov.kh  Finished   \n",
       "\n",
       "              Started on              Completed       Time taken Grade/100.00  \\\n",
       "0  22 July 2022  6:03 AM  22 July 2022  7:23 AM   1 hour 20 mins        41.52   \n",
       "1  22 July 2022  6:04 AM  22 July 2022  6:38 AM  33 mins 29 secs        14.54   \n",
       "2  22 July 2022  6:08 AM  22 July 2022  7:22 AM   1 hour 13 mins        45.25   \n",
       "\n",
       "  Q. 1 /1.25 Q. 2 /1.25  ... Q. 71 /1.25 Q. 72 /1.25 Q. 73 /1.25 Q. 74 /1.25  \\\n",
       "0       1.25       0.00  ...        1.25        0.21        0.83        1.25   \n",
       "1          -       1.25  ...        0.00        0.00        0.42           -   \n",
       "2       1.25       0.00  ...        1.25        0.00        1.04        0.00   \n",
       "\n",
       "  Q. 75 /1.25 Q. 76 /1.25 Q. 77 /1.25 Q. 78 /1.25 Q. 79 /1.25 Q. 80 /1.25  \n",
       "0        0.63        0.75        0.42        0.42        0.00        0.00  \n",
       "1           -           -           -           -           -           -  \n",
       "2        0.63        0.50        0.83        1.25        1.25        0.00  \n",
       "\n",
       "[3 rows x 88 columns]"
      ]
     },
     "execution_count": 31,
     "metadata": {},
     "output_type": "execute_result"
    }
   ],
   "source": [
    "df = pd.read_csv('all_pretest_combined.csv')\n",
    "df.drop(columns=df.columns[0], axis=1, inplace=True) # drop the first column by name\n",
    "df.head(3)"
   ]
  },
  {
   "cell_type": "code",
   "execution_count": 32,
   "metadata": {},
   "outputs": [],
   "source": [
    "# Replace - with None\n",
    "columns = df.columns\n",
    "for col in columns:\n",
    "    # print(col)\n",
    "    df[col] = df[col].replace(['-'], float(0))"
   ]
  },
  {
   "cell_type": "code",
   "execution_count": 33,
   "metadata": {},
   "outputs": [],
   "source": [
    "df = df[df['State'] == \"Finished\"]"
   ]
  },
  {
   "cell_type": "code",
   "execution_count": 34,
   "metadata": {},
   "outputs": [
    {
     "data": {
      "text/html": [
       "<div>\n",
       "<style scoped>\n",
       "    .dataframe tbody tr th:only-of-type {\n",
       "        vertical-align: middle;\n",
       "    }\n",
       "\n",
       "    .dataframe tbody tr th {\n",
       "        vertical-align: top;\n",
       "    }\n",
       "\n",
       "    .dataframe thead th {\n",
       "        text-align: right;\n",
       "    }\n",
       "</style>\n",
       "<table border=\"1\" class=\"dataframe\">\n",
       "  <thead>\n",
       "    <tr style=\"text-align: right;\">\n",
       "      <th></th>\n",
       "      <th>Surname</th>\n",
       "      <th>First name</th>\n",
       "      <th>Email address</th>\n",
       "      <th>State</th>\n",
       "      <th>Started on</th>\n",
       "      <th>Completed</th>\n",
       "      <th>Time taken</th>\n",
       "      <th>Grade/100.00</th>\n",
       "      <th>Q. 1 /1.25</th>\n",
       "      <th>Q. 2 /1.25</th>\n",
       "      <th>...</th>\n",
       "      <th>Q. 71 /1.25</th>\n",
       "      <th>Q. 72 /1.25</th>\n",
       "      <th>Q. 73 /1.25</th>\n",
       "      <th>Q. 74 /1.25</th>\n",
       "      <th>Q. 75 /1.25</th>\n",
       "      <th>Q. 76 /1.25</th>\n",
       "      <th>Q. 77 /1.25</th>\n",
       "      <th>Q. 78 /1.25</th>\n",
       "      <th>Q. 79 /1.25</th>\n",
       "      <th>Q. 80 /1.25</th>\n",
       "    </tr>\n",
       "  </thead>\n",
       "  <tbody>\n",
       "    <tr>\n",
       "      <th>0</th>\n",
       "      <td>ម៉ាលីស</td>\n",
       "      <td>វ៉ាន់</td>\n",
       "      <td>vmalispg1n31@era.gov.kh</td>\n",
       "      <td>Finished</td>\n",
       "      <td>22 July 2022  6:03 AM</td>\n",
       "      <td>22 July 2022  7:23 AM</td>\n",
       "      <td>1 hour 20 mins</td>\n",
       "      <td>41.52</td>\n",
       "      <td>1.25</td>\n",
       "      <td>0.00</td>\n",
       "      <td>...</td>\n",
       "      <td>1.25</td>\n",
       "      <td>0.21</td>\n",
       "      <td>0.83</td>\n",
       "      <td>1.25</td>\n",
       "      <td>0.63</td>\n",
       "      <td>0.75</td>\n",
       "      <td>0.42</td>\n",
       "      <td>0.42</td>\n",
       "      <td>0.00</td>\n",
       "      <td>0.00</td>\n",
       "    </tr>\n",
       "    <tr>\n",
       "      <th>1</th>\n",
       "      <td>គឹមតៃ</td>\n",
       "      <td>ហៃ</td>\n",
       "      <td>hkimtaip22n72@era.gov.kh</td>\n",
       "      <td>Finished</td>\n",
       "      <td>22 July 2022  6:04 AM</td>\n",
       "      <td>22 July 2022  6:38 AM</td>\n",
       "      <td>33 mins 29 secs</td>\n",
       "      <td>14.54</td>\n",
       "      <td>0.0</td>\n",
       "      <td>1.25</td>\n",
       "      <td>...</td>\n",
       "      <td>0.00</td>\n",
       "      <td>0.00</td>\n",
       "      <td>0.42</td>\n",
       "      <td>0.0</td>\n",
       "      <td>0.0</td>\n",
       "      <td>0.0</td>\n",
       "      <td>0.0</td>\n",
       "      <td>0.0</td>\n",
       "      <td>0.0</td>\n",
       "      <td>0.0</td>\n",
       "    </tr>\n",
       "    <tr>\n",
       "      <th>2</th>\n",
       "      <td>ប៊ុនលី</td>\n",
       "      <td>ទូច</td>\n",
       "      <td>tbunlypg2n84@era.gov.kh</td>\n",
       "      <td>Finished</td>\n",
       "      <td>22 July 2022  6:08 AM</td>\n",
       "      <td>22 July 2022  7:22 AM</td>\n",
       "      <td>1 hour 13 mins</td>\n",
       "      <td>45.25</td>\n",
       "      <td>1.25</td>\n",
       "      <td>0.00</td>\n",
       "      <td>...</td>\n",
       "      <td>1.25</td>\n",
       "      <td>0.00</td>\n",
       "      <td>1.04</td>\n",
       "      <td>0.00</td>\n",
       "      <td>0.63</td>\n",
       "      <td>0.50</td>\n",
       "      <td>0.83</td>\n",
       "      <td>1.25</td>\n",
       "      <td>1.25</td>\n",
       "      <td>0.00</td>\n",
       "    </tr>\n",
       "    <tr>\n",
       "      <th>3</th>\n",
       "      <td>ឈូក</td>\n",
       "      <td>ឈឿន​</td>\n",
       "      <td>cchhoukp22n15@era.gov.kh</td>\n",
       "      <td>Finished</td>\n",
       "      <td>22 July 2022  6:11 AM</td>\n",
       "      <td>22 July 2022  7:30 AM</td>\n",
       "      <td>1 hour 18 mins</td>\n",
       "      <td>33.85</td>\n",
       "      <td>0.50</td>\n",
       "      <td>1.25</td>\n",
       "      <td>...</td>\n",
       "      <td>1.25</td>\n",
       "      <td>0.00</td>\n",
       "      <td>0.42</td>\n",
       "      <td>0.0</td>\n",
       "      <td>0.31</td>\n",
       "      <td>0.50</td>\n",
       "      <td>0.83</td>\n",
       "      <td>0.00</td>\n",
       "      <td>0.00</td>\n",
       "      <td>0.00</td>\n",
       "    </tr>\n",
       "    <tr>\n",
       "      <th>4</th>\n",
       "      <td>វណ្ណៈ</td>\n",
       "      <td>និន</td>\n",
       "      <td>nvannakp22n109@era.gov.kh</td>\n",
       "      <td>Finished</td>\n",
       "      <td>22 July 2022  6:22 AM</td>\n",
       "      <td>22 July 2022  7:48 AM</td>\n",
       "      <td>1 hour 26 mins</td>\n",
       "      <td>10.38</td>\n",
       "      <td>0.00</td>\n",
       "      <td>0.00</td>\n",
       "      <td>...</td>\n",
       "      <td>0.0</td>\n",
       "      <td>0.0</td>\n",
       "      <td>0.0</td>\n",
       "      <td>0.0</td>\n",
       "      <td>0.0</td>\n",
       "      <td>0.0</td>\n",
       "      <td>0.0</td>\n",
       "      <td>0.0</td>\n",
       "      <td>0.0</td>\n",
       "      <td>0.0</td>\n",
       "    </tr>\n",
       "  </tbody>\n",
       "</table>\n",
       "<p>5 rows × 88 columns</p>\n",
       "</div>"
      ],
      "text/plain": [
       "  Surname First name              Email address     State  \\\n",
       "0  ម៉ាលីស      វ៉ាន់    vmalispg1n31@era.gov.kh  Finished   \n",
       "1   គឹមតៃ         ហៃ   hkimtaip22n72@era.gov.kh  Finished   \n",
       "2  ប៊ុនលី        ទូច    tbunlypg2n84@era.gov.kh  Finished   \n",
       "3     ឈូក       ឈឿន​   cchhoukp22n15@era.gov.kh  Finished   \n",
       "4   វណ្ណៈ        និន  nvannakp22n109@era.gov.kh  Finished   \n",
       "\n",
       "              Started on              Completed       Time taken Grade/100.00  \\\n",
       "0  22 July 2022  6:03 AM  22 July 2022  7:23 AM   1 hour 20 mins        41.52   \n",
       "1  22 July 2022  6:04 AM  22 July 2022  6:38 AM  33 mins 29 secs        14.54   \n",
       "2  22 July 2022  6:08 AM  22 July 2022  7:22 AM   1 hour 13 mins        45.25   \n",
       "3  22 July 2022  6:11 AM  22 July 2022  7:30 AM   1 hour 18 mins        33.85   \n",
       "4  22 July 2022  6:22 AM  22 July 2022  7:48 AM   1 hour 26 mins        10.38   \n",
       "\n",
       "  Q. 1 /1.25 Q. 2 /1.25  ... Q. 71 /1.25 Q. 72 /1.25 Q. 73 /1.25 Q. 74 /1.25  \\\n",
       "0       1.25       0.00  ...        1.25        0.21        0.83        1.25   \n",
       "1        0.0       1.25  ...        0.00        0.00        0.42         0.0   \n",
       "2       1.25       0.00  ...        1.25        0.00        1.04        0.00   \n",
       "3       0.50       1.25  ...        1.25        0.00        0.42         0.0   \n",
       "4       0.00       0.00  ...         0.0         0.0         0.0         0.0   \n",
       "\n",
       "  Q. 75 /1.25 Q. 76 /1.25 Q. 77 /1.25 Q. 78 /1.25 Q. 79 /1.25 Q. 80 /1.25  \n",
       "0        0.63        0.75        0.42        0.42        0.00        0.00  \n",
       "1         0.0         0.0         0.0         0.0         0.0         0.0  \n",
       "2        0.63        0.50        0.83        1.25        1.25        0.00  \n",
       "3        0.31        0.50        0.83        0.00        0.00        0.00  \n",
       "4         0.0         0.0         0.0         0.0         0.0         0.0  \n",
       "\n",
       "[5 rows x 88 columns]"
      ]
     },
     "execution_count": 34,
     "metadata": {},
     "output_type": "execute_result"
    }
   ],
   "source": [
    "df.head(5)"
   ]
  },
  {
   "cell_type": "code",
   "execution_count": 35,
   "metadata": {},
   "outputs": [
    {
     "data": {
      "text/html": [
       "<div>\n",
       "<style scoped>\n",
       "    .dataframe tbody tr th:only-of-type {\n",
       "        vertical-align: middle;\n",
       "    }\n",
       "\n",
       "    .dataframe tbody tr th {\n",
       "        vertical-align: top;\n",
       "    }\n",
       "\n",
       "    .dataframe thead th {\n",
       "        text-align: right;\n",
       "    }\n",
       "</style>\n",
       "<table border=\"1\" class=\"dataframe\">\n",
       "  <thead>\n",
       "    <tr style=\"text-align: right;\">\n",
       "      <th></th>\n",
       "      <th>Grade/100.00</th>\n",
       "    </tr>\n",
       "  </thead>\n",
       "  <tbody>\n",
       "    <tr>\n",
       "      <th>count</th>\n",
       "      <td>3064.000000</td>\n",
       "    </tr>\n",
       "    <tr>\n",
       "      <th>mean</th>\n",
       "      <td>41.300251</td>\n",
       "    </tr>\n",
       "    <tr>\n",
       "      <th>std</th>\n",
       "      <td>17.060435</td>\n",
       "    </tr>\n",
       "    <tr>\n",
       "      <th>min</th>\n",
       "      <td>0.000000</td>\n",
       "    </tr>\n",
       "    <tr>\n",
       "      <th>25%</th>\n",
       "      <td>30.790000</td>\n",
       "    </tr>\n",
       "    <tr>\n",
       "      <th>50%</th>\n",
       "      <td>40.980000</td>\n",
       "    </tr>\n",
       "    <tr>\n",
       "      <th>75%</th>\n",
       "      <td>52.310000</td>\n",
       "    </tr>\n",
       "    <tr>\n",
       "      <th>max</th>\n",
       "      <td>89.420000</td>\n",
       "    </tr>\n",
       "  </tbody>\n",
       "</table>\n",
       "</div>"
      ],
      "text/plain": [
       "       Grade/100.00\n",
       "count   3064.000000\n",
       "mean      41.300251\n",
       "std       17.060435\n",
       "min        0.000000\n",
       "25%       30.790000\n",
       "50%       40.980000\n",
       "75%       52.310000\n",
       "max       89.420000"
      ]
     },
     "execution_count": 35,
     "metadata": {},
     "output_type": "execute_result"
    }
   ],
   "source": [
    "df['Grade/100.00'] = df['Grade/100.00'].astype('float64')\n",
    "df.describe()"
   ]
  },
  {
   "cell_type": "code",
   "execution_count": 36,
   "metadata": {},
   "outputs": [],
   "source": [
    "df.loc[df['Grade/100.00'] >= float(60), 'label'] = 'Passed'\n",
    "df.loc[df['Grade/100.00'] < float(60), 'label'] = 'Failed'"
   ]
  },
  {
   "cell_type": "code",
   "execution_count": 37,
   "metadata": {},
   "outputs": [],
   "source": [
    "df['Started on'] = pd.to_datetime(df['Started on'])\n",
    "df['Completed'] = pd.to_datetime(df['Completed'])"
   ]
  },
  {
   "cell_type": "code",
   "execution_count": 38,
   "metadata": {},
   "outputs": [
    {
     "name": "stdout",
     "output_type": "stream",
     "text": [
      "Total Examinee: 3064\n",
      "Total Finished Examinee: 3064\n",
      "Total Examinee in Progress: 0\n",
      "Number of Passed Examinee: 429  | Passing rate: 0.1400130548302872\n",
      "Number of Failed Examinee: 2635  | Failing rate: 0.8599869451697127\n"
     ]
    }
   ],
   "source": [
    "num_of_examinee = len(df)\n",
    "num_finished_examinee = len(df[df['State'] == \"Finished\"])\n",
    "num_in_progress_examinee = len(df[df['State'] != \"Finished\"])\n",
    "num_failed = len(df[df['label'] == 'Failed'])\n",
    "num_passed = len(df[df['label'] == 'Passed'])\n",
    "\n",
    "\n",
    "print(\"Total Examinee:\", num_of_examinee)\n",
    "print(\"Total Finished Examinee:\", num_finished_examinee)\n",
    "print(\"Total Examinee in Progress:\", num_in_progress_examinee)\n",
    "print(\"Number of Passed Examinee:\", num_passed, \" | Passing rate:\", num_passed / (num_passed+num_failed))\n",
    "print(\"Number of Failed Examinee:\", num_failed, \" | Failing rate:\", num_failed / (num_passed+num_failed))"
   ]
  },
  {
   "cell_type": "code",
   "execution_count": 39,
   "metadata": {},
   "outputs": [
    {
     "name": "stdout",
     "output_type": "stream",
     "text": [
      "Average Score of Passed Examinee:  68.61550116550117\n",
      "Average Score of Failed Examinee:  36.853100569259965\n"
     ]
    }
   ],
   "source": [
    "passed_df = df[df['label'] == 'Passed']\n",
    "print(\"Average Score of Passed Examinee: \", passed_df['Grade/100.00'].mean())\n",
    "\n",
    "failed_df = df[df['label'] == 'Failed']\n",
    "print(\"Average Score of Failed Examinee: \", failed_df['Grade/100.00'].mean())"
   ]
  },
  {
   "cell_type": "code",
   "execution_count": 40,
   "metadata": {},
   "outputs": [
    {
     "data": {
      "image/png": "[encoded data removed]",
      "text/plain": [
       "<Figure size 640x480 with 1 Axes>"
      ]
     },
     "metadata": {},
     "output_type": "display_data"
    }
   ],
   "source": [
    "fig, ax = plt.subplots()\n",
    "\n",
    "label = ['Passed', 'Failed']\n",
    "height = [num_passed, num_failed]\n",
    "bar_labels = ['blue', 'orange']\n",
    "bar_colors = ['tab:blue', 'tab:orange']\n",
    "\n",
    "ax.bar(label, height, label=bar_labels, color=bar_colors)\n",
    "\n",
    "for i in range(len(height)):\n",
    "    plt.text(i, i+height[i]+10, height[i], ha = 'center')\n",
    "\n",
    "ax.set_ylabel('Number of Examinee')\n",
    "plt.title(\"Examination Result\")\n",
    "\n",
    "plt.show()"
   ]
  },
  {
   "cell_type": "code",
   "execution_count": 41,
   "metadata": {},
   "outputs": [
    {
     "name": "stdout",
     "output_type": "stream",
     "text": [
      "Passing Rate: 0.14\n",
      "Failed Rate: 0.86\n"
     ]
    },
    {
     "data": {
      "image/png": "[encoded data removed]",
      "text/plain": [
       "<Figure size 900x700 with 1 Axes>"
      ]
     },
     "metadata": {},
     "output_type": "display_data"
    }
   ],
   "source": [
    "plt.figure(figsize=(9, 7))\n",
    "\n",
    "passing_rate = format(num_passed / (num_passed+num_failed), '.2f')\n",
    "failed_rate = format(num_failed / (num_passed+num_failed), '.2f')\n",
    "\n",
    "print('Passing Rate:', passing_rate)\n",
    "print('Failed Rate:', failed_rate)\n",
    "\n",
    "# Data for the pie chart\n",
    "labels = 'Passing Rate', 'Failed Rate'\n",
    "sizes = [passing_rate, failed_rate]\n",
    "\n",
    "# Create the pie chart\n",
    "plt.pie(sizes, labels=labels, autopct='%1.0f%%')\n",
    "\n",
    "# Set the legend\n",
    "plt.legend(title=\"Rate\", loc='upper left')\n",
    "\n",
    "# Show the plot\n",
    "plt.show()"
   ]
  },
  {
   "cell_type": "code",
   "execution_count": 42,
   "metadata": {},
   "outputs": [
    {
     "data": {
      "image/png": "[encoded data removed]",
      "text/plain": [
       "<Figure size 1300x600 with 1 Axes>"
      ]
     },
     "metadata": {},
     "output_type": "display_data"
    }
   ],
   "source": [
    "find_median_df = df\n",
    "\n",
    "def convert_list_to_integers(list):\n",
    "  new_list = []\n",
    "  for value in list:\n",
    "    try:\n",
    "      new_list.append(int(value))\n",
    "    except ValueError:\n",
    "      pass\n",
    "\n",
    "  return new_list\n",
    "\n",
    "plt.figure(figsize=(13,6))\n",
    "\n",
    "list = sorted(find_median_df['Grade/100.00'].round(0).tolist())\n",
    "counter = Counter(list)\n",
    "keys = counter.keys()\n",
    "values = counter.values()\n",
    "\n",
    "height = convert_list_to_integers(values) \n",
    "label = keys\n",
    "\n",
    "plt.bar(label, height)\n",
    "\n",
    "# for i in range(len(height)):\n",
    "#     plt.text(i, i+height[i], height[i], ha = 'center')\n",
    "\n",
    "plt.axvline(60, color='red')\n",
    "\n",
    "\n",
    "plt.xlabel(\"Score\")\n",
    "plt.ylabel(\"Score Occurrence\")\n",
    "plt.title(\"Count Each Score\")\n",
    "\n",
    "plt.show()"
   ]
  },
  {
   "cell_type": "code",
   "execution_count": 43,
   "metadata": {},
   "outputs": [
    {
     "data": {
      "text/plain": [
       "<matplotlib.lines.Line2D at 0x17e2fdd90>"
      ]
     },
     "execution_count": 43,
     "metadata": {},
     "output_type": "execute_result"
    },
    {
     "data": {
      "image/png": "[encoded data removed]",
      "text/plain": [
       "<Figure size 500x500 with 1 Axes>"
      ]
     },
     "metadata": {},
     "output_type": "display_data"
    }
   ],
   "source": [
    "distribution = df\n",
    "\n",
    "# plt.figure(figsize=(10,10))\n",
    "sns.displot(distribution, \n",
    "            x=\"Grade/100.00\", \n",
    "            bins=40)\n",
    "\n",
    "plt.axvline(60, color='red')\n",
    "\n",
    "# plt.savefig(\"Seaborn_histogram_with_displot.png\",\n",
    "#                     format='png',dpi=150)\n"
   ]
  },
  {
   "cell_type": "code",
   "execution_count": null,
   "metadata": {},
   "outputs": [],
   "source": []
  }
 ],
 "metadata": {
  "kernelspec": {
   "display_name": "base",
   "language": "python",
   "name": "python3"
  },
  "language_info": {
   "codemirror_mode": {
    "name": "ipython",
    "version": 3
   },
   "file_extension": ".py",
   "mimetype": "text/x-python",
   "name": "python",
   "nbconvert_exporter": "python",
   "pygments_lexer": "ipython3",
   "version": "3.9.13"
  },
  "orig_nbformat": 4
 },
 "nbformat": 4,
 "nbformat_minor": 2
}
