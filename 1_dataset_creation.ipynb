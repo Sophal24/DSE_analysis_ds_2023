{
 "cells": [
  {
   "cell_type": "markdown",
   "metadata": {},
   "source": [
    "## Dataset Creation"
   ]
  },
  {
   "cell_type": "code",
   "execution_count": 1,
   "metadata": {},
   "outputs": [],
   "source": [
    "import pandas as pd\n",
    "import glob\n",
    "import matplotlib.pyplot as plt"
   ]
  },
  {
   "cell_type": "markdown",
   "metadata": {},
   "source": [
    "### Read Datasets"
   ]
  },
  {
   "cell_type": "code",
   "execution_count": 2,
   "metadata": {},
   "outputs": [
    {
     "name": "stdout",
     "output_type": "stream",
     "text": [
      "Amount of CSV file:  1\n",
      "CSV data: ['data_source/All-Pretest/តេស្តចូលរៀន(ខេត្ត)-តេស្តចូលរៀន-grades.csv']\n"
     ]
    },
    {
     "data": {
      "text/html": [
       "<div>\n",
       "<style scoped>\n",
       "    .dataframe tbody tr th:only-of-type {\n",
       "        vertical-align: middle;\n",
       "    }\n",
       "\n",
       "    .dataframe tbody tr th {\n",
       "        vertical-align: top;\n",
       "    }\n",
       "\n",
       "    .dataframe thead th {\n",
       "        text-align: right;\n",
       "    }\n",
       "</style>\n",
       "<table border=\"1\" class=\"dataframe\">\n",
       "  <thead>\n",
       "    <tr style=\"text-align: right;\">\n",
       "      <th></th>\n",
       "      <th>Surname</th>\n",
       "      <th>First name</th>\n",
       "      <th>Email address</th>\n",
       "      <th>State</th>\n",
       "      <th>Started on</th>\n",
       "      <th>Completed</th>\n",
       "      <th>Time taken</th>\n",
       "      <th>Grade/100.00</th>\n",
       "      <th>Q. 1 /1.25</th>\n",
       "      <th>Q. 2 /1.25</th>\n",
       "      <th>...</th>\n",
       "      <th>Q. 71 /1.25</th>\n",
       "      <th>Q. 72 /1.25</th>\n",
       "      <th>Q. 73 /1.25</th>\n",
       "      <th>Q. 74 /1.25</th>\n",
       "      <th>Q. 75 /1.25</th>\n",
       "      <th>Q. 76 /1.25</th>\n",
       "      <th>Q. 77 /1.25</th>\n",
       "      <th>Q. 78 /1.25</th>\n",
       "      <th>Q. 79 /1.25</th>\n",
       "      <th>Q. 80 /1.25</th>\n",
       "    </tr>\n",
       "  </thead>\n",
       "  <tbody>\n",
       "    <tr>\n",
       "      <th>0</th>\n",
       "      <td>SIVHEANG</td>\n",
       "      <td>HONG</td>\n",
       "      <td>089360126@kpthom.com</td>\n",
       "      <td>Finished</td>\n",
       "      <td>23 July 2022  6:26 AM</td>\n",
       "      <td>25 July 2022  8:15 PM</td>\n",
       "      <td>2 days 13 hours</td>\n",
       "      <td>27.38</td>\n",
       "      <td>1.25</td>\n",
       "      <td>1.25</td>\n",
       "      <td>...</td>\n",
       "      <td>-</td>\n",
       "      <td>-</td>\n",
       "      <td>-</td>\n",
       "      <td>-</td>\n",
       "      <td>-</td>\n",
       "      <td>-</td>\n",
       "      <td>-</td>\n",
       "      <td>-</td>\n",
       "      <td>-</td>\n",
       "      <td>-</td>\n",
       "    </tr>\n",
       "    <tr>\n",
       "      <th>1</th>\n",
       "      <td>PHEAROM</td>\n",
       "      <td>HORT</td>\n",
       "      <td>hortphearom201@gmail.com</td>\n",
       "      <td>Finished</td>\n",
       "      <td>23 July 2022  6:36 AM</td>\n",
       "      <td>23 July 2022  7:56 AM</td>\n",
       "      <td>1 hour 20 mins</td>\n",
       "      <td>38.60</td>\n",
       "      <td>0.42</td>\n",
       "      <td>0.75</td>\n",
       "      <td>...</td>\n",
       "      <td>1.25</td>\n",
       "      <td>-</td>\n",
       "      <td>0.00</td>\n",
       "      <td>0.00</td>\n",
       "      <td>1.25</td>\n",
       "      <td>0.83</td>\n",
       "      <td>0.31</td>\n",
       "      <td>1.25</td>\n",
       "      <td>0.00</td>\n",
       "      <td>0.00</td>\n",
       "    </tr>\n",
       "    <tr>\n",
       "      <th>2</th>\n",
       "      <td>KONGKEA</td>\n",
       "      <td>PHAN</td>\n",
       "      <td>0317377222@odmchey.com</td>\n",
       "      <td>Finished</td>\n",
       "      <td>23 July 2022  6:38 AM</td>\n",
       "      <td>23 July 2022  7:58 AM</td>\n",
       "      <td>1 hour 20 mins</td>\n",
       "      <td>28.04</td>\n",
       "      <td>0.00</td>\n",
       "      <td>0.75</td>\n",
       "      <td>...</td>\n",
       "      <td>-</td>\n",
       "      <td>-</td>\n",
       "      <td>-</td>\n",
       "      <td>-</td>\n",
       "      <td>-</td>\n",
       "      <td>-</td>\n",
       "      <td>-</td>\n",
       "      <td>-</td>\n",
       "      <td>-</td>\n",
       "      <td>-</td>\n",
       "    </tr>\n",
       "    <tr>\n",
       "      <th>3</th>\n",
       "      <td>LYDA</td>\n",
       "      <td>SOHEAN</td>\n",
       "      <td>017974972@kpthom.com</td>\n",
       "      <td>Finished</td>\n",
       "      <td>23 July 2022  6:44 AM</td>\n",
       "      <td>23 July 2022  8:04 AM</td>\n",
       "      <td>1 hour 20 mins</td>\n",
       "      <td>18.33</td>\n",
       "      <td>0.63</td>\n",
       "      <td>1.25</td>\n",
       "      <td>...</td>\n",
       "      <td>-</td>\n",
       "      <td>-</td>\n",
       "      <td>-</td>\n",
       "      <td>-</td>\n",
       "      <td>-</td>\n",
       "      <td>-</td>\n",
       "      <td>-</td>\n",
       "      <td>-</td>\n",
       "      <td>-</td>\n",
       "      <td>-</td>\n",
       "    </tr>\n",
       "    <tr>\n",
       "      <th>4</th>\n",
       "      <td>សាត់ស្យា</td>\n",
       "      <td>អៀង</td>\n",
       "      <td>098982928@odmchey.com</td>\n",
       "      <td>Finished</td>\n",
       "      <td>23 July 2022  6:47 AM</td>\n",
       "      <td>23 July 2022  8:07 AM</td>\n",
       "      <td>1 hour 20 mins</td>\n",
       "      <td>30.38</td>\n",
       "      <td>0.00</td>\n",
       "      <td>0.00</td>\n",
       "      <td>...</td>\n",
       "      <td>0.00</td>\n",
       "      <td>0.63</td>\n",
       "      <td>0.25</td>\n",
       "      <td>0.00</td>\n",
       "      <td>0.00</td>\n",
       "      <td>0.21</td>\n",
       "      <td>-</td>\n",
       "      <td>-</td>\n",
       "      <td>-</td>\n",
       "      <td>-</td>\n",
       "    </tr>\n",
       "  </tbody>\n",
       "</table>\n",
       "<p>5 rows × 88 columns</p>\n",
       "</div>"
      ],
      "text/plain": [
       "    Surname First name             Email address     State  \\\n",
       "0  SIVHEANG       HONG      089360126@kpthom.com  Finished   \n",
       "1   PHEAROM       HORT  hortphearom201@gmail.com  Finished   \n",
       "2   KONGKEA       PHAN    0317377222@odmchey.com  Finished   \n",
       "3      LYDA     SOHEAN      017974972@kpthom.com  Finished   \n",
       "4  សាត់ស្យា        អៀង     098982928@odmchey.com  Finished   \n",
       "\n",
       "              Started on              Completed       Time taken Grade/100.00  \\\n",
       "0  23 July 2022  6:26 AM  25 July 2022  8:15 PM  2 days 13 hours        27.38   \n",
       "1  23 July 2022  6:36 AM  23 July 2022  7:56 AM   1 hour 20 mins        38.60   \n",
       "2  23 July 2022  6:38 AM  23 July 2022  7:58 AM   1 hour 20 mins        28.04   \n",
       "3  23 July 2022  6:44 AM  23 July 2022  8:04 AM   1 hour 20 mins        18.33   \n",
       "4  23 July 2022  6:47 AM  23 July 2022  8:07 AM   1 hour 20 mins        30.38   \n",
       "\n",
       "  Q. 1 /1.25 Q. 2 /1.25  ... Q. 71 /1.25 Q. 72 /1.25 Q. 73 /1.25 Q. 74 /1.25  \\\n",
       "0       1.25       1.25  ...           -           -           -           -   \n",
       "1       0.42       0.75  ...        1.25           -        0.00        0.00   \n",
       "2       0.00       0.75  ...           -           -           -           -   \n",
       "3       0.63       1.25  ...           -           -           -           -   \n",
       "4       0.00       0.00  ...        0.00        0.63        0.25        0.00   \n",
       "\n",
       "  Q. 75 /1.25 Q. 76 /1.25 Q. 77 /1.25 Q. 78 /1.25 Q. 79 /1.25 Q. 80 /1.25  \n",
       "0           -           -           -           -           -           -  \n",
       "1        1.25        0.83        0.31        1.25        0.00        0.00  \n",
       "2           -           -           -           -           -           -  \n",
       "3           -           -           -           -           -           -  \n",
       "4        0.00        0.21           -           -           -           -  \n",
       "\n",
       "[5 rows x 88 columns]"
      ]
     },
     "execution_count": 2,
     "metadata": {},
     "output_type": "execute_result"
    }
   ],
   "source": [
    "csv_data_paths = glob.glob('data_source/**/*.csv', recursive=True)\n",
    "print(\"Amount of CSV file: \", len(csv_data_paths))\n",
    "print(\"CSV data:\", csv_data_paths)\n",
    "\n",
    "df_csv_format_pretest = pd.read_csv(csv_data_paths[0])\n",
    "df_csv_format_pretest = df_csv_format_pretest.head(len(df_csv_format_pretest)-1)\n",
    "df_csv_format_pretest.head(5)\n"
   ]
  },
  {
   "cell_type": "code",
   "execution_count": 3,
   "metadata": {},
   "outputs": [
    {
     "name": "stdout",
     "output_type": "stream",
     "text": [
      "Amount of CSV file:  20\n",
      "Excel Data: ['data_source/ប្រឡងវិញ្ញាបនបត្រជំនាញឌីជីថលចាំបាច់ (ខេត្តព្រះវិហា ឧត្តមានជ័យ សៀមរាប-៧)/Exam-PVH-UDM-7-ប្រឡង-grades.xlsx', 'data_source/ប្រឡងវិញ្ញាបនបត្រជំនាញឌីជីថលចាំបាច់ (ខេត្តព្រះវិហា ឧត្តមានជ័យ សៀមរាប-៧)/Exam-PVH-UDM-7-ប្រឡង-questionstats.xlsx', 'data_source/ប្រឡងវិញ្ញាបនបត្រជំនាញឌីជីថលចាំបាច់/DSE-EXAM-ERA5-Senate-វិញ្ញាសាប្រឡង-grades (1).xlsx', 'data_source/ប្រឡងវិញ្ញាបនបត្រជំនាញឌីជីថលចាំបាច់/DSE-EXAM-ERA5-Senate-វិញ្ញាសាប្រឡង-questionstats.xlsx', 'data_source/ប្រឡងវិញ្ញាបនបត្រជំនាញឌីជីថលចាំបាច់ខេត្តកែប-កំពត-ព្រះសីហនុ-កោះកុង/questionstats.xlsx', 'data_source/ប្រឡងវិញ្ញាបនបត្រជំនាញឌីជីថលចាំបាច់ខេត្តកែប-កំពត-ព្រះសីហនុ-កោះកុង/grades.xlsx', 'data_source/ប្រឡងវិញ្ញាបនបត្រជំនាញឌីជីថលចាំបាច់ (Senate-City Hall & Moeys)/ប្រឡងវិញ្ញាបនបត្រជំនាញឌីជីថលចាំបាច់(2022)-ប្រឡងវិញ្ញាបនបត្រជំនាញឌីជីថលចាំបាច់-grades.xlsx', 'data_source/ប្រឡងវិញ្ញាបនបត្រជំនាញឌីជីថលចាំបាច់ (Senate-City Hall & Moeys)/ប្រឡងវិញ្ញាបនបត្រជំនាញឌីជីថលចាំបាច់(2022)-ប្រឡងវិញ្ញាបនបត្រជំនាញឌីជីថលចាំបាច់-questionstats.xlsx', 'data_source/ប្រឡងវិញ្ញាបនបត្រជំនាញឌីជីថលចាំបាច់ខេត្តបន្ទាយមានជ័យ -\\u200b ខេត្តបាត់ដំបង -ពោធិ៍សាត់ -កំពង់ឆ្នាំង-ប៉ៃលិន (DSE-09)/questionstats.xlsx', 'data_source/ប្រឡងវិញ្ញាបនបត្រជំនាញឌីជីថលចាំបាច់ខេត្តបន្ទាយមានជ័យ -\\u200b ខេត្តបាត់ដំបង -ពោធិ៍សាត់ -កំពង់ឆ្នាំង-ប៉ៃលិន (DSE-09)/grades (1).xlsx', 'data_source/ប្រឡងវិញ្ញាបនបត្រជំនាញឌីជីថលចាំបាច់ នៃក្រសួងប្រៃសណីយ៍ និងទូរគមនាគមន៍-8/ប្រឡងវិញ្ញាបនបត្រក្រសួងប្រៃសណីយ៍ និងទូរគមនាគមន៍-ប្រឡងវិញ្ញាបនបត្រ DSE (ក្រសួងប្រៃសណីយ៍ និងទូរគមនាគមន៍-8)-grades.xlsx', 'data_source/ប្រឡងវិញ្ញាបនបត្រជំនាញឌីជីថលចាំបាច់ នៃក្រសួងប្រៃសណីយ៍ និងទូរគមនាគមន៍-8/ប្រឡងវិញ្ញាបនបត្រក្រសួងប្រៃសណីយ៍ និងទូរគមនាគមន៍-ប្រឡងវិញ្ញាបនបត្រ DSE (ក្រសួងប្រៃសណីយ៍ និងទូរគមនាគមន៍-8)-questionstats.xlsx', 'data_source/ប្រឡងវិញ្ញាបនបត្រជំនាញឌីជីថលចាំបាច់ (CADT)/ប្រឡងវិញ្ញាបនបត្រជំនាញឌីជីថលចាំបាច់ (CADT-1)-Exam-grades.xlsx', 'data_source/ប្រឡងវិញ្ញាបនបត្រជំនាញឌីជីថលចាំបាច់ (CADT)/ប្រឡងវិញ្ញាបនបត្រជំនាញឌីជីថលចាំបាច់ (CADT-1)-Exam-questionstats.xlsx', 'data_source/ប្រឡងវិញ្ញាបនបត្រជំនាញឌីជីថលចាំបាច់ (ខេត្ត-6)/ប្រឡងវិញ្ញាបនបត្រជំនាញឌីជីថលចាំបាច់(2022)-ប្រឡងវិញ្ញាបនបត្រជំនាញឌីជីថលចាំបាច់-grades.xlsx', 'data_source/ប្រឡងវិញ្ញាបនបត្រជំនាញឌីជីថលចាំបាច់ (ខេត្ត-6)/ប្រឡងវិញ្ញាបនបត្រជំនាញឌីជីថលចាំបាច់(2022)-ប្រឡងវិញ្ញាបនបត្រជំនាញឌីជីថលចាំបាច់-questionstats.xlsx', 'data_source/All-Pretest/តេស្តចូលរៀន( ខេត្តព្រះសីហនុ + ប៉ៃលិន)-តេស្ត-grades.xlsx', 'data_source/All-Pretest/តេស្តចូលរៀន4-តេស្តចូលរៀន-grades.xlsx', 'data_source/All-Pretest/តេស្តចូលរៀន-តេស្តចូលរៀន-grades.xlsx', 'data_source/All-Pretest/តេស្តចូលរៀនមន្រ្តីរាជការទូទៅ តេស្តចូលរៀន-grades.xlsx']\n"
     ]
    }
   ],
   "source": [
    "excel_data_paths = glob.glob('data_source/**/*.xlsx', recursive=True)\n",
    "print(\"Amount of CSV file: \", len(excel_data_paths))\n",
    "print(\"Excel Data:\", excel_data_paths)"
   ]
  },
  {
   "cell_type": "markdown",
   "metadata": {},
   "source": [
    "### Combine All-Pretest"
   ]
  },
  {
   "cell_type": "code",
   "execution_count": 4,
   "metadata": {},
   "outputs": [
    {
     "name": "stdout",
     "output_type": "stream",
     "text": [
      "data_source/All-Pretest/តេស្តចូលរៀន( ខេត្តព្រះសីហនុ + ប៉ៃលិន)-តេស្ត-grades.xlsx\n",
      "Dataset shape (794, 88)\n",
      "\n",
      "data_source/All-Pretest/តេស្តចូលរៀន4-តេស្តចូលរៀន-grades.xlsx\n",
      "Dataset shape (280, 88)\n",
      "\n",
      "data_source/All-Pretest/តេស្តចូលរៀន-តេស្តចូលរៀន-grades.xlsx\n",
      "Dataset shape (711, 88)\n",
      "\n",
      "data_source/All-Pretest/តេស្តចូលរៀនមន្រ្តីរាជការទូទៅ តេស្តចូលរៀន-grades.xlsx\n",
      "Dataset shape (792, 88)\n",
      "\n",
      "DataFrame without Duplicates:\n",
      "Total: 3195\n"
     ]
    }
   ],
   "source": [
    "df_pre_test_combined = pd.DataFrame()\n",
    "all_pretest_count = 0\n",
    "for path in excel_data_paths:\n",
    "    if('All-Pretest' not in path):\n",
    "        continue\n",
    "    else:\n",
    "        print(path)\n",
    "        df = pd.read_excel(path)\n",
    "        df = df.head(len(df)-1) # drop the last row\n",
    "        print(\"Dataset shape\", df.shape) \n",
    "        all_pretest_count = all_pretest_count + df.shape[0] \n",
    "        print()\n",
    "\n",
    "        # combine dataset - all_pretest\n",
    "        df_pre_test_combined = pd.concat([df_pre_test_combined, df], ignore_index=True)\n",
    "    # break\n",
    "\n",
    "df_pre_test_combined = pd.concat([df_pre_test_combined, df_csv_format_pretest], ignore_index=True)\n",
    "# Remove duplicated rows\n",
    "df_no_duplicates = df_pre_test_combined.drop_duplicates(keep='first')\n",
    "print(\"DataFrame without Duplicates:\")\n",
    "\n",
    "df = df_no_duplicates\n",
    "\n",
    "# print(all_pretest_count)\n",
    "print(\"Total:\", len(df_pre_test_combined))\n",
    "# print(df_pre_test_combined.head(5))\n",
    "\n",
    "result = df_pre_test_combined.to_csv(\"./datasets/all_pretest_combined.csv\")"
   ]
  },
  {
   "cell_type": "markdown",
   "metadata": {},
   "source": [
    "### Combine All Test"
   ]
  },
  {
   "cell_type": "code",
   "execution_count": 5,
   "metadata": {},
   "outputs": [
    {
     "name": "stdout",
     "output_type": "stream",
     "text": [
      "data_source/ប្រឡងវិញ្ញាបនបត្រជំនាញឌីជីថលចាំបាច់ (ខេត្តព្រះវិហា ឧត្តមានជ័យ សៀមរាប-៧)/Exam-PVH-UDM-7-ប្រឡង-grades.xlsx\n",
      "Dataset shape (199, 108)\n",
      "\n",
      "data_source/ប្រឡងវិញ្ញាបនបត្រជំនាញឌីជីថលចាំបាច់/DSE-EXAM-ERA5-Senate-វិញ្ញាសាប្រឡង-grades (1).xlsx\n",
      "Dataset shape (672, 108)\n",
      "\n",
      "data_source/ប្រឡងវិញ្ញាបនបត្រជំនាញឌីជីថលចាំបាច់ខេត្តកែប-កំពត-ព្រះសីហនុ-កោះកុង/grades.xlsx\n",
      "Dataset shape (279, 108)\n",
      "\n",
      "data_source/ប្រឡងវិញ្ញាបនបត្រជំនាញឌីជីថលចាំបាច់ (Senate-City Hall & Moeys)/ប្រឡងវិញ្ញាបនបត្រជំនាញឌីជីថលចាំបាច់(2022)-ប្រឡងវិញ្ញាបនបត្រជំនាញឌីជីថលចាំបាច់-grades.xlsx\n",
      "Dataset shape (174, 108)\n",
      "\n",
      "data_source/ប្រឡងវិញ្ញាបនបត្រជំនាញឌីជីថលចាំបាច់ខេត្តបន្ទាយមានជ័យ -​ ខេត្តបាត់ដំបង -ពោធិ៍សាត់ -កំពង់ឆ្នាំង-ប៉ៃលិន (DSE-09)/grades (1).xlsx\n",
      "Dataset shape (345, 108)\n",
      "\n",
      "data_source/ប្រឡងវិញ្ញាបនបត្រជំនាញឌីជីថលចាំបាច់ នៃក្រសួងប្រៃសណីយ៍ និងទូរគមនាគមន៍-8/ប្រឡងវិញ្ញាបនបត្រក្រសួងប្រៃសណីយ៍ និងទូរគមនាគមន៍-ប្រឡងវិញ្ញាបនបត្រ DSE (ក្រសួងប្រៃសណីយ៍ និងទូរគមនាគមន៍-8)-grades.xlsx\n",
      "Dataset shape (230, 108)\n",
      "\n",
      "data_source/ប្រឡងវិញ្ញាបនបត្រជំនាញឌីជីថលចាំបាច់ (CADT)/ប្រឡងវិញ្ញាបនបត្រជំនាញឌីជីថលចាំបាច់ (CADT-1)-Exam-grades.xlsx\n",
      "Dataset shape (169, 108)\n",
      "\n",
      "data_source/ប្រឡងវិញ្ញាបនបត្រជំនាញឌីជីថលចាំបាច់ (ខេត្ត-6)/ប្រឡងវិញ្ញាបនបត្រជំនាញឌីជីថលចាំបាច់(2022)-ប្រឡងវិញ្ញាបនបត្រជំនាញឌីជីថលចាំបាច់-grades.xlsx\n",
      "Dataset shape (174, 108)\n",
      "\n",
      "Total: 2242\n"
     ]
    }
   ],
   "source": [
    "df_test_combined = pd.DataFrame()\n",
    "all_test_count = 0\n",
    "\n",
    "for path in excel_data_paths:\n",
    "    if('All-Pretest' in path or 'questionstats' in path):\n",
    "        continue\n",
    "    else:\n",
    "        print(path)\n",
    "        df = pd.read_excel(path)\n",
    "        df = df.head(len(df)-1) # drop the last row\n",
    "        print(\"Dataset shape\", df.shape)\n",
    "        all_test_count = all_test_count + df.shape[0]\n",
    "        print()\n",
    "\n",
    "        # combine dataset - all_pretest\n",
    "        df_test_combined = pd.concat([df_test_combined, df], ignore_index=True)\n",
    "\n",
    "print(\"Total:\", all_test_count)\n",
    "# print(df_pre_test_combined.head(5))\n",
    "\n",
    "# df_test_combined = df_test_combined.drop_duplicates(keep='first')\n",
    "# print(\"DataFrame without Duplicates:\")\n",
    "# print(\"Total:\", len(df_test_combined))\n",
    "\n",
    "df_test_combined.to_csv(\"./datasets/all_test_combined.csv\")"
   ]
  },
  {
   "cell_type": "markdown",
   "metadata": {},
   "source": [
    "# Test on Dataset"
   ]
  },
  {
   "cell_type": "markdown",
   "metadata": {},
   "source": [
    "## Function to display dataset information - PASSING SCORE 60"
   ]
  },
  {
   "cell_type": "code",
   "execution_count": 6,
   "metadata": {},
   "outputs": [],
   "source": [
    "def dataset_information(path):\n",
    "    df = pd.read_excel(path)\n",
    "    print(df)\n",
    "\n",
    "    # Replace - with None\n",
    "    columns = df.columns\n",
    "    for col in columns:\n",
    "        df[col] = df[col].replace(['-'], float(0))\n",
    "\n",
    "    df['Grade/100.00'] = df['Grade/100.00'].astype('float64')\n",
    "\n",
    "    df.loc[df['Grade/100.00'] >= float(60), 'label'] = 'Passed'\n",
    "    df.loc[df['Grade/100.00'] < float(60), 'label'] = 'Failed'\n",
    "\n",
    "    num_failed = len(df[df['label'] == 'Failed'])\n",
    "    num_passed = len(df[df['label'] == 'Passed'])\n",
    "\n",
    "    num_of_examinee = len(df)\n",
    "    num_finished_examinee = len(df[df['State'] == \"Finished\"])\n",
    "    num_in_progress_examinee = len(df[df['State'] != \"Finished\"])\n",
    "    num_failed = len(df[df['label'] == 'Failed'])\n",
    "    num_passed = len(df[df['label'] == 'Passed'])\n",
    "\n",
    "    \n",
    "\n",
    "    print(\"Total Examinee:\", num_of_examinee)\n",
    "    print(\"Total Finished Examinee:\", num_finished_examinee)\n",
    "    print(\"Total Examinee in Progress:\", num_in_progress_examinee)\n",
    "    print(\"Number of Passed Examinee:\", num_passed, \" | Passing rate:\", num_passed / (num_passed+num_failed))\n",
    "    print(\"Number of Failed Examinee:\", num_failed, \" | Failing rate:\", num_failed / (num_passed+num_failed))\n",
    "    \n",
    "    passed_df = df[df['label'] == 'Passed']\n",
    "    print(\"Average Score of Passed Examinee: \", passed_df['Grade/100.00'].mean())\n",
    "    failed_df = df[df['label'] == 'Failed']\n",
    "    print(\"Average Score of Failed Examinee: \", failed_df['Grade/100.00'].mean())\n",
    "    "
   ]
  },
  {
   "cell_type": "code",
   "execution_count": 7,
   "metadata": {},
   "outputs": [],
   "source": [
    "# for path in excel_data_paths:\n",
    "#     if('All-Pretest' in path or 'questionstats' in path):\n",
    "#         continue\n",
    "#     else:\n",
    "#         print(path)\n",
    "#         dataset_information(path)\n",
    "    \n",
    "#     print()\n"
   ]
  },
  {
   "cell_type": "markdown",
   "metadata": {},
   "source": [
    "#### 1. ខេត្តព្រះវិហារ ឧត្តរមានជ័យ សៀមរាប"
   ]
  },
  {
   "cell_type": "code",
   "execution_count": 8,
   "metadata": {},
   "outputs": [
    {
     "name": "stdout",
     "output_type": "stream",
     "text": [
      "             Surname First name               Email address     State  \\\n",
      "0                ហ៊ន        គឹម  dp230109@DSEPROVINCE23.com  Finished   \n",
      "1         ពេជ្រពន្លឺ        ជុំ  dp230126@DSEPROVINCE23.com  Finished   \n",
      "2            កន្និកា         ងី  dp230112@DSEPROVINCE23.com  Finished   \n",
      "3            សុវណ្ណៈ        ឆាយ  dp230119@DSEPROVINCE23.com  Finished   \n",
      "4              កញ្ញា        គង់  dp230107@DSEPROVINCE23.com  Finished   \n",
      "..               ...        ...                         ...       ...   \n",
      "195            សោភ័ណ       អ៊ាន  dp230488@DSEPROVINCE23.com  Finished   \n",
      "196              បុង        សួង  dp230469@DSEPROVINCE23.com  Finished   \n",
      "197             វិភា         វន  dp230448@DSEPROVINCE23.com  Finished   \n",
      "198            សំកុល      ហ៊ុល​  dp230482@DSEPROVINCE23.com  Finished   \n",
      "199  Overall average        NaN                         NaN       NaN   \n",
      "\n",
      "                   Started on                  Completed       Time taken  \\\n",
      "0    12 January 2023  8:25 AM  12 January 2023  10:20 AM   1 hour 55 mins   \n",
      "1    12 January 2023  8:25 AM  12 January 2023  10:25 AM          2 hours   \n",
      "2    12 January 2023  8:25 AM   12 January 2023  9:42 AM   1 hour 16 mins   \n",
      "3    12 January 2023  8:25 AM  12 January 2023  10:20 AM   1 hour 55 mins   \n",
      "4    12 January 2023  8:25 AM   12 January 2023  9:58 AM   1 hour 32 mins   \n",
      "..                        ...                        ...              ...   \n",
      "195  19 January 2023  3:22 PM   19 January 2023  4:18 PM  55 mins 51 secs   \n",
      "196  19 January 2023  3:23 PM   19 January 2023  5:18 PM   1 hour 54 mins   \n",
      "197  19 January 2023  3:25 PM   19 January 2023  5:08 PM   1 hour 43 mins   \n",
      "198  19 January 2023  3:36 PM   19 January 2023  5:00 PM   1 hour 24 mins   \n",
      "199                       NaN                        NaN              NaN   \n",
      "\n",
      "     Grade/100.00  Q. 1 /1.00 Q. 2 /1.00  ... Q. 91 /1.00 Q. 92 /1.00  \\\n",
      "0           59.48         1.0       0.00  ...        0.17        0.67   \n",
      "1           45.73         1.0       0.00  ...           -        0.50   \n",
      "2           55.73         0.0       0.00  ...        1.00        0.00   \n",
      "3           55.82         1.0       1.00  ...        1.00        0.67   \n",
      "4           61.13         0.0       0.00  ...        1.00        1.00   \n",
      "..            ...         ...        ...  ...         ...         ...   \n",
      "195         42.85         0.0       1.00  ...        1.00        0.00   \n",
      "196         43.43         1.0          -  ...        0.75        0.33   \n",
      "197         58.60         1.0       1.00  ...        0.67        1.00   \n",
      "198         56.58         1.0       0.00  ...        1.00        1.00   \n",
      "199         53.11         0.6       0.55  ...        0.43        0.50   \n",
      "\n",
      "    Q. 93 /1.00 Q. 94 /1.00 Q. 95 /1.00 Q. 96 /1.00 Q. 97 /1.00 Q. 98 /1.00  \\\n",
      "0          0.00        1.00        1.00        0.00        1.00        0.00   \n",
      "1          0.00           -           -           -           -           -   \n",
      "2          1.00        1.00        0.67        1.00        1.00        1.00   \n",
      "3          0.00        0.00        1.00        1.00        1.00        0.00   \n",
      "4          1.00        1.00        0.00        0.00        1.00        1.00   \n",
      "..          ...         ...         ...         ...         ...         ...   \n",
      "195        1.00        0.00        0.00        0.00        0.00        0.00   \n",
      "196        0.00        0.00        0.00        1.00        1.00        0.50   \n",
      "197        1.00        0.00        0.17        1.00        1.00        0.50   \n",
      "198        1.00        0.00        0.00        1.00        0.00        0.00   \n",
      "199        0.37        0.35        0.35        0.43        0.44        0.46   \n",
      "\n",
      "    Q. 99 /1.00  Q. 100 /1.00  \n",
      "0          1.00          0.00  \n",
      "1             -             -  \n",
      "2          0.00          1.00  \n",
      "3          0.00          0.00  \n",
      "4          1.00          0.00  \n",
      "..          ...           ...  \n",
      "195        1.00          1.00  \n",
      "196        0.00          1.00  \n",
      "197        0.00          1.00  \n",
      "198        0.00          0.00  \n",
      "199        0.43          0.36  \n",
      "\n",
      "[200 rows x 108 columns]\n",
      "Total Examinee: 200\n",
      "Total Finished Examinee: 199\n",
      "Total Examinee in Progress: 1\n",
      "Number of Passed Examinee: 58  | Passing rate: 0.29\n",
      "Number of Failed Examinee: 142  | Failing rate: 0.71\n",
      "Average Score of Passed Examinee:  68.10310344827586\n",
      "Average Score of Failed Examinee:  46.98387323943661\n"
     ]
    },
    {
     "name": "stderr",
     "output_type": "stream",
     "text": [
      "/var/folders/dt/90w7dnxx5xzfd7px48yrrpt00000gn/T/ipykernel_8276/2058015647.py:12: PerformanceWarning: DataFrame is highly fragmented.  This is usually the result of calling `frame.insert` many times, which has poor performance.  Consider joining all columns at once using pd.concat(axis=1) instead. To get a de-fragmented frame, use `newframe = frame.copy()`\n",
      "  df.loc[df['Grade/100.00'] >= float(60), 'label'] = 'Passed'\n"
     ]
    }
   ],
   "source": [
    "dataset_information('data_source/ប្រឡងវិញ្ញាបនបត្រជំនាញឌីជីថលចាំបាច់ (ខេត្តព្រះវិហា ឧត្តមានជ័យ សៀមរាប-៧)/Exam-PVH-UDM-7-ប្រឡង-grades.xlsx')"
   ]
  },
  {
   "cell_type": "markdown",
   "metadata": {},
   "source": [
    "#### 2. ភូមិន្ធរដ្ឋបាល"
   ]
  },
  {
   "cell_type": "code",
   "execution_count": 9,
   "metadata": {},
   "outputs": [
    {
     "name": "stdout",
     "output_type": "stream",
     "text": [
      "             Surname First name              Email address     State  \\\n",
      "0     វង្សច័ន្ទភូមាន        គៀត       D220131@DSEERA22.com  Finished   \n",
      "1               វីរះ        ឃឹម       D220119@DSEERA22.com  Finished   \n",
      "2          សុផារ៉ាត់        កែម       D220135@DSEERA22.com  Finished   \n",
      "3              សុគន់        គេច       D220116@DSEERA22.com  Finished   \n",
      "4          សេរីរិទ្ធ        កុល       D220120@DSEERA22.com  Finished   \n",
      "..               ...        ...                        ...       ...   \n",
      "668             សូដា        សែម  dp23457@DSEPROVINCE23.com  Finished   \n",
      "669          បូរ៉ាណេ        ហេង  dp23462@DSEPROVINCE23.com  Finished   \n",
      "670            សារិត       ស្រី  dp23459@DSEPROVINCE23.com  Finished   \n",
      "671         វ៉ាន់ដែន         សៅ  dp23458@DSEPROVINCE23.com  Finished   \n",
      "672  Overall average        NaN                        NaN       NaN   \n",
      "\n",
      "                    Started on                   Completed      Time taken  \\\n",
      "0    23 December 2022  8:14 AM   23 December 2022  9:52 AM  1 hour 37 mins   \n",
      "1    23 December 2022  8:14 AM  23 December 2022  10:14 AM         2 hours   \n",
      "2    23 December 2022  8:14 AM  23 December 2022  10:02 AM  1 hour 47 mins   \n",
      "3    23 December 2022  8:15 AM  23 December 2022  10:15 AM         2 hours   \n",
      "4    23 December 2022  8:15 AM   23 December 2022  9:56 AM  1 hour 40 mins   \n",
      "..                         ...                         ...             ...   \n",
      "668     3 August 2023  1:56 PM      3 August 2023  3:10 PM  1 hour 13 mins   \n",
      "669     3 August 2023  1:57 PM      3 August 2023  3:55 PM  1 hour 58 mins   \n",
      "670     3 August 2023  1:57 PM      3 August 2023  3:57 PM         2 hours   \n",
      "671     3 August 2023  1:57 PM      3 August 2023  3:57 PM         2 hours   \n",
      "672                        NaN                         NaN             NaN   \n",
      "\n",
      "    Grade/100.00 Q. 1 /1.00 Q. 2 /1.00  ... Q. 91 /1.00 Q. 92 /1.00  \\\n",
      "0          58.13       1.00       1.00  ...        0.00        0.00   \n",
      "1          69.38       1.00       1.00  ...        1.00        1.00   \n",
      "2          54.31       0.00       0.00  ...        0.00        0.50   \n",
      "3          51.46       0.00       1.00  ...           -           -   \n",
      "4          55.92       0.00       1.00  ...        1.00        0.67   \n",
      "..           ...        ...        ...  ...         ...         ...   \n",
      "668        36.68       0.00       1.00  ...        0.00        1.00   \n",
      "669        73.75       1.00       0.00  ...        0.50        0.00   \n",
      "670        27.67       1.00       0.00  ...           -           -   \n",
      "671        51.30       1.00       0.00  ...        1.00        1.00   \n",
      "672        58.22       0.59       0.58  ...        0.56        0.58   \n",
      "\n",
      "    Q. 93 /1.00 Q. 94 /1.00 Q. 95 /1.00 Q. 96 /1.00 Q. 97 /1.00 Q. 98 /1.00  \\\n",
      "0          0.00        1.00        0.00        0.00        1.00        0.00   \n",
      "1          0.00        1.00        1.00        0.17        0.00        0.00   \n",
      "2          1.00        0.17        0.00        0.00        0.00        1.00   \n",
      "3             -           -           -           -           -           -   \n",
      "4          1.00        0.00        1.00        0.00        1.00        0.00   \n",
      "..          ...         ...         ...         ...         ...         ...   \n",
      "668        0.17        0.00        0.00        0.17        1.00        0.00   \n",
      "669        0.00        0.00        1.00        1.00        0.00        1.00   \n",
      "670           -           -           -           -           -           -   \n",
      "671        1.00        0.00        1.00        1.00        0.00        1.00   \n",
      "672        0.47        0.46        0.46        0.50        0.51        0.49   \n",
      "\n",
      "    Q. 99 /1.00 Q. 100 /1.00  \n",
      "0          0.00         0.00  \n",
      "1          1.00         1.00  \n",
      "2          0.17         0.00  \n",
      "3             -            -  \n",
      "4          1.00         0.00  \n",
      "..          ...          ...  \n",
      "668        1.00         0.33  \n",
      "669        1.00         0.00  \n",
      "670           -            -  \n",
      "671           -            -  \n",
      "672        0.52         0.46  \n",
      "\n",
      "[673 rows x 108 columns]\n",
      "Total Examinee: 673\n",
      "Total Finished Examinee: 670\n",
      "Total Examinee in Progress: 3\n",
      "Number of Passed Examinee: 303  | Passing rate: 0.45022288261515603\n",
      "Number of Failed Examinee: 370  | Failing rate: 0.549777117384844\n",
      "Average Score of Passed Examinee:  71.74980198019801\n",
      "Average Score of Failed Examinee:  46.82027027027027\n"
     ]
    },
    {
     "name": "stderr",
     "output_type": "stream",
     "text": [
      "/var/folders/dt/90w7dnxx5xzfd7px48yrrpt00000gn/T/ipykernel_8276/2058015647.py:12: PerformanceWarning: DataFrame is highly fragmented.  This is usually the result of calling `frame.insert` many times, which has poor performance.  Consider joining all columns at once using pd.concat(axis=1) instead. To get a de-fragmented frame, use `newframe = frame.copy()`\n",
      "  df.loc[df['Grade/100.00'] >= float(60), 'label'] = 'Passed'\n"
     ]
    }
   ],
   "source": [
    "dataset_information('data_source/ប្រឡងវិញ្ញាបនបត្រជំនាញឌីជីថលចាំបាច់/DSE-EXAM-ERA5-Senate-វិញ្ញាសាប្រឡង-grades (1).xlsx')"
   ]
  },
  {
   "cell_type": "markdown",
   "metadata": {},
   "source": [
    "#### 3. កែប កំពត ព្រះសីហនុ កោះកុង"
   ]
  },
  {
   "cell_type": "code",
   "execution_count": 10,
   "metadata": {},
   "outputs": [
    {
     "name": "stdout",
     "output_type": "stream",
     "text": [
      "             Surname First name               Email address     State  \\\n",
      "0              គន្ធី        អោក  dp231623@DSEPROVINCE23.com  Finished   \n",
      "1              ណារ៉ា       គ្រី  dp231556@DSEPROVINCE23.com  Finished   \n",
      "2             ចាន់ថន        ឃឹម  dp231598@DSEPROVINCE23.com  Finished   \n",
      "3          រ័ត្នលីដា         ឃី  dp231599@DSEPROVINCE23.com  Finished   \n",
      "4           សម្បត្តិ         ជា  dp231558@DSEPROVINCE23.com  Finished   \n",
      "..               ...        ...                         ...       ...   \n",
      "275           ស៊ីងួន        ហួយ  dp231914@DSEPROVINCE23.com  Finished   \n",
      "276          ស៊ាងហុង        ហេង  dp231918@DSEPROVINCE23.com  Finished   \n",
      "277          សាដែត្យ        សួន  dp231901@DSEPROVINCE23.com  Finished   \n",
      "278        វណ្ណទិត្យ        វ៉ា  dp231888@DSEPROVINCE23.com  Finished   \n",
      "279  Overall average        NaN                         NaN       NaN   \n",
      "\n",
      "                  Started on                Completed      Time taken  \\\n",
      "0     14 March 2023  1:26 PM   14 March 2023  3:26 PM         2 hours   \n",
      "1     15 March 2023  9:33 AM  15 March 2023  11:25 AM  1 hour 51 mins   \n",
      "2     15 March 2023  9:34 AM  15 March 2023  11:29 AM  1 hour 55 mins   \n",
      "3     15 March 2023  9:35 AM  15 March 2023  11:33 AM  1 hour 58 mins   \n",
      "4     15 March 2023  9:35 AM  15 March 2023  11:32 AM  1 hour 56 mins   \n",
      "..                       ...                      ...             ...   \n",
      "275  24 March 2023  10:31 AM  24 March 2023  12:31 PM         2 hours   \n",
      "276  24 March 2023  10:31 AM  24 March 2023  12:21 PM  1 hour 49 mins   \n",
      "277  24 March 2023  10:32 AM  24 March 2023  12:32 PM         2 hours   \n",
      "278  24 March 2023  10:32 AM  24 March 2023  12:14 PM  1 hour 41 mins   \n",
      "279                      NaN                      NaN             NaN   \n",
      "\n",
      "     Grade/100.00 Q. 1 /1.00 Q. 2 /1.00  ... Q. 91 /1.00 Q. 92 /1.00  \\\n",
      "0           69.93       1.00       1.00  ...        1.00        0.67   \n",
      "1           28.08          -          -  ...        0.00        0.50   \n",
      "2           41.92       0.00       1.00  ...        0.25        0.00   \n",
      "3           64.12       1.00       1.00  ...        1.00        0.00   \n",
      "4           52.87       1.00       0.00  ...        0.67        0.00   \n",
      "..            ...        ...        ...  ...         ...         ...   \n",
      "275         20.90       1.00       1.00  ...           -           -   \n",
      "276         53.18       0.00       1.00  ...        0.33        0.00   \n",
      "277         43.47       1.00       0.00  ...        0.00        0.00   \n",
      "278         37.95       1.00       1.00  ...        0.33        0.00   \n",
      "279         52.06       0.57       0.51  ...        0.38        0.48   \n",
      "\n",
      "    Q. 93 /1.00 Q. 94 /1.00 Q. 95 /1.00 Q. 96 /1.00 Q. 97 /1.00 Q. 98 /1.00  \\\n",
      "0          0.00        1.00        1.00        1.00        0.00        0.00   \n",
      "1          0.00        0.33        0.00        0.00           -        0.00   \n",
      "2          0.00        1.00        0.00        0.00        0.00        1.00   \n",
      "3          1.00        1.00        0.00        1.00        1.00        0.00   \n",
      "4          1.00        0.00        0.00        0.00        0.00        0.00   \n",
      "..          ...         ...         ...         ...         ...         ...   \n",
      "275           -           -           -           -           -           -   \n",
      "276        0.50        1.00        0.00        0.00        0.00        0.00   \n",
      "277        0.67        0.00        1.00        0.00        0.00        0.00   \n",
      "278        0.00        0.00        0.00        0.00        0.33        0.00   \n",
      "279        0.38        0.37        0.35        0.44        0.48        0.38   \n",
      "\n",
      "    Q. 99 /1.00 Q. 100 /1.00  \n",
      "0          0.00         1.00  \n",
      "1          0.00         0.00  \n",
      "2          0.00         0.00  \n",
      "3          0.67         0.00  \n",
      "4          0.00         1.00  \n",
      "..          ...          ...  \n",
      "275           -            -  \n",
      "276        1.00         1.00  \n",
      "277        1.00         1.00  \n",
      "278        0.00         0.00  \n",
      "279        0.46         0.40  \n",
      "\n",
      "[280 rows x 108 columns]\n",
      "Total Examinee: 280\n",
      "Total Finished Examinee: 279\n",
      "Total Examinee in Progress: 1\n",
      "Number of Passed Examinee: 85  | Passing rate: 0.30357142857142855\n",
      "Number of Failed Examinee: 195  | Failing rate: 0.6964285714285714\n",
      "Average Score of Passed Examinee:  68.32011764705882\n",
      "Average Score of Failed Examinee:  44.976871794871805\n"
     ]
    },
    {
     "name": "stderr",
     "output_type": "stream",
     "text": [
      "/var/folders/dt/90w7dnxx5xzfd7px48yrrpt00000gn/T/ipykernel_8276/2058015647.py:12: PerformanceWarning: DataFrame is highly fragmented.  This is usually the result of calling `frame.insert` many times, which has poor performance.  Consider joining all columns at once using pd.concat(axis=1) instead. To get a de-fragmented frame, use `newframe = frame.copy()`\n",
      "  df.loc[df['Grade/100.00'] >= float(60), 'label'] = 'Passed'\n"
     ]
    }
   ],
   "source": [
    "dataset_information('data_source/ប្រឡងវិញ្ញាបនបត្រជំនាញឌីជីថលចាំបាច់ខេត្តកែប-កំពត-ព្រះសីហនុ-កោះកុង/grades.xlsx')"
   ]
  },
  {
   "cell_type": "markdown",
   "metadata": {},
   "source": [
    "#### 4. ព្រឹទ្ធសភា សាលាក្រុង ក្រសួងអប់រំ"
   ]
  },
  {
   "cell_type": "code",
   "execution_count": 11,
   "metadata": {},
   "outputs": [
    {
     "name": "stdout",
     "output_type": "stream",
     "text": [
      "             Surname First name               Email address     State  \\\n",
      "0       ប៊ុណ្ណារិទ្ធ        កែវ       012833495@D220041.com  Finished   \n",
      "1         បុណ្យរិទ្ធ        កែវ       098338092@D220077.com  Finished   \n",
      "2            វណ្ណថេន        គង់       011501701@D220095.com  Finished   \n",
      "3               ឌីណា        ទឿង      0766390000@D220042.com  Finished   \n",
      "4               សីហា        ផុន   076​212​01​22@D220057.com  Finished   \n",
      "..               ...        ...                         ...       ...   \n",
      "170             កុសល       អ៊ិន  dp233069@DSEPROVINCE23.com  Finished   \n",
      "171       សុផាន់ណារី       អ៊ុក  dp233068@DSEPROVINCE23.com  Finished   \n",
      "172            ស៊ីវី       ស៊ឹម  dp233048@DSEPROVINCE23.com  Finished   \n",
      "173          សុភ័ក្ដ        លន់  dp233043@DSEPROVINCE23.com  Finished   \n",
      "174  Overall average        NaN                         NaN       NaN   \n",
      "\n",
      "                   Started on                 Completed      Time taken  \\\n",
      "0    13 October 2022  8:10 AM  13 October 2022  9:58 AM  1 hour 47 mins   \n",
      "1    13 October 2022  8:10 AM  13 October 2022  9:43 AM  1 hour 32 mins   \n",
      "2    13 October 2022  8:11 AM  13 October 2022  9:48 AM  1 hour 36 mins   \n",
      "3    13 October 2022  8:12 AM  13 October 2022  9:33 AM  1 hour 21 mins   \n",
      "4    13 October 2022  8:12 AM  13 October 2022  9:50 AM  1 hour 38 mins   \n",
      "..                        ...                       ...             ...   \n",
      "170    28 March 2023  9:00 AM   28 March 2023  10:42 AM  1 hour 41 mins   \n",
      "171    28 March 2023  9:02 AM   28 March 2023  10:49 AM  1 hour 47 mins   \n",
      "172    28 March 2023  9:02 AM   28 March 2023  11:02 AM         2 hours   \n",
      "173    28 March 2023  9:11 AM   28 March 2023  11:08 AM  1 hour 56 mins   \n",
      "174                       NaN                       NaN             NaN   \n",
      "\n",
      "     Grade/100.00  Q. 1 /1.00  Q. 2 /1.00  ...  Q. 91 /1.00 Q. 92 /1.00  \\\n",
      "0           59.13        1.00        1.00  ...         1.00        1.00   \n",
      "1           58.33        1.00        0.00  ...         0.00        1.00   \n",
      "2           63.22        0.00        0.00  ...         1.00        1.00   \n",
      "3           55.85        0.00        0.00  ...         0.00        0.67   \n",
      "4           57.33        1.00        1.00  ...         0.00        0.00   \n",
      "..            ...         ...         ...  ...          ...         ...   \n",
      "170         39.47        1.00        0.00  ...         1.00        0.67   \n",
      "171         51.95        0.00        0.00  ...         0.33        0.50   \n",
      "172         43.18        1.00        0.00  ...         1.00        1.00   \n",
      "173         46.38        0.00        1.00  ...         1.00        1.00   \n",
      "174         51.47        0.57        0.47  ...         0.52        0.48   \n",
      "\n",
      "    Q. 93 /1.00 Q. 94 /1.00 Q. 95 /1.00  Q. 96 /1.00  Q. 97 /1.00 Q. 98 /1.00  \\\n",
      "0          1.00        1.00        0.00         1.00         1.00        1.00   \n",
      "1          0.00        1.00        0.17         0.17         0.17        1.00   \n",
      "2          0.00        1.00        0.00         0.00         1.00        1.00   \n",
      "3          0.00        0.33        1.00         0.00         0.00        0.00   \n",
      "4          0.00        0.33        0.00         1.00         1.00        1.00   \n",
      "..          ...         ...         ...          ...          ...         ...   \n",
      "170        0.00        0.00        0.00         0.33         1.00        0.00   \n",
      "171        1.00        1.00        1.00         0.00         0.00        1.00   \n",
      "172        0.00        1.00        1.00         0.00         0.00        1.00   \n",
      "173        0.00        0.33        0.00         0.50         1.00        1.00   \n",
      "174        0.43        0.48        0.31         0.40         0.42        0.44   \n",
      "\n",
      "     Q. 99 /1.00  Q. 100 /1.00  \n",
      "0           0.00          0.00  \n",
      "1           1.00          1.00  \n",
      "2           1.00          0.00  \n",
      "3           0.00          0.00  \n",
      "4           0.00          0.00  \n",
      "..           ...           ...  \n",
      "170         1.00          1.00  \n",
      "171         1.00          0.00  \n",
      "172         0.00          1.00  \n",
      "173         0.00          0.00  \n",
      "174         0.46          0.41  \n",
      "\n",
      "[175 rows x 108 columns]\n",
      "Total Examinee: 175\n",
      "Total Finished Examinee: 174\n",
      "Total Examinee in Progress: 1\n",
      "Number of Passed Examinee: 46  | Passing rate: 0.26285714285714284\n",
      "Number of Failed Examinee: 129  | Failing rate: 0.7371428571428571\n",
      "Average Score of Passed Examinee:  66.71130434782609\n",
      "Average Score of Failed Examinee:  46.03891472868217\n"
     ]
    },
    {
     "name": "stderr",
     "output_type": "stream",
     "text": [
      "/var/folders/dt/90w7dnxx5xzfd7px48yrrpt00000gn/T/ipykernel_8276/2058015647.py:12: PerformanceWarning: DataFrame is highly fragmented.  This is usually the result of calling `frame.insert` many times, which has poor performance.  Consider joining all columns at once using pd.concat(axis=1) instead. To get a de-fragmented frame, use `newframe = frame.copy()`\n",
      "  df.loc[df['Grade/100.00'] >= float(60), 'label'] = 'Passed'\n"
     ]
    }
   ],
   "source": [
    "dataset_information('data_source/ប្រឡងវិញ្ញាបនបត្រជំនាញឌីជីថលចាំបាច់ (Senate-City Hall & Moeys)/ប្រឡងវិញ្ញាបនបត្រជំនាញឌីជីថលចាំបាច់(2022)-ប្រឡងវិញ្ញាបនបត្រជំនាញឌីជីថលចាំបាច់-grades.xlsx')"
   ]
  },
  {
   "cell_type": "markdown",
   "metadata": {},
   "source": [
    "#### 5. បន្ទាយមានជ័យ បាត់ដំបង ពោធិ៍សាត់ កំពង់ឆ្នាំង ប៉ៃលិន"
   ]
  },
  {
   "cell_type": "code",
   "execution_count": 12,
   "metadata": {},
   "outputs": [
    {
     "name": "stdout",
     "output_type": "stream",
     "text": [
      "             Surname First name               Email address     State  \\\n",
      "0            កញ្ញាកា       កាក់  dp230803@DSEPROVINCE23.com  Finished   \n",
      "1             គឹមអេង         ថោ  dp230832@DSEPROVINCE23.com  Finished   \n",
      "2        បូរិទ្ធីយ៉ា      ច្រឹង  dp230821@DSEPROVINCE23.com  Finished   \n",
      "3          កែវមុន្នី       ង៉ែត  dp230817@DSEPROVINCE23.com  Finished   \n",
      "4               ប៉ុច        ឈឹម  dp230825@DSEPROVINCE23.com  Finished   \n",
      "..               ...        ...                         ...       ...   \n",
      "341               ធី        រុន  dp232006@DSEPROVINCE23.com  Finished   \n",
      "342       រត្ន័វិសាល        ឈួយ  dp232010@DSEPROVINCE23.com  Finished   \n",
      "343            ឡោស៊ី         ខា  dp232005@DSEPROVINCE23.com  Finished   \n",
      "344   ភូមិរិន្ទបូពា៌        យឹម  dp232009@DSEPROVINCE23.com  Finished   \n",
      "345  Overall average        NaN                         NaN       NaN   \n",
      "\n",
      "                    Started on                   Completed      Time taken  \\\n",
      "0    15 February 2023  8:59 AM  15 February 2023  10:36 AM  1 hour 36 mins   \n",
      "1    15 February 2023  9:00 AM  15 February 2023  10:26 AM  1 hour 25 mins   \n",
      "2    15 February 2023  9:00 AM  15 February 2023  10:59 AM  1 hour 59 mins   \n",
      "3    15 February 2023  9:00 AM  15 February 2023  10:45 AM  1 hour 45 mins   \n",
      "4    15 February 2023  9:00 AM  15 February 2023  10:54 AM  1 hour 54 mins   \n",
      "..                         ...                         ...             ...   \n",
      "341     11 April 2023  9:12 AM     11 April 2023  11:09 AM  1 hour 56 mins   \n",
      "342     11 April 2023  9:13 AM     11 April 2023  10:40 AM  1 hour 26 mins   \n",
      "343     11 April 2023  9:40 AM     11 April 2023  11:21 AM  1 hour 40 mins   \n",
      "344     11 April 2023  9:41 AM     11 April 2023  11:41 AM         2 hours   \n",
      "345                        NaN                         NaN             NaN   \n",
      "\n",
      "     Grade/100.00 Q. 1 /1.00 Q. 2 /1.00  ... Q. 91 /1.00 Q. 92 /1.00  \\\n",
      "0           49.43       1.00       1.00  ...        1.00        0.50   \n",
      "1           36.83       0.00       0.00  ...        0.00        1.00   \n",
      "2           65.33       1.00       1.00  ...        0.33        0.67   \n",
      "3           48.58       1.00       1.00  ...        1.00        0.00   \n",
      "4           53.17       0.00       0.00  ...        0.00        1.00   \n",
      "..            ...        ...        ...  ...         ...         ...   \n",
      "341         59.13       0.00       1.00  ...        0.00        1.00   \n",
      "342         65.38       1.00       0.00  ...        0.00        0.00   \n",
      "343         35.47       0.00       0.00  ...        0.00        0.00   \n",
      "344         27.27       0.00       0.00  ...        0.33        0.00   \n",
      "345         51.13       0.54       0.53  ...        0.44        0.49   \n",
      "\n",
      "    Q. 93 /1.00 Q. 94 /1.00 Q. 95 /1.00 Q. 96 /1.00 Q. 97 /1.00 Q. 98 /1.00  \\\n",
      "0          0.00        0.00        0.00        1.00        1.00        0.00   \n",
      "1          0.00        1.00        1.00        1.00        1.00        1.00   \n",
      "2          1.00        0.17        0.00        1.00        0.00        0.00   \n",
      "3          0.00        1.00        0.00        0.00        0.00        0.00   \n",
      "4          0.00        0.00        0.33        0.00        0.00        0.00   \n",
      "..          ...         ...         ...         ...         ...         ...   \n",
      "341        1.00        0.00        0.00        0.00        1.00        0.00   \n",
      "342        0.00        0.00        0.00        0.00        0.00        0.00   \n",
      "343        0.67        1.00        0.00        0.00        1.00        0.00   \n",
      "344        0.00           -           -           -           -           -   \n",
      "345        0.34        0.30        0.36        0.43        0.43        0.47   \n",
      "\n",
      "    Q. 99 /1.00 Q. 100 /1.00  \n",
      "0          0.00         0.00  \n",
      "1          1.00         0.33  \n",
      "2          0.00         0.00  \n",
      "3          1.00         1.00  \n",
      "4          0.17         0.17  \n",
      "..          ...          ...  \n",
      "341        0.00         1.00  \n",
      "342        1.00         1.00  \n",
      "343        0.00         0.00  \n",
      "344           -            -  \n",
      "345        0.43         0.44  \n",
      "\n",
      "[346 rows x 108 columns]\n",
      "Total Examinee: 346\n",
      "Total Finished Examinee: 345\n",
      "Total Examinee in Progress: 1\n",
      "Number of Passed Examinee: 86  | Passing rate: 0.24855491329479767\n",
      "Number of Failed Examinee: 260  | Failing rate: 0.7514450867052023\n",
      "Average Score of Passed Examinee:  68.73767441860464\n",
      "Average Score of Failed Examinee:  45.301153846153845\n"
     ]
    },
    {
     "name": "stderr",
     "output_type": "stream",
     "text": [
      "/var/folders/dt/90w7dnxx5xzfd7px48yrrpt00000gn/T/ipykernel_8276/2058015647.py:12: PerformanceWarning: DataFrame is highly fragmented.  This is usually the result of calling `frame.insert` many times, which has poor performance.  Consider joining all columns at once using pd.concat(axis=1) instead. To get a de-fragmented frame, use `newframe = frame.copy()`\n",
      "  df.loc[df['Grade/100.00'] >= float(60), 'label'] = 'Passed'\n"
     ]
    }
   ],
   "source": [
    "dataset_information('data_source/ប្រឡងវិញ្ញាបនបត្រជំនាញឌីជីថលចាំបាច់ខេត្តបន្ទាយមានជ័យ -​ ខេត្តបាត់ដំបង -ពោធិ៍សាត់ -កំពង់ឆ្នាំង-ប៉ៃលិន (DSE-09)/grades (1).xlsx')"
   ]
  },
  {
   "cell_type": "markdown",
   "metadata": {},
   "source": [
    "#### 6. ក្រសួងប្រៃសណីយ៍ និងទូរគមនាគមន៍"
   ]
  },
  {
   "cell_type": "code",
   "execution_count": 13,
   "metadata": {},
   "outputs": [
    {
     "name": "stdout",
     "output_type": "stream",
     "text": [
      "             Surname First name         Email address     State  \\\n",
      "0              ដារ៉ា     កានីកា  dp230495@DSEMPTC.com  Finished   \n",
      "1        ណារីម៉ូនីកា         ជា  dp230520@DSEMPTC.com  Finished   \n",
      "2             ដានីន​       គង់​  dp230499@DSEMPTC.com  Finished   \n",
      "3            ស្រីនេត        គួយ  dp230503@DSEMPTC.com  Finished   \n",
      "4               ធីតា         សៅ  dp230665@DSEMPTC.com  Finished   \n",
      "..               ...        ...                   ...       ...   \n",
      "226            រ័ត្ន         ជា  dp230524@DSEMPTC.com  Finished   \n",
      "227        ស្រីពេជ្រ       អ៊ុន  dp230722@DSEMPTC.com  Finished   \n",
      "228       អង្គារ​តនៈ      អ៊ុក​  dp230708@DSEMPTC.com  Finished   \n",
      "229          ស៊ុងហេង         ហៃ  dp230729@DSEMPTC.com  Finished   \n",
      "230  Overall average        NaN                   NaN       NaN   \n",
      "\n",
      "                   Started on                  Completed      Time taken  \\\n",
      "0    25 January 2023  8:55 AM  25 January 2023  10:50 AM  1 hour 55 mins   \n",
      "1    25 January 2023  8:55 AM  25 January 2023  10:35 AM  1 hour 40 mins   \n",
      "2    25 January 2023  8:55 AM  25 January 2023  10:55 AM  1 hour 59 mins   \n",
      "3    25 January 2023  8:55 AM  25 January 2023  10:55 AM         2 hours   \n",
      "4    25 January 2023  8:56 AM  25 January 2023  10:56 AM         2 hours   \n",
      "..                        ...                        ...             ...   \n",
      "226  26 January 2023  3:17 PM   26 January 2023  5:14 PM  1 hour 57 mins   \n",
      "227  26 January 2023  3:18 PM   26 January 2023  4:47 PM  1 hour 29 mins   \n",
      "228  26 January 2023  3:18 PM   26 January 2023  5:05 PM  1 hour 46 mins   \n",
      "229  26 January 2023  3:20 PM   26 January 2023  5:13 PM  1 hour 52 mins   \n",
      "230                       NaN                        NaN             NaN   \n",
      "\n",
      "     Grade/100.00  Q. 1 /1.00 Q. 2 /1.00  ... Q. 91 /1.00  Q. 92 /1.00  \\\n",
      "0           82.10        1.00       1.00  ...        0.00         1.00   \n",
      "1           53.48        0.00       0.00  ...        0.00         1.00   \n",
      "2           58.10        1.00       1.00  ...        1.00         0.00   \n",
      "3           47.47        1.00       1.00  ...           -            -   \n",
      "4           55.09        0.00       1.00  ...        1.00         0.00   \n",
      "..            ...         ...        ...  ...         ...          ...   \n",
      "226         58.80        0.00       1.00  ...        0.25         0.33   \n",
      "227         55.38        0.00       1.00  ...        0.00         0.17   \n",
      "228         72.20        1.00       1.00  ...        0.67         0.00   \n",
      "229         70.84        1.00       1.00  ...        1.00         1.00   \n",
      "230         61.05        0.62       0.65  ...        0.64         0.55   \n",
      "\n",
      "    Q. 93 /1.00 Q. 94 /1.00  Q. 95 /1.00 Q. 96 /1.00 Q. 97 /1.00  Q. 98 /1.00  \\\n",
      "0          0.00        0.00         0.17        1.00        1.00         1.00   \n",
      "1          1.00        0.00         0.00        0.00        1.00         1.00   \n",
      "2          1.00        0.00         0.00        0.00        1.00         0.00   \n",
      "3             -           -            -           -           -            -   \n",
      "4          0.00        1.00         0.00        0.00        0.00         0.00   \n",
      "..          ...         ...          ...         ...         ...          ...   \n",
      "226        0.00        1.00         1.00        0.00        1.00         0.00   \n",
      "227        0.00        0.00         0.17        0.00        0.00         1.00   \n",
      "228        1.00        1.00         1.00        0.00        0.00         1.00   \n",
      "229        0.00        1.00         0.00        0.00        0.00         0.00   \n",
      "230        0.51        0.54         0.45        0.47        0.54         0.49   \n",
      "\n",
      "     Q. 99 /1.00  Q. 100 /1.00  \n",
      "0           0.00          0.50  \n",
      "1           0.00          0.00  \n",
      "2           0.00          1.00  \n",
      "3              -             -  \n",
      "4           1.00          1.00  \n",
      "..           ...           ...  \n",
      "226         0.00          1.00  \n",
      "227         1.00          1.00  \n",
      "228         1.00          0.00  \n",
      "229         0.17          1.00  \n",
      "230         0.51          0.52  \n",
      "\n",
      "[231 rows x 108 columns]\n",
      "Total Examinee: 231\n",
      "Total Finished Examinee: 230\n",
      "Total Examinee in Progress: 1\n",
      "Number of Passed Examinee: 118  | Passing rate: 0.5108225108225108\n",
      "Number of Failed Examinee: 113  | Failing rate: 0.48917748917748916\n",
      "Average Score of Passed Examinee:  72.66322033898305\n",
      "Average Score of Failed Examinee:  48.93194690265487\n"
     ]
    },
    {
     "name": "stderr",
     "output_type": "stream",
     "text": [
      "/var/folders/dt/90w7dnxx5xzfd7px48yrrpt00000gn/T/ipykernel_8276/2058015647.py:12: PerformanceWarning: DataFrame is highly fragmented.  This is usually the result of calling `frame.insert` many times, which has poor performance.  Consider joining all columns at once using pd.concat(axis=1) instead. To get a de-fragmented frame, use `newframe = frame.copy()`\n",
      "  df.loc[df['Grade/100.00'] >= float(60), 'label'] = 'Passed'\n"
     ]
    }
   ],
   "source": [
    "dataset_information('data_source/ប្រឡងវិញ្ញាបនបត្រជំនាញឌីជីថលចាំបាច់ នៃក្រសួងប្រៃសណីយ៍ និងទូរគមនាគមន៍-8/ប្រឡងវិញ្ញាបនបត្រក្រសួងប្រៃសណីយ៍ និងទូរគមនាគមន៍-ប្រឡងវិញ្ញាបនបត្រ DSE (ក្រសួងប្រៃសណីយ៍ និងទូរគមនាគមន៍-8)-grades.xlsx')"
   ]
  },
  {
   "cell_type": "markdown",
   "metadata": {},
   "source": [
    "#### 7. បណ្ឌិត្យសភាបច្ចេកវិទ្យាឌីជីថលកម្ពុជា"
   ]
  },
  {
   "cell_type": "code",
   "execution_count": 14,
   "metadata": {},
   "outputs": [
    {
     "name": "stdout",
     "output_type": "stream",
     "text": [
      "             Surname First name                    Email address     State  \\\n",
      "0        Chanraksmey       PHAN  chanraksmey.phan@niptict.edu.kh  Finished   \n",
      "1           វ៉ាន់ជេប        អ៊ួ          ourvantheb010@gmail.com  Finished   \n",
      "2              VANNA        SUY         vanna.suy@niptict.edu.kh  Finished   \n",
      "3               Daro       Phan            daro.phan@cadt.edu.kh  Finished   \n",
      "4            Layheng      Couch     layheng.couch@niptict.edu.kh  Finished   \n",
      "..               ...        ...                              ...       ...   \n",
      "165           ម៉នសុី         សៃ        dp23531cadt2023@gmail.com  Finished   \n",
      "166             នីតា       ញ៉ាណ        dp23540cadt2023@gmail.com  Finished   \n",
      "167     ចាន់មុនីរតន៍        វុធ        dp23549cadt2023@gmail.com  Finished   \n",
      "168     សុគន្ធារដ្ឋា         ហេ        dp23550cadt2023@gmail.com  Finished   \n",
      "169  Overall average        NaN                              NaN       NaN   \n",
      "\n",
      "                    Started on                  Completed       Time taken  \\\n",
      "0    15 February 2022  3:01 PM  15 February 2022  5:01 PM          2 hours   \n",
      "1    15 February 2022  3:01 PM  15 February 2022  4:22 PM   1 hour 20 mins   \n",
      "2    15 February 2022  3:01 PM  15 February 2022  4:56 PM   1 hour 55 mins   \n",
      "3    15 February 2022  3:02 PM  15 February 2022  4:01 PM  59 mins 25 secs   \n",
      "4    15 February 2022  3:02 PM  15 February 2022  4:35 PM   1 hour 33 mins   \n",
      "..                         ...                        ...              ...   \n",
      "165     8 August 2023  1:08 PM     8 August 2023  2:51 PM   1 hour 42 mins   \n",
      "166     8 August 2023  1:16 PM     8 August 2023  3:14 PM   1 hour 58 mins   \n",
      "167     8 August 2023  1:28 PM     8 August 2023  3:28 PM   1 hour 59 mins   \n",
      "168     8 August 2023  1:31 PM     8 August 2023  3:31 PM          2 hours   \n",
      "169                        NaN                        NaN              NaN   \n",
      "\n",
      "     Grade/100.00 Q. 1 /1.00 Q. 2 /1.00  ...  Q. 91 /1.00 Q. 92 /1.00  \\\n",
      "0           77.15       1.00       1.00  ...         1.00        1.00   \n",
      "1           78.42       1.00       0.00  ...         1.00        1.00   \n",
      "2           77.52       1.00       1.00  ...         0.67        1.00   \n",
      "3           88.67       1.00       1.00  ...         1.00        1.00   \n",
      "4           70.72       1.00       0.00  ...         1.00        1.00   \n",
      "..            ...        ...        ...  ...          ...         ...   \n",
      "165         40.78       1.00       0.00  ...         0.00        0.00   \n",
      "166         53.55       1.00       0.00  ...         0.17        1.00   \n",
      "167         32.25       0.00       0.00  ...            -           -   \n",
      "168         56.93       1.00       1.00  ...            -           -   \n",
      "169         62.25       0.64       0.65  ...         0.59        0.59   \n",
      "\n",
      "    Q. 93 /1.00 Q. 94 /1.00 Q. 95 /1.00 Q. 96 /1.00 Q. 97 /1.00 Q. 98 /1.00  \\\n",
      "0          1.00           -        1.00        0.00        1.00        1.00   \n",
      "1          0.00        1.00        1.00        1.00        1.00        1.00   \n",
      "2          1.00        1.00        1.00        0.17        0.00        1.00   \n",
      "3          1.00        1.00        1.00        0.00        1.00        1.00   \n",
      "4          1.00        0.17        0.00        0.00        1.00        1.00   \n",
      "..          ...         ...         ...         ...         ...         ...   \n",
      "165        0.00        1.00        0.00        1.00        1.00        0.00   \n",
      "166        1.00        1.00        1.00        0.67        0.00        1.00   \n",
      "167        0.00        0.00           -        1.00        0.00        0.00   \n",
      "168        1.00        0.00        0.00        0.00        1.00        0.00   \n",
      "169        0.46        0.46        0.47        0.48        0.49        0.46   \n",
      "\n",
      "    Q. 99 /1.00 Q. 100 /1.00  \n",
      "0          1.00         0.00  \n",
      "1          1.00         1.00  \n",
      "2          1.00         0.00  \n",
      "3          1.00         1.00  \n",
      "4          1.00         1.00  \n",
      "..          ...          ...  \n",
      "165        0.00         1.00  \n",
      "166        1.00         0.00  \n",
      "167           -         0.00  \n",
      "168        1.00         0.00  \n",
      "169        0.58         0.52  \n",
      "\n",
      "[170 rows x 108 columns]\n",
      "Total Examinee: 170\n",
      "Total Finished Examinee: 169\n",
      "Total Examinee in Progress: 1\n",
      "Number of Passed Examinee: 106  | Passing rate: 0.6235294117647059\n",
      "Number of Failed Examinee: 64  | Failing rate: 0.3764705882352941\n",
      "Average Score of Passed Examinee:  72.77707547169811\n",
      "Average Score of Failed Examinee:  44.825\n"
     ]
    },
    {
     "name": "stderr",
     "output_type": "stream",
     "text": [
      "/var/folders/dt/90w7dnxx5xzfd7px48yrrpt00000gn/T/ipykernel_8276/2058015647.py:12: PerformanceWarning: DataFrame is highly fragmented.  This is usually the result of calling `frame.insert` many times, which has poor performance.  Consider joining all columns at once using pd.concat(axis=1) instead. To get a de-fragmented frame, use `newframe = frame.copy()`\n",
      "  df.loc[df['Grade/100.00'] >= float(60), 'label'] = 'Passed'\n"
     ]
    }
   ],
   "source": [
    "dataset_information('data_source/ប្រឡងវិញ្ញាបនបត្រជំនាញឌីជីថលចាំបាច់ (CADT)/ប្រឡងវិញ្ញាបនបត្រជំនាញឌីជីថលចាំបាច់ (CADT-1)-Exam-grades.xlsx')"
   ]
  },
  {
   "cell_type": "markdown",
   "metadata": {},
   "source": [
    "#### 8. ៦ខេត្តផ្សេង"
   ]
  },
  {
   "cell_type": "code",
   "execution_count": 15,
   "metadata": {},
   "outputs": [
    {
     "name": "stdout",
     "output_type": "stream",
     "text": [
      "             Surname First name               Email address     State  \\\n",
      "0       ប៊ុណ្ណារិទ្ធ        កែវ       012833495@D220041.com  Finished   \n",
      "1         បុណ្យរិទ្ធ        កែវ       098338092@D220077.com  Finished   \n",
      "2            វណ្ណថេន        គង់       011501701@D220095.com  Finished   \n",
      "3               ឌីណា        ទឿង      0766390000@D220042.com  Finished   \n",
      "4               សីហា        ផុន   076​212​01​22@D220057.com  Finished   \n",
      "..               ...        ...                         ...       ...   \n",
      "170             កុសល       អ៊ិន  dp233069@DSEPROVINCE23.com  Finished   \n",
      "171       សុផាន់ណារី       អ៊ុក  dp233068@DSEPROVINCE23.com  Finished   \n",
      "172            ស៊ីវី       ស៊ឹម  dp233048@DSEPROVINCE23.com  Finished   \n",
      "173          សុភ័ក្ដ        លន់  dp233043@DSEPROVINCE23.com  Finished   \n",
      "174  Overall average        NaN                         NaN       NaN   \n",
      "\n",
      "                   Started on                 Completed      Time taken  \\\n",
      "0    13 October 2022  8:10 AM  13 October 2022  9:58 AM  1 hour 47 mins   \n",
      "1    13 October 2022  8:10 AM  13 October 2022  9:43 AM  1 hour 32 mins   \n",
      "2    13 October 2022  8:11 AM  13 October 2022  9:48 AM  1 hour 36 mins   \n",
      "3    13 October 2022  8:12 AM  13 October 2022  9:33 AM  1 hour 21 mins   \n",
      "4    13 October 2022  8:12 AM  13 October 2022  9:50 AM  1 hour 38 mins   \n",
      "..                        ...                       ...             ...   \n",
      "170    28 March 2023  9:00 AM   28 March 2023  10:42 AM  1 hour 41 mins   \n",
      "171    28 March 2023  9:02 AM   28 March 2023  10:49 AM  1 hour 47 mins   \n",
      "172    28 March 2023  9:02 AM   28 March 2023  11:02 AM         2 hours   \n",
      "173    28 March 2023  9:11 AM   28 March 2023  11:08 AM  1 hour 56 mins   \n",
      "174                       NaN                       NaN             NaN   \n",
      "\n",
      "     Grade/100.00  Q. 1 /1.00  Q. 2 /1.00  ...  Q. 91 /1.00 Q. 92 /1.00  \\\n",
      "0           59.13        1.00        1.00  ...         1.00        1.00   \n",
      "1           58.33        1.00        0.00  ...         0.00        1.00   \n",
      "2           63.22        0.00        0.00  ...         1.00        1.00   \n",
      "3           55.85        0.00        0.00  ...         0.00        0.67   \n",
      "4           57.33        1.00        1.00  ...         0.00        0.00   \n",
      "..            ...         ...         ...  ...          ...         ...   \n",
      "170         39.47        1.00        0.00  ...         1.00        0.67   \n",
      "171         51.95        0.00        0.00  ...         0.33        0.50   \n",
      "172         43.18        1.00        0.00  ...         1.00        1.00   \n",
      "173         46.38        0.00        1.00  ...         1.00        1.00   \n",
      "174         51.47        0.57        0.47  ...         0.52        0.48   \n",
      "\n",
      "    Q. 93 /1.00 Q. 94 /1.00 Q. 95 /1.00  Q. 96 /1.00  Q. 97 /1.00 Q. 98 /1.00  \\\n",
      "0          1.00        1.00        0.00         1.00         1.00        1.00   \n",
      "1          0.00        1.00        0.17         0.17         0.17        1.00   \n",
      "2          0.00        1.00        0.00         0.00         1.00        1.00   \n",
      "3          0.00        0.33        1.00         0.00         0.00        0.00   \n",
      "4          0.00        0.33        0.00         1.00         1.00        1.00   \n",
      "..          ...         ...         ...          ...          ...         ...   \n",
      "170        0.00        0.00        0.00         0.33         1.00        0.00   \n",
      "171        1.00        1.00        1.00         0.00         0.00        1.00   \n",
      "172        0.00        1.00        1.00         0.00         0.00        1.00   \n",
      "173        0.00        0.33        0.00         0.50         1.00        1.00   \n",
      "174        0.43        0.48        0.31         0.40         0.42        0.44   \n",
      "\n",
      "     Q. 99 /1.00  Q. 100 /1.00  \n",
      "0           0.00          0.00  \n",
      "1           1.00          1.00  \n",
      "2           1.00          0.00  \n",
      "3           0.00          0.00  \n",
      "4           0.00          0.00  \n",
      "..           ...           ...  \n",
      "170         1.00          1.00  \n",
      "171         1.00          0.00  \n",
      "172         0.00          1.00  \n",
      "173         0.00          0.00  \n",
      "174         0.46          0.41  \n",
      "\n",
      "[175 rows x 108 columns]\n",
      "Total Examinee: 175\n",
      "Total Finished Examinee: 174\n",
      "Total Examinee in Progress: 1\n",
      "Number of Passed Examinee: 46  | Passing rate: 0.26285714285714284\n",
      "Number of Failed Examinee: 129  | Failing rate: 0.7371428571428571\n",
      "Average Score of Passed Examinee:  66.71130434782609\n",
      "Average Score of Failed Examinee:  46.03891472868217\n"
     ]
    },
    {
     "name": "stderr",
     "output_type": "stream",
     "text": [
      "/var/folders/dt/90w7dnxx5xzfd7px48yrrpt00000gn/T/ipykernel_8276/2058015647.py:12: PerformanceWarning: DataFrame is highly fragmented.  This is usually the result of calling `frame.insert` many times, which has poor performance.  Consider joining all columns at once using pd.concat(axis=1) instead. To get a de-fragmented frame, use `newframe = frame.copy()`\n",
      "  df.loc[df['Grade/100.00'] >= float(60), 'label'] = 'Passed'\n"
     ]
    }
   ],
   "source": [
    "dataset_information('data_source/ប្រឡងវិញ្ញាបនបត្រជំនាញឌីជីថលចាំបាច់ (ខេត្ត-6)/ប្រឡងវិញ្ញាបនបត្រជំនាញឌីជីថលចាំបាច់(2022)-ប្រឡងវិញ្ញាបនបត្រជំនាញឌីជីថលចាំបាច់-grades.xlsx')"
   ]
  },
  {
   "cell_type": "markdown",
   "metadata": {},
   "source": [
    "## Function to display dataset information - PASSING SCORE 50"
   ]
  },
  {
   "cell_type": "code",
   "execution_count": 16,
   "metadata": {},
   "outputs": [],
   "source": [
    "def dataset_information_50(path):\n",
    "    print(path)\n",
    "    df = pd.read_excel(path)\n",
    "\n",
    "    # Replace - with None\n",
    "    columns = df.columns\n",
    "    for col in columns:\n",
    "        df[col] = df[col].replace(['-'], float(0))\n",
    "\n",
    "    df['Grade/100.00'] = df['Grade/100.00'].astype('float64')\n",
    "\n",
    "    df.loc[df['Grade/100.00'] >= float(50), 'label'] = 'Passed'\n",
    "    df.loc[df['Grade/100.00'] < float(50), 'label'] = 'Failed'\n",
    "\n",
    "    num_failed = len(df[df['label'] == 'Failed'])\n",
    "    num_passed = len(df[df['label'] == 'Passed'])\n",
    "\n",
    "    num_of_examinee = len(df)\n",
    "    num_finished_examinee = len(df[df['State'] == \"Finished\"])\n",
    "    num_in_progress_examinee = len(df[df['State'] != \"Finished\"])\n",
    "    num_failed = len(df[df['label'] == 'Failed'])\n",
    "    num_passed = len(df[df['label'] == 'Passed'])\n",
    "\n",
    "\n",
    "    print(\"Total Examinee:\", num_of_examinee)\n",
    "    print(\"Total Finished Examinee:\", num_finished_examinee)\n",
    "    print(\"Total Examinee in Progress:\", num_in_progress_examinee)\n",
    "    print(\"Number of Passed Examinee:\", num_passed, \" | Passing rate:\", num_passed / (num_passed+num_failed))\n",
    "    print(\"Number of Failed Examinee:\", num_failed, \" | Failing rate:\", num_failed / (num_passed+num_failed))\n",
    "    passed_df = df[df['label'] == 'Passed']\n",
    "    print(\"Average Score of Passed Examinee: \", passed_df['Grade/100.00'].mean())\n",
    "    failed_df = df[df['label'] == 'Failed']\n",
    "    print(\"Average Score of Failed Examinee: \", failed_df['Grade/100.00'].mean())\n",
    "\n",
    "    # plt.bar([\"Passed\", \"Failed\"], [num_passed, num_failed])\n",
    "    "
   ]
  },
  {
   "cell_type": "markdown",
   "metadata": {},
   "source": [
    "#### 1. ខេត្តព្រះវិហារ ឧត្តរមានជ័យ សៀមរាប"
   ]
  },
  {
   "cell_type": "code",
   "execution_count": 17,
   "metadata": {},
   "outputs": [
    {
     "name": "stdout",
     "output_type": "stream",
     "text": [
      "data_source/ប្រឡងវិញ្ញាបនបត្រជំនាញឌីជីថលចាំបាច់ (ខេត្តព្រះវិហា ឧត្តមានជ័យ សៀមរាប-៧)/Exam-PVH-UDM-7-ប្រឡង-grades.xlsx\n",
      "Total Examinee: 200\n",
      "Total Finished Examinee: 199\n",
      "Total Examinee in Progress: 1\n",
      "Number of Passed Examinee: 123  | Passing rate: 0.615\n",
      "Number of Failed Examinee: 77  | Failing rate: 0.385\n",
      "Average Score of Passed Examinee:  61.13747967479675\n",
      "Average Score of Failed Examinee:  40.28285714285714\n"
     ]
    },
    {
     "name": "stderr",
     "output_type": "stream",
     "text": [
      "/var/folders/dt/90w7dnxx5xzfd7px48yrrpt00000gn/T/ipykernel_8276/1653101233.py:12: PerformanceWarning: DataFrame is highly fragmented.  This is usually the result of calling `frame.insert` many times, which has poor performance.  Consider joining all columns at once using pd.concat(axis=1) instead. To get a de-fragmented frame, use `newframe = frame.copy()`\n",
      "  df.loc[df['Grade/100.00'] >= float(50), 'label'] = 'Passed'\n"
     ]
    }
   ],
   "source": [
    "dataset_information_50('data_source/ប្រឡងវិញ្ញាបនបត្រជំនាញឌីជីថលចាំបាច់ (ខេត្តព្រះវិហា ឧត្តមានជ័យ សៀមរាប-៧)/Exam-PVH-UDM-7-ប្រឡង-grades.xlsx')"
   ]
  },
  {
   "cell_type": "markdown",
   "metadata": {},
   "source": [
    "#### 2. ភូមិន្ធរដ្ឋបាល"
   ]
  },
  {
   "cell_type": "code",
   "execution_count": 18,
   "metadata": {},
   "outputs": [
    {
     "name": "stdout",
     "output_type": "stream",
     "text": [
      "data_source/ប្រឡងវិញ្ញាបនបត្រជំនាញឌីជីថលចាំបាច់/DSE-EXAM-ERA5-Senate-វិញ្ញាសាប្រឡង-grades (1).xlsx\n",
      "Total Examinee: 673\n",
      "Total Finished Examinee: 670\n",
      "Total Examinee in Progress: 3\n",
      "Number of Passed Examinee: 462  | Passing rate: 0.6864784546805349\n",
      "Number of Failed Examinee: 211  | Failing rate: 0.3135215453194651\n",
      "Average Score of Passed Examinee:  65.95233766233765\n",
      "Average Score of Failed Examinee:  40.72848341232227\n"
     ]
    },
    {
     "name": "stderr",
     "output_type": "stream",
     "text": [
      "/var/folders/dt/90w7dnxx5xzfd7px48yrrpt00000gn/T/ipykernel_8276/1653101233.py:12: PerformanceWarning: DataFrame is highly fragmented.  This is usually the result of calling `frame.insert` many times, which has poor performance.  Consider joining all columns at once using pd.concat(axis=1) instead. To get a de-fragmented frame, use `newframe = frame.copy()`\n",
      "  df.loc[df['Grade/100.00'] >= float(50), 'label'] = 'Passed'\n"
     ]
    }
   ],
   "source": [
    "dataset_information_50('data_source/ប្រឡងវិញ្ញាបនបត្រជំនាញឌីជីថលចាំបាច់/DSE-EXAM-ERA5-Senate-វិញ្ញាសាប្រឡង-grades (1).xlsx')"
   ]
  },
  {
   "cell_type": "markdown",
   "metadata": {},
   "source": [
    "#### 3. កែប កំពត ព្រះសីហនុ កោះកុង"
   ]
  },
  {
   "cell_type": "code",
   "execution_count": 19,
   "metadata": {},
   "outputs": [
    {
     "name": "stdout",
     "output_type": "stream",
     "text": [
      "data_source/ប្រឡងវិញ្ញាបនបត្រជំនាញឌីជីថលចាំបាច់ខេត្តកែប-កំពត-ព្រះសីហនុ-កោះកុង/grades.xlsx\n",
      "Total Examinee: 280\n",
      "Total Finished Examinee: 279\n",
      "Total Examinee in Progress: 1\n",
      "Number of Passed Examinee: 153  | Passing rate: 0.5464285714285714\n",
      "Number of Failed Examinee: 127  | Failing rate: 0.45357142857142857\n",
      "Average Score of Passed Examinee:  62.44679738562092\n",
      "Average Score of Failed Examinee:  39.55385826771652\n"
     ]
    },
    {
     "name": "stderr",
     "output_type": "stream",
     "text": [
      "/var/folders/dt/90w7dnxx5xzfd7px48yrrpt00000gn/T/ipykernel_8276/1653101233.py:12: PerformanceWarning: DataFrame is highly fragmented.  This is usually the result of calling `frame.insert` many times, which has poor performance.  Consider joining all columns at once using pd.concat(axis=1) instead. To get a de-fragmented frame, use `newframe = frame.copy()`\n",
      "  df.loc[df['Grade/100.00'] >= float(50), 'label'] = 'Passed'\n"
     ]
    }
   ],
   "source": [
    "dataset_information_50('data_source/ប្រឡងវិញ្ញាបនបត្រជំនាញឌីជីថលចាំបាច់ខេត្តកែប-កំពត-ព្រះសីហនុ-កោះកុង/grades.xlsx')"
   ]
  },
  {
   "cell_type": "markdown",
   "metadata": {},
   "source": [
    "#### 4. ព្រឹទ្ធសភា សាលាក្រុង ក្រសួងអប់រំ"
   ]
  },
  {
   "cell_type": "code",
   "execution_count": 20,
   "metadata": {},
   "outputs": [
    {
     "name": "stdout",
     "output_type": "stream",
     "text": [
      "data_source/ប្រឡងវិញ្ញាបនបត្រជំនាញឌីជីថលចាំបាច់ (Senate-City Hall & Moeys)/ប្រឡងវិញ្ញាបនបត្រជំនាញឌីជីថលចាំបាច់(2022)-ប្រឡងវិញ្ញាបនបត្រជំនាញឌីជីថលចាំបាច់-grades.xlsx\n",
      "Total Examinee: 175\n",
      "Total Finished Examinee: 174\n",
      "Total Examinee in Progress: 1\n",
      "Number of Passed Examinee: 101  | Passing rate: 0.5771428571428572\n",
      "Number of Failed Examinee: 74  | Failing rate: 0.4228571428571429\n",
      "Average Score of Passed Examinee:  60.234257425742584\n",
      "Average Score of Failed Examinee:  39.514594594594584\n"
     ]
    },
    {
     "name": "stderr",
     "output_type": "stream",
     "text": [
      "/var/folders/dt/90w7dnxx5xzfd7px48yrrpt00000gn/T/ipykernel_8276/1653101233.py:12: PerformanceWarning: DataFrame is highly fragmented.  This is usually the result of calling `frame.insert` many times, which has poor performance.  Consider joining all columns at once using pd.concat(axis=1) instead. To get a de-fragmented frame, use `newframe = frame.copy()`\n",
      "  df.loc[df['Grade/100.00'] >= float(50), 'label'] = 'Passed'\n"
     ]
    }
   ],
   "source": [
    "dataset_information_50('data_source/ប្រឡងវិញ្ញាបនបត្រជំនាញឌីជីថលចាំបាច់ (Senate-City Hall & Moeys)/ប្រឡងវិញ្ញាបនបត្រជំនាញឌីជីថលចាំបាច់(2022)-ប្រឡងវិញ្ញាបនបត្រជំនាញឌីជីថលចាំបាច់-grades.xlsx')"
   ]
  },
  {
   "cell_type": "markdown",
   "metadata": {},
   "source": [
    "#### 5. បន្ទាយមានជ័យ បាត់ដំបង ពោធិ៍សាត់ កំពង់ឆ្នាំង ប៉ៃលិន"
   ]
  },
  {
   "cell_type": "code",
   "execution_count": 21,
   "metadata": {},
   "outputs": [
    {
     "name": "stdout",
     "output_type": "stream",
     "text": [
      "data_source/ប្រឡងវិញ្ញាបនបត្រជំនាញឌីជីថលចាំបាច់ខេត្តបន្ទាយមានជ័យ -​ ខេត្តបាត់ដំបង -ពោធិ៍សាត់ -កំពង់ឆ្នាំង-ប៉ៃលិន (DSE-09)/grades (1).xlsx\n",
      "Total Examinee: 346\n",
      "Total Finished Examinee: 345\n",
      "Total Examinee in Progress: 1\n",
      "Number of Passed Examinee: 182  | Passing rate: 0.5260115606936416\n",
      "Number of Failed Examinee: 164  | Failing rate: 0.47398843930635837\n",
      "Average Score of Passed Examinee:  61.54692307692308\n",
      "Average Score of Failed Examinee:  39.56219512195121\n"
     ]
    },
    {
     "name": "stderr",
     "output_type": "stream",
     "text": [
      "/var/folders/dt/90w7dnxx5xzfd7px48yrrpt00000gn/T/ipykernel_8276/1653101233.py:12: PerformanceWarning: DataFrame is highly fragmented.  This is usually the result of calling `frame.insert` many times, which has poor performance.  Consider joining all columns at once using pd.concat(axis=1) instead. To get a de-fragmented frame, use `newframe = frame.copy()`\n",
      "  df.loc[df['Grade/100.00'] >= float(50), 'label'] = 'Passed'\n"
     ]
    }
   ],
   "source": [
    "dataset_information_50('data_source/ប្រឡងវិញ្ញាបនបត្រជំនាញឌីជីថលចាំបាច់ខេត្តបន្ទាយមានជ័យ -​ ខេត្តបាត់ដំបង -ពោធិ៍សាត់ -កំពង់ឆ្នាំង-ប៉ៃលិន (DSE-09)/grades (1).xlsx')"
   ]
  },
  {
   "cell_type": "markdown",
   "metadata": {},
   "source": [
    "#### 6. ក្រសួងប្រៃសណីយ៍ និងទូរគមនាគមន៍"
   ]
  },
  {
   "cell_type": "code",
   "execution_count": 22,
   "metadata": {},
   "outputs": [
    {
     "name": "stdout",
     "output_type": "stream",
     "text": [
      "data_source/ប្រឡងវិញ្ញាបនបត្រជំនាញឌីជីថលចាំបាច់ នៃក្រសួងប្រៃសណីយ៍ និងទូរគមនាគមន៍-8/ប្រឡងវិញ្ញាបនបត្រក្រសួងប្រៃសណីយ៍ និងទូរគមនាគមន៍-ប្រឡងវិញ្ញាបនបត្រ DSE (ក្រសួងប្រៃសណីយ៍ និងទូរគមនាគមន៍-8)-grades.xlsx\n",
      "Total Examinee: 231\n",
      "Total Finished Examinee: 230\n",
      "Total Examinee in Progress: 1\n",
      "Number of Passed Examinee: 183  | Passing rate: 0.7922077922077922\n",
      "Number of Failed Examinee: 48  | Failing rate: 0.2077922077922078\n",
      "Average Score of Passed Examinee:  66.40540983606557\n",
      "Average Score of Failed Examinee:  40.65375\n"
     ]
    },
    {
     "name": "stderr",
     "output_type": "stream",
     "text": [
      "/var/folders/dt/90w7dnxx5xzfd7px48yrrpt00000gn/T/ipykernel_8276/1653101233.py:12: PerformanceWarning: DataFrame is highly fragmented.  This is usually the result of calling `frame.insert` many times, which has poor performance.  Consider joining all columns at once using pd.concat(axis=1) instead. To get a de-fragmented frame, use `newframe = frame.copy()`\n",
      "  df.loc[df['Grade/100.00'] >= float(50), 'label'] = 'Passed'\n"
     ]
    }
   ],
   "source": [
    "dataset_information_50('data_source/ប្រឡងវិញ្ញាបនបត្រជំនាញឌីជីថលចាំបាច់ នៃក្រសួងប្រៃសណីយ៍ និងទូរគមនាគមន៍-8/ប្រឡងវិញ្ញាបនបត្រក្រសួងប្រៃសណីយ៍ និងទូរគមនាគមន៍-ប្រឡងវិញ្ញាបនបត្រ DSE (ក្រសួងប្រៃសណីយ៍ និងទូរគមនាគមន៍-8)-grades.xlsx')"
   ]
  },
  {
   "cell_type": "markdown",
   "metadata": {},
   "source": [
    "#### 7. បណ្ឌិត្យសភាបច្ចេកវិទ្យាឌីជីថលកម្ពុជា"
   ]
  },
  {
   "cell_type": "code",
   "execution_count": 23,
   "metadata": {},
   "outputs": [
    {
     "name": "stdout",
     "output_type": "stream",
     "text": [
      "data_source/ប្រឡងវិញ្ញាបនបត្រជំនាញឌីជីថលចាំបាច់ (CADT)/ប្រឡងវិញ្ញាបនបត្រជំនាញឌីជីថលចាំបាច់ (CADT-1)-Exam-grades.xlsx\n",
      "Total Examinee: 170\n",
      "Total Finished Examinee: 169\n",
      "Total Examinee in Progress: 1\n",
      "Number of Passed Examinee: 136  | Passing rate: 0.8\n",
      "Number of Failed Examinee: 34  | Failing rate: 0.2\n",
      "Average Score of Passed Examinee:  68.91323529411765\n",
      "Average Score of Failed Examinee:  35.61676470588235\n"
     ]
    },
    {
     "name": "stderr",
     "output_type": "stream",
     "text": [
      "/var/folders/dt/90w7dnxx5xzfd7px48yrrpt00000gn/T/ipykernel_8276/1653101233.py:12: PerformanceWarning: DataFrame is highly fragmented.  This is usually the result of calling `frame.insert` many times, which has poor performance.  Consider joining all columns at once using pd.concat(axis=1) instead. To get a de-fragmented frame, use `newframe = frame.copy()`\n",
      "  df.loc[df['Grade/100.00'] >= float(50), 'label'] = 'Passed'\n"
     ]
    }
   ],
   "source": [
    "dataset_information_50('data_source/ប្រឡងវិញ្ញាបនបត្រជំនាញឌីជីថលចាំបាច់ (CADT)/ប្រឡងវិញ្ញាបនបត្រជំនាញឌីជីថលចាំបាច់ (CADT-1)-Exam-grades.xlsx')"
   ]
  },
  {
   "cell_type": "markdown",
   "metadata": {},
   "source": [
    "#### 8. ៦ខេត្តផ្សេង"
   ]
  },
  {
   "cell_type": "code",
   "execution_count": 24,
   "metadata": {},
   "outputs": [
    {
     "name": "stdout",
     "output_type": "stream",
     "text": [
      "data_source/ប្រឡងវិញ្ញាបនបត្រជំនាញឌីជីថលចាំបាច់ (ខេត្ត-6)/ប្រឡងវិញ្ញាបនបត្រជំនាញឌីជីថលចាំបាច់(2022)-ប្រឡងវិញ្ញាបនបត្រជំនាញឌីជីថលចាំបាច់-grades.xlsx\n",
      "Total Examinee: 175\n",
      "Total Finished Examinee: 174\n",
      "Total Examinee in Progress: 1\n",
      "Number of Passed Examinee: 101  | Passing rate: 0.5771428571428572\n",
      "Number of Failed Examinee: 74  | Failing rate: 0.4228571428571429\n",
      "Average Score of Passed Examinee:  60.234257425742584\n",
      "Average Score of Failed Examinee:  39.514594594594584\n"
     ]
    },
    {
     "name": "stderr",
     "output_type": "stream",
     "text": [
      "/var/folders/dt/90w7dnxx5xzfd7px48yrrpt00000gn/T/ipykernel_8276/1653101233.py:12: PerformanceWarning: DataFrame is highly fragmented.  This is usually the result of calling `frame.insert` many times, which has poor performance.  Consider joining all columns at once using pd.concat(axis=1) instead. To get a de-fragmented frame, use `newframe = frame.copy()`\n",
      "  df.loc[df['Grade/100.00'] >= float(50), 'label'] = 'Passed'\n"
     ]
    }
   ],
   "source": [
    "dataset_information_50('data_source/ប្រឡងវិញ្ញាបនបត្រជំនាញឌីជីថលចាំបាច់ (ខេត្ត-6)/ប្រឡងវិញ្ញាបនបត្រជំនាញឌីជីថលចាំបាច់(2022)-ប្រឡងវិញ្ញាបនបត្រជំនាញឌីជីថលចាំបាច់-grades.xlsx')"
   ]
  }
 ],
 "metadata": {
  "kernelspec": {
   "display_name": "Python 3",
   "language": "python",
   "name": "python3"
  },
  "language_info": {
   "codemirror_mode": {
    "name": "ipython",
    "version": 3
   },
   "file_extension": ".py",
   "mimetype": "text/x-python",
   "name": "python",
   "nbconvert_exporter": "python",
   "pygments_lexer": "ipython3",
   "version": "3.9.18"
  },
  "orig_nbformat": 4
 },
 "nbformat": 4,
 "nbformat_minor": 2
}
