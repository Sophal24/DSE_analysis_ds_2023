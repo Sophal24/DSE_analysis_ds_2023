{
 "cells": [
  {
   "cell_type": "markdown",
   "metadata": {},
   "source": [
    "## Dataset Creation"
   ]
  },
  {
   "cell_type": "code",
   "execution_count": 199,
   "metadata": {},
   "outputs": [],
   "source": [
    "import pandas as pd\n",
    "import glob"
   ]
  },
  {
   "cell_type": "markdown",
   "metadata": {},
   "source": [
    "### Read Datasets"
   ]
  },
  {
   "cell_type": "code",
   "execution_count": 200,
   "metadata": {},
   "outputs": [
    {
     "name": "stdout",
     "output_type": "stream",
     "text": [
      "Amount of CSV file:  1\n",
      "CSV data: ['data_source/All-Pretest/តេស្តចូលរៀន(ខេត្ត)-តេស្តចូលរៀន-grades.csv']\n"
     ]
    },
    {
     "data": {
      "text/html": [
       "<div>\n",
       "<style scoped>\n",
       "    .dataframe tbody tr th:only-of-type {\n",
       "        vertical-align: middle;\n",
       "    }\n",
       "\n",
       "    .dataframe tbody tr th {\n",
       "        vertical-align: top;\n",
       "    }\n",
       "\n",
       "    .dataframe thead th {\n",
       "        text-align: right;\n",
       "    }\n",
       "</style>\n",
       "<table border=\"1\" class=\"dataframe\">\n",
       "  <thead>\n",
       "    <tr style=\"text-align: right;\">\n",
       "      <th></th>\n",
       "      <th>Surname</th>\n",
       "      <th>First name</th>\n",
       "      <th>Email address</th>\n",
       "      <th>State</th>\n",
       "      <th>Started on</th>\n",
       "      <th>Completed</th>\n",
       "      <th>Time taken</th>\n",
       "      <th>Grade/100.00</th>\n",
       "      <th>Q. 1 /1.25</th>\n",
       "      <th>Q. 2 /1.25</th>\n",
       "      <th>...</th>\n",
       "      <th>Q. 71 /1.25</th>\n",
       "      <th>Q. 72 /1.25</th>\n",
       "      <th>Q. 73 /1.25</th>\n",
       "      <th>Q. 74 /1.25</th>\n",
       "      <th>Q. 75 /1.25</th>\n",
       "      <th>Q. 76 /1.25</th>\n",
       "      <th>Q. 77 /1.25</th>\n",
       "      <th>Q. 78 /1.25</th>\n",
       "      <th>Q. 79 /1.25</th>\n",
       "      <th>Q. 80 /1.25</th>\n",
       "    </tr>\n",
       "  </thead>\n",
       "  <tbody>\n",
       "    <tr>\n",
       "      <th>0</th>\n",
       "      <td>SIVHEANG</td>\n",
       "      <td>HONG</td>\n",
       "      <td>089360126@kpthom.com</td>\n",
       "      <td>Finished</td>\n",
       "      <td>23 July 2022  6:26 AM</td>\n",
       "      <td>25 July 2022  8:15 PM</td>\n",
       "      <td>2 days 13 hours</td>\n",
       "      <td>27.38</td>\n",
       "      <td>1.25</td>\n",
       "      <td>1.25</td>\n",
       "      <td>...</td>\n",
       "      <td>-</td>\n",
       "      <td>-</td>\n",
       "      <td>-</td>\n",
       "      <td>-</td>\n",
       "      <td>-</td>\n",
       "      <td>-</td>\n",
       "      <td>-</td>\n",
       "      <td>-</td>\n",
       "      <td>-</td>\n",
       "      <td>-</td>\n",
       "    </tr>\n",
       "    <tr>\n",
       "      <th>1</th>\n",
       "      <td>PHEAROM</td>\n",
       "      <td>HORT</td>\n",
       "      <td>hortphearom201@gmail.com</td>\n",
       "      <td>Finished</td>\n",
       "      <td>23 July 2022  6:36 AM</td>\n",
       "      <td>23 July 2022  7:56 AM</td>\n",
       "      <td>1 hour 20 mins</td>\n",
       "      <td>38.60</td>\n",
       "      <td>0.42</td>\n",
       "      <td>0.75</td>\n",
       "      <td>...</td>\n",
       "      <td>1.25</td>\n",
       "      <td>-</td>\n",
       "      <td>0.00</td>\n",
       "      <td>0.00</td>\n",
       "      <td>1.25</td>\n",
       "      <td>0.83</td>\n",
       "      <td>0.31</td>\n",
       "      <td>1.25</td>\n",
       "      <td>0.00</td>\n",
       "      <td>0.00</td>\n",
       "    </tr>\n",
       "    <tr>\n",
       "      <th>2</th>\n",
       "      <td>KONGKEA</td>\n",
       "      <td>PHAN</td>\n",
       "      <td>0317377222@odmchey.com</td>\n",
       "      <td>Finished</td>\n",
       "      <td>23 July 2022  6:38 AM</td>\n",
       "      <td>23 July 2022  7:58 AM</td>\n",
       "      <td>1 hour 20 mins</td>\n",
       "      <td>28.04</td>\n",
       "      <td>0.00</td>\n",
       "      <td>0.75</td>\n",
       "      <td>...</td>\n",
       "      <td>-</td>\n",
       "      <td>-</td>\n",
       "      <td>-</td>\n",
       "      <td>-</td>\n",
       "      <td>-</td>\n",
       "      <td>-</td>\n",
       "      <td>-</td>\n",
       "      <td>-</td>\n",
       "      <td>-</td>\n",
       "      <td>-</td>\n",
       "    </tr>\n",
       "    <tr>\n",
       "      <th>3</th>\n",
       "      <td>LYDA</td>\n",
       "      <td>SOHEAN</td>\n",
       "      <td>017974972@kpthom.com</td>\n",
       "      <td>Finished</td>\n",
       "      <td>23 July 2022  6:44 AM</td>\n",
       "      <td>23 July 2022  8:04 AM</td>\n",
       "      <td>1 hour 20 mins</td>\n",
       "      <td>18.33</td>\n",
       "      <td>0.63</td>\n",
       "      <td>1.25</td>\n",
       "      <td>...</td>\n",
       "      <td>-</td>\n",
       "      <td>-</td>\n",
       "      <td>-</td>\n",
       "      <td>-</td>\n",
       "      <td>-</td>\n",
       "      <td>-</td>\n",
       "      <td>-</td>\n",
       "      <td>-</td>\n",
       "      <td>-</td>\n",
       "      <td>-</td>\n",
       "    </tr>\n",
       "    <tr>\n",
       "      <th>4</th>\n",
       "      <td>សាត់ស្យា</td>\n",
       "      <td>អៀង</td>\n",
       "      <td>098982928@odmchey.com</td>\n",
       "      <td>Finished</td>\n",
       "      <td>23 July 2022  6:47 AM</td>\n",
       "      <td>23 July 2022  8:07 AM</td>\n",
       "      <td>1 hour 20 mins</td>\n",
       "      <td>30.38</td>\n",
       "      <td>0.00</td>\n",
       "      <td>0.00</td>\n",
       "      <td>...</td>\n",
       "      <td>0.00</td>\n",
       "      <td>0.63</td>\n",
       "      <td>0.25</td>\n",
       "      <td>0.00</td>\n",
       "      <td>0.00</td>\n",
       "      <td>0.21</td>\n",
       "      <td>-</td>\n",
       "      <td>-</td>\n",
       "      <td>-</td>\n",
       "      <td>-</td>\n",
       "    </tr>\n",
       "  </tbody>\n",
       "</table>\n",
       "<p>5 rows × 88 columns</p>\n",
       "</div>"
      ],
      "text/plain": [
       "    Surname First name             Email address     State  \\\n",
       "0  SIVHEANG       HONG      089360126@kpthom.com  Finished   \n",
       "1   PHEAROM       HORT  hortphearom201@gmail.com  Finished   \n",
       "2   KONGKEA       PHAN    0317377222@odmchey.com  Finished   \n",
       "3      LYDA     SOHEAN      017974972@kpthom.com  Finished   \n",
       "4  សាត់ស្យា        អៀង     098982928@odmchey.com  Finished   \n",
       "\n",
       "              Started on              Completed       Time taken Grade/100.00  \\\n",
       "0  23 July 2022  6:26 AM  25 July 2022  8:15 PM  2 days 13 hours        27.38   \n",
       "1  23 July 2022  6:36 AM  23 July 2022  7:56 AM   1 hour 20 mins        38.60   \n",
       "2  23 July 2022  6:38 AM  23 July 2022  7:58 AM   1 hour 20 mins        28.04   \n",
       "3  23 July 2022  6:44 AM  23 July 2022  8:04 AM   1 hour 20 mins        18.33   \n",
       "4  23 July 2022  6:47 AM  23 July 2022  8:07 AM   1 hour 20 mins        30.38   \n",
       "\n",
       "  Q. 1 /1.25 Q. 2 /1.25  ... Q. 71 /1.25 Q. 72 /1.25 Q. 73 /1.25 Q. 74 /1.25  \\\n",
       "0       1.25       1.25  ...           -           -           -           -   \n",
       "1       0.42       0.75  ...        1.25           -        0.00        0.00   \n",
       "2       0.00       0.75  ...           -           -           -           -   \n",
       "3       0.63       1.25  ...           -           -           -           -   \n",
       "4       0.00       0.00  ...        0.00        0.63        0.25        0.00   \n",
       "\n",
       "  Q. 75 /1.25 Q. 76 /1.25 Q. 77 /1.25 Q. 78 /1.25 Q. 79 /1.25 Q. 80 /1.25  \n",
       "0           -           -           -           -           -           -  \n",
       "1        1.25        0.83        0.31        1.25        0.00        0.00  \n",
       "2           -           -           -           -           -           -  \n",
       "3           -           -           -           -           -           -  \n",
       "4        0.00        0.21           -           -           -           -  \n",
       "\n",
       "[5 rows x 88 columns]"
      ]
     },
     "execution_count": 200,
     "metadata": {},
     "output_type": "execute_result"
    }
   ],
   "source": [
    "csv_data_paths = glob.glob('data_source/**/*.csv', recursive=True)\n",
    "print(\"Amount of CSV file: \", len(csv_data_paths))\n",
    "print(\"CSV data:\", csv_data_paths)\n",
    "\n",
    "df_csv_format_pretest = pd.read_csv(csv_data_paths[0])\n",
    "df_csv_format_pretest = df_csv_format_pretest.head(len(df_csv_format_pretest)-1)\n",
    "df_csv_format_pretest.head(5)\n"
   ]
  },
  {
   "cell_type": "code",
   "execution_count": 201,
   "metadata": {},
   "outputs": [
    {
     "name": "stdout",
     "output_type": "stream",
     "text": [
      "Amount of CSV file:  20\n",
      "Excel Data: ['data_source/ប្រឡងវិញ្ញាបនបត្រជំនាញឌីជីថលចាំបាច់ (ខេត្តព្រះវិហា ឧត្តមានជ័យ សៀមរាប-៧)/Exam-PVH-UDM-7-ប្រឡង-grades.xlsx', 'data_source/ប្រឡងវិញ្ញាបនបត្រជំនាញឌីជីថលចាំបាច់ (ខេត្តព្រះវិហា ឧត្តមានជ័យ សៀមរាប-៧)/Exam-PVH-UDM-7-ប្រឡង-questionstats.xlsx', 'data_source/ប្រឡងវិញ្ញាបនបត្រជំនាញឌីជីថលចាំបាច់/DSE-EXAM-ERA5-Senate-វិញ្ញាសាប្រឡង-grades (1).xlsx', 'data_source/ប្រឡងវិញ្ញាបនបត្រជំនាញឌីជីថលចាំបាច់/DSE-EXAM-ERA5-Senate-វិញ្ញាសាប្រឡង-questionstats.xlsx', 'data_source/ប្រឡងវិញ្ញាបនបត្រជំនាញឌីជីថលចាំបាច់ខេត្តកែប-កំពត-ព្រះសីហនុ-កោះកុង/questionstats.xlsx', 'data_source/ប្រឡងវិញ្ញាបនបត្រជំនាញឌីជីថលចាំបាច់ខេត្តកែប-កំពត-ព្រះសីហនុ-កោះកុង/grades.xlsx', 'data_source/ប្រឡងវិញ្ញាបនបត្រជំនាញឌីជីថលចាំបាច់ (Senate-City Hall & Moeys)/ប្រឡងវិញ្ញាបនបត្រជំនាញឌីជីថលចាំបាច់(2022)-ប្រឡងវិញ្ញាបនបត្រជំនាញឌីជីថលចាំបាច់-grades.xlsx', 'data_source/ប្រឡងវិញ្ញាបនបត្រជំនាញឌីជីថលចាំបាច់ (Senate-City Hall & Moeys)/ប្រឡងវិញ្ញាបនបត្រជំនាញឌីជីថលចាំបាច់(2022)-ប្រឡងវិញ្ញាបនបត្រជំនាញឌីជីថលចាំបាច់-questionstats.xlsx', 'data_source/ប្រឡងវិញ្ញាបនបត្រជំនាញឌីជីថលចាំបាច់ខេត្តបន្ទាយមានជ័យ -\\u200b ខេត្តបាត់ដំបង -ពោធិ៍សាត់ -កំពង់ឆ្នាំង-ប៉ៃលិន (DSE-09)/questionstats.xlsx', 'data_source/ប្រឡងវិញ្ញាបនបត្រជំនាញឌីជីថលចាំបាច់ខេត្តបន្ទាយមានជ័យ -\\u200b ខេត្តបាត់ដំបង -ពោធិ៍សាត់ -កំពង់ឆ្នាំង-ប៉ៃលិន (DSE-09)/grades (1).xlsx', 'data_source/ប្រឡងវិញ្ញាបនបត្រជំនាញឌីជីថលចាំបាច់ នៃក្រសួងប្រៃសណីយ៍ និងទូរគមនាគមន៍-8/ប្រឡងវិញ្ញាបនបត្រក្រសួងប្រៃសណីយ៍ និងទូរគមនាគមន៍-ប្រឡងវិញ្ញាបនបត្រ DSE (ក្រសួងប្រៃសណីយ៍ និងទូរគមនាគមន៍-8)-grades.xlsx', 'data_source/ប្រឡងវិញ្ញាបនបត្រជំនាញឌីជីថលចាំបាច់ នៃក្រសួងប្រៃសណីយ៍ និងទូរគមនាគមន៍-8/ប្រឡងវិញ្ញាបនបត្រក្រសួងប្រៃសណីយ៍ និងទូរគមនាគមន៍-ប្រឡងវិញ្ញាបនបត្រ DSE (ក្រសួងប្រៃសណីយ៍ និងទូរគមនាគមន៍-8)-questionstats.xlsx', 'data_source/ប្រឡងវិញ្ញាបនបត្រជំនាញឌីជីថលចាំបាច់ (CADT)/ប្រឡងវិញ្ញាបនបត្រជំនាញឌីជីថលចាំបាច់ (CADT-1)-Exam-grades.xlsx', 'data_source/ប្រឡងវិញ្ញាបនបត្រជំនាញឌីជីថលចាំបាច់ (CADT)/ប្រឡងវិញ្ញាបនបត្រជំនាញឌីជីថលចាំបាច់ (CADT-1)-Exam-questionstats.xlsx', 'data_source/ប្រឡងវិញ្ញាបនបត្រជំនាញឌីជីថលចាំបាច់ (ខេត្ត-6)/ប្រឡងវិញ្ញាបនបត្រជំនាញឌីជីថលចាំបាច់(2022)-ប្រឡងវិញ្ញាបនបត្រជំនាញឌីជីថលចាំបាច់-grades.xlsx', 'data_source/ប្រឡងវិញ្ញាបនបត្រជំនាញឌីជីថលចាំបាច់ (ខេត្ត-6)/ប្រឡងវិញ្ញាបនបត្រជំនាញឌីជីថលចាំបាច់(2022)-ប្រឡងវិញ្ញាបនបត្រជំនាញឌីជីថលចាំបាច់-questionstats.xlsx', 'data_source/All-Pretest/តេស្តចូលរៀន( ខេត្តព្រះសីហនុ + ប៉ៃលិន)-តេស្ត-grades.xlsx', 'data_source/All-Pretest/តេស្តចូលរៀន4-តេស្តចូលរៀន-grades.xlsx', 'data_source/All-Pretest/តេស្តចូលរៀន-តេស្តចូលរៀន-grades.xlsx', 'data_source/All-Pretest/តេស្តចូលរៀនមន្រ្តីរាជការទូទៅ តេស្តចូលរៀន-grades.xlsx']\n"
     ]
    }
   ],
   "source": [
    "excel_data_paths = glob.glob('data_source/**/*.xlsx', recursive=True)\n",
    "print(\"Amount of CSV file: \", len(excel_data_paths))\n",
    "print(\"Excel Data:\", excel_data_paths)"
   ]
  },
  {
   "cell_type": "markdown",
   "metadata": {},
   "source": [
    "### Combine All-Pretest"
   ]
  },
  {
   "cell_type": "code",
   "execution_count": 202,
   "metadata": {},
   "outputs": [
    {
     "name": "stdout",
     "output_type": "stream",
     "text": [
      "data_source/All-Pretest/តេស្តចូលរៀន( ខេត្តព្រះសីហនុ + ប៉ៃលិន)-តេស្ត-grades.xlsx\n",
      "Dataset shape (794, 88)\n",
      "\n",
      "data_source/All-Pretest/តេស្តចូលរៀន4-តេស្តចូលរៀន-grades.xlsx\n",
      "Dataset shape (280, 88)\n",
      "\n",
      "data_source/All-Pretest/តេស្តចូលរៀន-តេស្តចូលរៀន-grades.xlsx\n",
      "Dataset shape (711, 88)\n",
      "\n",
      "data_source/All-Pretest/តេស្តចូលរៀនមន្រ្តីរាជការទូទៅ តេស្តចូលរៀន-grades.xlsx\n",
      "Dataset shape (792, 88)\n",
      "\n",
      "Total: 3195\n"
     ]
    }
   ],
   "source": [
    "df_pre_test_combined = pd.DataFrame()\n",
    "all_pretest_count = 0\n",
    "for path in excel_data_paths:\n",
    "    if('All-Pretest' not in path):\n",
    "        continue\n",
    "    else:\n",
    "        print(path)\n",
    "        df = pd.read_excel(path)\n",
    "        df = df.head(len(df)-1) # drop the last row\n",
    "        print(\"Dataset shape\", df.shape) \n",
    "        all_pretest_count = all_pretest_count + df.shape[0] \n",
    "        print()\n",
    "\n",
    "        # combine dataset - all_pretest\n",
    "        df_pre_test_combined = pd.concat([df_pre_test_combined, df], ignore_index=True)\n",
    "    # break\n",
    "\n",
    "df_pre_test_combined = pd.concat([df_pre_test_combined, df_csv_format_pretest], ignore_index=True)\n",
    "\n",
    "# print(all_pretest_count)\n",
    "print(\"Total:\", len(df_pre_test_combined))\n",
    "# print(df_pre_test_combined.head(5))\n",
    "\n",
    "result = df_pre_test_combined.to_csv(\"all_pretest_combined.csv\")"
   ]
  },
  {
   "cell_type": "markdown",
   "metadata": {},
   "source": [
    "### Combine All Test"
   ]
  },
  {
   "cell_type": "code",
   "execution_count": 203,
   "metadata": {},
   "outputs": [
    {
     "name": "stdout",
     "output_type": "stream",
     "text": [
      "data_source/ប្រឡងវិញ្ញាបនបត្រជំនាញឌីជីថលចាំបាច់ (ខេត្តព្រះវិហា ឧត្តមានជ័យ សៀមរាប-៧)/Exam-PVH-UDM-7-ប្រឡង-grades.xlsx\n",
      "Dataset shape (199, 108)\n",
      "\n",
      "data_source/ប្រឡងវិញ្ញាបនបត្រជំនាញឌីជីថលចាំបាច់/DSE-EXAM-ERA5-Senate-វិញ្ញាសាប្រឡង-grades (1).xlsx\n",
      "Dataset shape (672, 108)\n",
      "\n",
      "data_source/ប្រឡងវិញ្ញាបនបត្រជំនាញឌីជីថលចាំបាច់ខេត្តកែប-កំពត-ព្រះសីហនុ-កោះកុង/grades.xlsx\n",
      "Dataset shape (279, 108)\n",
      "\n",
      "data_source/ប្រឡងវិញ្ញាបនបត្រជំនាញឌីជីថលចាំបាច់ (Senate-City Hall & Moeys)/ប្រឡងវិញ្ញាបនបត្រជំនាញឌីជីថលចាំបាច់(2022)-ប្រឡងវិញ្ញាបនបត្រជំនាញឌីជីថលចាំបាច់-grades.xlsx\n",
      "Dataset shape (174, 108)\n",
      "\n",
      "data_source/ប្រឡងវិញ្ញាបនបត្រជំនាញឌីជីថលចាំបាច់ខេត្តបន្ទាយមានជ័យ -​ ខេត្តបាត់ដំបង -ពោធិ៍សាត់ -កំពង់ឆ្នាំង-ប៉ៃលិន (DSE-09)/grades (1).xlsx\n",
      "Dataset shape (345, 108)\n",
      "\n",
      "data_source/ប្រឡងវិញ្ញាបនបត្រជំនាញឌីជីថលចាំបាច់ នៃក្រសួងប្រៃសណីយ៍ និងទូរគមនាគមន៍-8/ប្រឡងវិញ្ញាបនបត្រក្រសួងប្រៃសណីយ៍ និងទូរគមនាគមន៍-ប្រឡងវិញ្ញាបនបត្រ DSE (ក្រសួងប្រៃសណីយ៍ និងទូរគមនាគមន៍-8)-grades.xlsx\n",
      "Dataset shape (230, 108)\n",
      "\n",
      "data_source/ប្រឡងវិញ្ញាបនបត្រជំនាញឌីជីថលចាំបាច់ (CADT)/ប្រឡងវិញ្ញាបនបត្រជំនាញឌីជីថលចាំបាច់ (CADT-1)-Exam-grades.xlsx\n",
      "Dataset shape (169, 108)\n",
      "\n",
      "data_source/ប្រឡងវិញ្ញាបនបត្រជំនាញឌីជីថលចាំបាច់ (ខេត្ត-6)/ប្រឡងវិញ្ញាបនបត្រជំនាញឌីជីថលចាំបាច់(2022)-ប្រឡងវិញ្ញាបនបត្រជំនាញឌីជីថលចាំបាច់-grades.xlsx\n",
      "Dataset shape (174, 108)\n",
      "\n",
      "Total: 2242\n"
     ]
    }
   ],
   "source": [
    "df_test_combined = pd.DataFrame()\n",
    "all_test_count = 0\n",
    "\n",
    "for path in excel_data_paths:\n",
    "    if('All-Pretest' in path or 'questionstats' in path):\n",
    "        continue\n",
    "    else:\n",
    "        print(path)\n",
    "        df = pd.read_excel(path)\n",
    "        df = df.head(len(df)-1) # drop the last row\n",
    "        print(\"Dataset shape\", df.shape)\n",
    "        all_test_count = all_test_count + df.shape[0]\n",
    "        print()\n",
    "\n",
    "        # combine dataset - all_pretest\n",
    "        df_test_combined = pd.concat([df_test_combined, df], ignore_index=True)\n",
    "\n",
    "print(\"Total:\", all_test_count)\n",
    "# print(df_pre_test_combined.head(5))\n",
    "\n",
    "df_test_combined.to_csv(\"all_test_combined.csv\")"
   ]
  },
  {
   "cell_type": "markdown",
   "metadata": {},
   "source": [
    "### Test on Dataset"
   ]
  },
  {
   "cell_type": "markdown",
   "metadata": {},
   "source": [
    "#### Function to display dataset information"
   ]
  },
  {
   "cell_type": "code",
   "execution_count": 204,
   "metadata": {},
   "outputs": [],
   "source": [
    "def dataset_information(path):\n",
    "    df = pd.read_excel(path)\n",
    "\n",
    "    # Replace - with None\n",
    "    columns = df.columns\n",
    "    for col in columns:\n",
    "        df[col] = df[col].replace(['-'], float(0))\n",
    "\n",
    "    df['Grade/100.00'] = df['Grade/100.00'].astype('float64')\n",
    "\n",
    "    df.loc[df['Grade/100.00'] >= float(60), 'label'] = 'Passed'\n",
    "    df.loc[df['Grade/100.00'] < float(60), 'label'] = 'Failed'\n",
    "\n",
    "    num_failed = len(df[df['label'] == 'Failed'])\n",
    "    num_passed = len(df[df['label'] == 'Passed'])\n",
    "\n",
    "    num_of_examinee = len(df)\n",
    "    num_finished_examinee = len(df[df['State'] == \"Finished\"])\n",
    "    num_in_progress_examinee = len(df[df['State'] != \"Finished\"])\n",
    "    num_failed = len(df[df['label'] == 'Failed'])\n",
    "    num_passed = len(df[df['label'] == 'Passed'])\n",
    "\n",
    "\n",
    "    print(\"Total Examinee:\", num_of_examinee)\n",
    "    print(\"Total Finished Examinee:\", num_finished_examinee)\n",
    "    print(\"Total Examinee in Progress:\", num_in_progress_examinee)\n",
    "    print(\"Number of Passed Examinee:\", num_passed, \" | Passing rate:\", num_passed / (num_passed+num_failed))\n",
    "    print(\"Number of Failed Examinee:\", num_failed, \" | Failing rate:\", num_failed / (num_passed+num_failed))\n",
    "    passed_df = df[df['label'] == 'Passed']\n",
    "    print(\"Average Score of Passed Examinee: \", passed_df['Grade/100.00'].mean())\n",
    "    failed_df = df[df['label'] == 'Failed']\n",
    "    print(\"Average Score of Failed Examinee: \", failed_df['Grade/100.00'].mean())\n",
    "    "
   ]
  },
  {
   "cell_type": "code",
   "execution_count": 205,
   "metadata": {},
   "outputs": [],
   "source": [
    "# for path in excel_data_paths:\n",
    "#     if('All-Pretest' in path or 'questionstats' in path):\n",
    "#         continue\n",
    "#     else:\n",
    "#         print(path)\n",
    "#         dataset_information(path)\n",
    "    \n",
    "#     print()\n",
    "    "
   ]
  },
  {
   "cell_type": "markdown",
   "metadata": {},
   "source": [
    "#### 1. ខេត្តព្រះវិហារ ឧត្តរមានជ័យ សៀមរាប"
   ]
  },
  {
   "cell_type": "code",
   "execution_count": 206,
   "metadata": {},
   "outputs": [
    {
     "name": "stdout",
     "output_type": "stream",
     "text": [
      "Total Examinee: 200\n",
      "Total Finished Examinee: 199\n",
      "Total Examinee in Progress: 1\n",
      "Number of Passed Examinee: 58  | Passing rate: 0.29\n",
      "Number of Failed Examinee: 142  | Failing rate: 0.71\n",
      "Average Score of Passed Examinee:  68.10310344827586\n",
      "Average Score of Failed Examinee:  46.98387323943661\n"
     ]
    },
    {
     "name": "stderr",
     "output_type": "stream",
     "text": [
      "/var/folders/dt/90w7dnxx5xzfd7px48yrrpt00000gn/T/ipykernel_39849/1976009895.py:11: PerformanceWarning: DataFrame is highly fragmented.  This is usually the result of calling `frame.insert` many times, which has poor performance.  Consider joining all columns at once using pd.concat(axis=1) instead. To get a de-fragmented frame, use `newframe = frame.copy()`\n",
      "  df.loc[df['Grade/100.00'] >= float(60), 'label'] = 'Passed'\n"
     ]
    }
   ],
   "source": [
    "dataset_information('data_source/ប្រឡងវិញ្ញាបនបត្រជំនាញឌីជីថលចាំបាច់ (ខេត្តព្រះវិហា ឧត្តមានជ័យ សៀមរាប-៧)/Exam-PVH-UDM-7-ប្រឡង-grades.xlsx')"
   ]
  },
  {
   "cell_type": "markdown",
   "metadata": {},
   "source": [
    "#### 2. ភូមិន្ធរដ្ឋបាល"
   ]
  },
  {
   "cell_type": "code",
   "execution_count": 207,
   "metadata": {},
   "outputs": [
    {
     "name": "stdout",
     "output_type": "stream",
     "text": [
      "Total Examinee: 673\n",
      "Total Finished Examinee: 670\n",
      "Total Examinee in Progress: 3\n",
      "Number of Passed Examinee: 303  | Passing rate: 0.45022288261515603\n",
      "Number of Failed Examinee: 370  | Failing rate: 0.549777117384844\n",
      "Average Score of Passed Examinee:  71.74980198019801\n",
      "Average Score of Failed Examinee:  46.82027027027027\n"
     ]
    },
    {
     "name": "stderr",
     "output_type": "stream",
     "text": [
      "/var/folders/dt/90w7dnxx5xzfd7px48yrrpt00000gn/T/ipykernel_39849/1976009895.py:11: PerformanceWarning: DataFrame is highly fragmented.  This is usually the result of calling `frame.insert` many times, which has poor performance.  Consider joining all columns at once using pd.concat(axis=1) instead. To get a de-fragmented frame, use `newframe = frame.copy()`\n",
      "  df.loc[df['Grade/100.00'] >= float(60), 'label'] = 'Passed'\n"
     ]
    }
   ],
   "source": [
    "dataset_information('data_source/ប្រឡងវិញ្ញាបនបត្រជំនាញឌីជីថលចាំបាច់/DSE-EXAM-ERA5-Senate-វិញ្ញាសាប្រឡង-grades (1).xlsx')"
   ]
  },
  {
   "cell_type": "markdown",
   "metadata": {},
   "source": [
    "#### 3. កែប កំពត ព្រះសីហនុ កោះកុង"
   ]
  },
  {
   "cell_type": "code",
   "execution_count": 208,
   "metadata": {},
   "outputs": [
    {
     "name": "stdout",
     "output_type": "stream",
     "text": [
      "Total Examinee: 280\n",
      "Total Finished Examinee: 279\n",
      "Total Examinee in Progress: 1\n",
      "Number of Passed Examinee: 85  | Passing rate: 0.30357142857142855\n",
      "Number of Failed Examinee: 195  | Failing rate: 0.6964285714285714\n",
      "Average Score of Passed Examinee:  68.32011764705882\n",
      "Average Score of Failed Examinee:  44.976871794871805\n"
     ]
    },
    {
     "name": "stderr",
     "output_type": "stream",
     "text": [
      "/var/folders/dt/90w7dnxx5xzfd7px48yrrpt00000gn/T/ipykernel_39849/1976009895.py:11: PerformanceWarning: DataFrame is highly fragmented.  This is usually the result of calling `frame.insert` many times, which has poor performance.  Consider joining all columns at once using pd.concat(axis=1) instead. To get a de-fragmented frame, use `newframe = frame.copy()`\n",
      "  df.loc[df['Grade/100.00'] >= float(60), 'label'] = 'Passed'\n"
     ]
    }
   ],
   "source": [
    "dataset_information('data_source/ប្រឡងវិញ្ញាបនបត្រជំនាញឌីជីថលចាំបាច់ខេត្តកែប-កំពត-ព្រះសីហនុ-កោះកុង/grades.xlsx')"
   ]
  },
  {
   "cell_type": "markdown",
   "metadata": {},
   "source": [
    "#### 4. ព្រឹទ្ធសភា សាលាក្រុង ក្រសួងអប់រំ"
   ]
  },
  {
   "cell_type": "code",
   "execution_count": 209,
   "metadata": {},
   "outputs": [
    {
     "name": "stdout",
     "output_type": "stream",
     "text": [
      "Total Examinee: 175\n",
      "Total Finished Examinee: 174\n",
      "Total Examinee in Progress: 1\n",
      "Number of Passed Examinee: 46  | Passing rate: 0.26285714285714284\n",
      "Number of Failed Examinee: 129  | Failing rate: 0.7371428571428571\n",
      "Average Score of Passed Examinee:  66.71130434782609\n",
      "Average Score of Failed Examinee:  46.03891472868217\n"
     ]
    },
    {
     "name": "stderr",
     "output_type": "stream",
     "text": [
      "/var/folders/dt/90w7dnxx5xzfd7px48yrrpt00000gn/T/ipykernel_39849/1976009895.py:11: PerformanceWarning: DataFrame is highly fragmented.  This is usually the result of calling `frame.insert` many times, which has poor performance.  Consider joining all columns at once using pd.concat(axis=1) instead. To get a de-fragmented frame, use `newframe = frame.copy()`\n",
      "  df.loc[df['Grade/100.00'] >= float(60), 'label'] = 'Passed'\n"
     ]
    }
   ],
   "source": [
    "dataset_information('data_source/ប្រឡងវិញ្ញាបនបត្រជំនាញឌីជីថលចាំបាច់ (Senate-City Hall & Moeys)/ប្រឡងវិញ្ញាបនបត្រជំនាញឌីជីថលចាំបាច់(2022)-ប្រឡងវិញ្ញាបនបត្រជំនាញឌីជីថលចាំបាច់-grades.xlsx')"
   ]
  },
  {
   "cell_type": "markdown",
   "metadata": {},
   "source": [
    "#### 5. បន្ទាយមានជ័យ បាត់ដំបង ពោធិ៍សាត់ កំពង់ឆ្នាំង ប៉ៃលិន"
   ]
  },
  {
   "cell_type": "code",
   "execution_count": 210,
   "metadata": {},
   "outputs": [
    {
     "name": "stdout",
     "output_type": "stream",
     "text": [
      "Total Examinee: 346\n",
      "Total Finished Examinee: 345\n",
      "Total Examinee in Progress: 1\n",
      "Number of Passed Examinee: 86  | Passing rate: 0.24855491329479767\n",
      "Number of Failed Examinee: 260  | Failing rate: 0.7514450867052023\n",
      "Average Score of Passed Examinee:  68.73767441860464\n",
      "Average Score of Failed Examinee:  45.301153846153845\n"
     ]
    },
    {
     "name": "stderr",
     "output_type": "stream",
     "text": [
      "/var/folders/dt/90w7dnxx5xzfd7px48yrrpt00000gn/T/ipykernel_39849/1976009895.py:11: PerformanceWarning: DataFrame is highly fragmented.  This is usually the result of calling `frame.insert` many times, which has poor performance.  Consider joining all columns at once using pd.concat(axis=1) instead. To get a de-fragmented frame, use `newframe = frame.copy()`\n",
      "  df.loc[df['Grade/100.00'] >= float(60), 'label'] = 'Passed'\n"
     ]
    }
   ],
   "source": [
    "dataset_information('data_source/ប្រឡងវិញ្ញាបនបត្រជំនាញឌីជីថលចាំបាច់ខេត្តបន្ទាយមានជ័យ -​ ខេត្តបាត់ដំបង -ពោធិ៍សាត់ -កំពង់ឆ្នាំង-ប៉ៃលិន (DSE-09)/grades (1).xlsx')"
   ]
  },
  {
   "cell_type": "markdown",
   "metadata": {},
   "source": [
    "#### 6. ក្រសួងប្រៃសណីយ៍ និងទូរគមនាគមន៍"
   ]
  },
  {
   "cell_type": "code",
   "execution_count": 211,
   "metadata": {},
   "outputs": [
    {
     "name": "stdout",
     "output_type": "stream",
     "text": [
      "Total Examinee: 231\n",
      "Total Finished Examinee: 230\n",
      "Total Examinee in Progress: 1\n",
      "Number of Passed Examinee: 118  | Passing rate: 0.5108225108225108\n",
      "Number of Failed Examinee: 113  | Failing rate: 0.48917748917748916\n",
      "Average Score of Passed Examinee:  72.66322033898305\n",
      "Average Score of Failed Examinee:  48.93194690265487\n"
     ]
    },
    {
     "name": "stderr",
     "output_type": "stream",
     "text": [
      "/var/folders/dt/90w7dnxx5xzfd7px48yrrpt00000gn/T/ipykernel_39849/1976009895.py:11: PerformanceWarning: DataFrame is highly fragmented.  This is usually the result of calling `frame.insert` many times, which has poor performance.  Consider joining all columns at once using pd.concat(axis=1) instead. To get a de-fragmented frame, use `newframe = frame.copy()`\n",
      "  df.loc[df['Grade/100.00'] >= float(60), 'label'] = 'Passed'\n"
     ]
    }
   ],
   "source": [
    "dataset_information('data_source/ប្រឡងវិញ្ញាបនបត្រជំនាញឌីជីថលចាំបាច់ នៃក្រសួងប្រៃសណីយ៍ និងទូរគមនាគមន៍-8/ប្រឡងវិញ្ញាបនបត្រក្រសួងប្រៃសណីយ៍ និងទូរគមនាគមន៍-ប្រឡងវិញ្ញាបនបត្រ DSE (ក្រសួងប្រៃសណីយ៍ និងទូរគមនាគមន៍-8)-grades.xlsx')"
   ]
  },
  {
   "cell_type": "markdown",
   "metadata": {},
   "source": [
    "#### 7. បណ្ឌិត្យសភាបច្ចេកវិទ្យាឌីជីថលកម្ពុជា"
   ]
  },
  {
   "cell_type": "code",
   "execution_count": 212,
   "metadata": {},
   "outputs": [
    {
     "name": "stdout",
     "output_type": "stream",
     "text": [
      "Total Examinee: 170\n",
      "Total Finished Examinee: 169\n",
      "Total Examinee in Progress: 1\n",
      "Number of Passed Examinee: 106  | Passing rate: 0.6235294117647059\n",
      "Number of Failed Examinee: 64  | Failing rate: 0.3764705882352941\n",
      "Average Score of Passed Examinee:  72.77707547169811\n",
      "Average Score of Failed Examinee:  44.825\n"
     ]
    },
    {
     "name": "stderr",
     "output_type": "stream",
     "text": [
      "/var/folders/dt/90w7dnxx5xzfd7px48yrrpt00000gn/T/ipykernel_39849/1976009895.py:11: PerformanceWarning: DataFrame is highly fragmented.  This is usually the result of calling `frame.insert` many times, which has poor performance.  Consider joining all columns at once using pd.concat(axis=1) instead. To get a de-fragmented frame, use `newframe = frame.copy()`\n",
      "  df.loc[df['Grade/100.00'] >= float(60), 'label'] = 'Passed'\n"
     ]
    }
   ],
   "source": [
    "dataset_information('data_source/ប្រឡងវិញ្ញាបនបត្រជំនាញឌីជីថលចាំបាច់ (CADT)/ប្រឡងវិញ្ញាបនបត្រជំនាញឌីជីថលចាំបាច់ (CADT-1)-Exam-grades.xlsx')"
   ]
  },
  {
   "cell_type": "markdown",
   "metadata": {},
   "source": [
    "#### 8. ៦ខេត្តផ្សេង"
   ]
  },
  {
   "cell_type": "code",
   "execution_count": 213,
   "metadata": {},
   "outputs": [
    {
     "name": "stdout",
     "output_type": "stream",
     "text": [
      "Total Examinee: 175\n",
      "Total Finished Examinee: 174\n",
      "Total Examinee in Progress: 1\n",
      "Number of Passed Examinee: 46  | Passing rate: 0.26285714285714284\n",
      "Number of Failed Examinee: 129  | Failing rate: 0.7371428571428571\n",
      "Average Score of Passed Examinee:  66.71130434782609\n",
      "Average Score of Failed Examinee:  46.03891472868217\n"
     ]
    },
    {
     "name": "stderr",
     "output_type": "stream",
     "text": [
      "/var/folders/dt/90w7dnxx5xzfd7px48yrrpt00000gn/T/ipykernel_39849/1976009895.py:11: PerformanceWarning: DataFrame is highly fragmented.  This is usually the result of calling `frame.insert` many times, which has poor performance.  Consider joining all columns at once using pd.concat(axis=1) instead. To get a de-fragmented frame, use `newframe = frame.copy()`\n",
      "  df.loc[df['Grade/100.00'] >= float(60), 'label'] = 'Passed'\n"
     ]
    }
   ],
   "source": [
    "dataset_information('data_source/ប្រឡងវិញ្ញាបនបត្រជំនាញឌីជីថលចាំបាច់ (ខេត្ត-6)/ប្រឡងវិញ្ញាបនបត្រជំនាញឌីជីថលចាំបាច់(2022)-ប្រឡងវិញ្ញាបនបត្រជំនាញឌីជីថលចាំបាច់-grades.xlsx')"
   ]
  }
 ],
 "metadata": {
  "kernelspec": {
   "display_name": "base",
   "language": "python",
   "name": "python3"
  },
  "language_info": {
   "codemirror_mode": {
    "name": "ipython",
    "version": 3
   },
   "file_extension": ".py",
   "mimetype": "text/x-python",
   "name": "python",
   "nbconvert_exporter": "python",
   "pygments_lexer": "ipython3",
   "version": "3.9.13"
  },
  "orig_nbformat": 4
 },
 "nbformat": 4,
 "nbformat_minor": 2
}
