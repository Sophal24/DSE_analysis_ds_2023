{
 "cells": [
  {
   "cell_type": "markdown",
   "metadata": {},
   "source": [
    "## Dataset Creation"
   ]
  },
  {
   "cell_type": "code",
   "execution_count": 2,
   "metadata": {},
   "outputs": [],
   "source": [
    "import pandas as pd\n",
    "import glob\n",
    "import matplotlib.pyplot as plt"
   ]
  },
  {
   "cell_type": "markdown",
   "metadata": {},
   "source": [
    "### Read Datasets"
   ]
  },
  {
   "cell_type": "code",
   "execution_count": 3,
   "metadata": {},
   "outputs": [
    {
     "name": "stdout",
     "output_type": "stream",
     "text": [
      "Amount of CSV file:  1\n",
      "CSV data: ['data_source/All-Pretest/តេស្តចូលរៀន(ខេត្ត)-តេស្តចូលរៀន-grades.csv']\n"
     ]
    },
    {
     "data": {
      "text/html": [
       "<div>\n",
       "<style scoped>\n",
       "    .dataframe tbody tr th:only-of-type {\n",
       "        vertical-align: middle;\n",
       "    }\n",
       "\n",
       "    .dataframe tbody tr th {\n",
       "        vertical-align: top;\n",
       "    }\n",
       "\n",
       "    .dataframe thead th {\n",
       "        text-align: right;\n",
       "    }\n",
       "</style>\n",
       "<table border=\"1\" class=\"dataframe\">\n",
       "  <thead>\n",
       "    <tr style=\"text-align: right;\">\n",
       "      <th></th>\n",
       "      <th>Surname</th>\n",
       "      <th>First name</th>\n",
       "      <th>Email address</th>\n",
       "      <th>State</th>\n",
       "      <th>Started on</th>\n",
       "      <th>Completed</th>\n",
       "      <th>Time taken</th>\n",
       "      <th>Grade/100.00</th>\n",
       "      <th>Q. 1 /1.25</th>\n",
       "      <th>Q. 2 /1.25</th>\n",
       "      <th>...</th>\n",
       "      <th>Q. 71 /1.25</th>\n",
       "      <th>Q. 72 /1.25</th>\n",
       "      <th>Q. 73 /1.25</th>\n",
       "      <th>Q. 74 /1.25</th>\n",
       "      <th>Q. 75 /1.25</th>\n",
       "      <th>Q. 76 /1.25</th>\n",
       "      <th>Q. 77 /1.25</th>\n",
       "      <th>Q. 78 /1.25</th>\n",
       "      <th>Q. 79 /1.25</th>\n",
       "      <th>Q. 80 /1.25</th>\n",
       "    </tr>\n",
       "  </thead>\n",
       "  <tbody>\n",
       "    <tr>\n",
       "      <th>0</th>\n",
       "      <td>SIVHEANG</td>\n",
       "      <td>HONG</td>\n",
       "      <td>089360126@kpthom.com</td>\n",
       "      <td>Finished</td>\n",
       "      <td>23 July 2022  6:26 AM</td>\n",
       "      <td>25 July 2022  8:15 PM</td>\n",
       "      <td>2 days 13 hours</td>\n",
       "      <td>27.38</td>\n",
       "      <td>1.25</td>\n",
       "      <td>1.25</td>\n",
       "      <td>...</td>\n",
       "      <td>-</td>\n",
       "      <td>-</td>\n",
       "      <td>-</td>\n",
       "      <td>-</td>\n",
       "      <td>-</td>\n",
       "      <td>-</td>\n",
       "      <td>-</td>\n",
       "      <td>-</td>\n",
       "      <td>-</td>\n",
       "      <td>-</td>\n",
       "    </tr>\n",
       "    <tr>\n",
       "      <th>1</th>\n",
       "      <td>PHEAROM</td>\n",
       "      <td>HORT</td>\n",
       "      <td>hortphearom201@gmail.com</td>\n",
       "      <td>Finished</td>\n",
       "      <td>23 July 2022  6:36 AM</td>\n",
       "      <td>23 July 2022  7:56 AM</td>\n",
       "      <td>1 hour 20 mins</td>\n",
       "      <td>38.60</td>\n",
       "      <td>0.42</td>\n",
       "      <td>0.75</td>\n",
       "      <td>...</td>\n",
       "      <td>1.25</td>\n",
       "      <td>-</td>\n",
       "      <td>0.00</td>\n",
       "      <td>0.00</td>\n",
       "      <td>1.25</td>\n",
       "      <td>0.83</td>\n",
       "      <td>0.31</td>\n",
       "      <td>1.25</td>\n",
       "      <td>0.00</td>\n",
       "      <td>0.00</td>\n",
       "    </tr>\n",
       "    <tr>\n",
       "      <th>2</th>\n",
       "      <td>KONGKEA</td>\n",
       "      <td>PHAN</td>\n",
       "      <td>0317377222@odmchey.com</td>\n",
       "      <td>Finished</td>\n",
       "      <td>23 July 2022  6:38 AM</td>\n",
       "      <td>23 July 2022  7:58 AM</td>\n",
       "      <td>1 hour 20 mins</td>\n",
       "      <td>28.04</td>\n",
       "      <td>0.00</td>\n",
       "      <td>0.75</td>\n",
       "      <td>...</td>\n",
       "      <td>-</td>\n",
       "      <td>-</td>\n",
       "      <td>-</td>\n",
       "      <td>-</td>\n",
       "      <td>-</td>\n",
       "      <td>-</td>\n",
       "      <td>-</td>\n",
       "      <td>-</td>\n",
       "      <td>-</td>\n",
       "      <td>-</td>\n",
       "    </tr>\n",
       "    <tr>\n",
       "      <th>3</th>\n",
       "      <td>LYDA</td>\n",
       "      <td>SOHEAN</td>\n",
       "      <td>017974972@kpthom.com</td>\n",
       "      <td>Finished</td>\n",
       "      <td>23 July 2022  6:44 AM</td>\n",
       "      <td>23 July 2022  8:04 AM</td>\n",
       "      <td>1 hour 20 mins</td>\n",
       "      <td>18.33</td>\n",
       "      <td>0.63</td>\n",
       "      <td>1.25</td>\n",
       "      <td>...</td>\n",
       "      <td>-</td>\n",
       "      <td>-</td>\n",
       "      <td>-</td>\n",
       "      <td>-</td>\n",
       "      <td>-</td>\n",
       "      <td>-</td>\n",
       "      <td>-</td>\n",
       "      <td>-</td>\n",
       "      <td>-</td>\n",
       "      <td>-</td>\n",
       "    </tr>\n",
       "    <tr>\n",
       "      <th>4</th>\n",
       "      <td>សាត់ស្យា</td>\n",
       "      <td>អៀង</td>\n",
       "      <td>098982928@odmchey.com</td>\n",
       "      <td>Finished</td>\n",
       "      <td>23 July 2022  6:47 AM</td>\n",
       "      <td>23 July 2022  8:07 AM</td>\n",
       "      <td>1 hour 20 mins</td>\n",
       "      <td>30.38</td>\n",
       "      <td>0.00</td>\n",
       "      <td>0.00</td>\n",
       "      <td>...</td>\n",
       "      <td>0.00</td>\n",
       "      <td>0.63</td>\n",
       "      <td>0.25</td>\n",
       "      <td>0.00</td>\n",
       "      <td>0.00</td>\n",
       "      <td>0.21</td>\n",
       "      <td>-</td>\n",
       "      <td>-</td>\n",
       "      <td>-</td>\n",
       "      <td>-</td>\n",
       "    </tr>\n",
       "  </tbody>\n",
       "</table>\n",
       "<p>5 rows × 88 columns</p>\n",
       "</div>"
      ],
      "text/plain": [
       "    Surname First name             Email address     State  \\\n",
       "0  SIVHEANG       HONG      089360126@kpthom.com  Finished   \n",
       "1   PHEAROM       HORT  hortphearom201@gmail.com  Finished   \n",
       "2   KONGKEA       PHAN    0317377222@odmchey.com  Finished   \n",
       "3      LYDA     SOHEAN      017974972@kpthom.com  Finished   \n",
       "4  សាត់ស្យា        អៀង     098982928@odmchey.com  Finished   \n",
       "\n",
       "              Started on              Completed       Time taken Grade/100.00  \\\n",
       "0  23 July 2022  6:26 AM  25 July 2022  8:15 PM  2 days 13 hours        27.38   \n",
       "1  23 July 2022  6:36 AM  23 July 2022  7:56 AM   1 hour 20 mins        38.60   \n",
       "2  23 July 2022  6:38 AM  23 July 2022  7:58 AM   1 hour 20 mins        28.04   \n",
       "3  23 July 2022  6:44 AM  23 July 2022  8:04 AM   1 hour 20 mins        18.33   \n",
       "4  23 July 2022  6:47 AM  23 July 2022  8:07 AM   1 hour 20 mins        30.38   \n",
       "\n",
       "  Q. 1 /1.25 Q. 2 /1.25  ... Q. 71 /1.25 Q. 72 /1.25 Q. 73 /1.25 Q. 74 /1.25  \\\n",
       "0       1.25       1.25  ...           -           -           -           -   \n",
       "1       0.42       0.75  ...        1.25           -        0.00        0.00   \n",
       "2       0.00       0.75  ...           -           -           -           -   \n",
       "3       0.63       1.25  ...           -           -           -           -   \n",
       "4       0.00       0.00  ...        0.00        0.63        0.25        0.00   \n",
       "\n",
       "  Q. 75 /1.25 Q. 76 /1.25 Q. 77 /1.25 Q. 78 /1.25 Q. 79 /1.25 Q. 80 /1.25  \n",
       "0           -           -           -           -           -           -  \n",
       "1        1.25        0.83        0.31        1.25        0.00        0.00  \n",
       "2           -           -           -           -           -           -  \n",
       "3           -           -           -           -           -           -  \n",
       "4        0.00        0.21           -           -           -           -  \n",
       "\n",
       "[5 rows x 88 columns]"
      ]
     },
     "execution_count": 3,
     "metadata": {},
     "output_type": "execute_result"
    }
   ],
   "source": [
    "csv_data_paths = glob.glob('data_source/**/*.csv', recursive=True)\n",
    "print(\"Amount of CSV file: \", len(csv_data_paths))\n",
    "print(\"CSV data:\", csv_data_paths)\n",
    "\n",
    "df_csv_format_pretest = pd.read_csv(csv_data_paths[0])\n",
    "df_csv_format_pretest = df_csv_format_pretest.head(len(df_csv_format_pretest)-1)\n",
    "df_csv_format_pretest.head(5)\n"
   ]
  },
  {
   "cell_type": "code",
   "execution_count": 4,
   "metadata": {},
   "outputs": [
    {
     "name": "stdout",
     "output_type": "stream",
     "text": [
      "Amount of CSV file:  20\n",
      "Excel Data: ['data_source/ប្រឡងវិញ្ញាបនបត្រជំនាញឌីជីថលចាំបាច់ (ខេត្តព្រះវិហា ឧត្តមានជ័យ សៀមរាប-៧)/Exam-PVH-UDM-7-ប្រឡង-grades.xlsx', 'data_source/ប្រឡងវិញ្ញាបនបត្រជំនាញឌីជីថលចាំបាច់ (ខេត្តព្រះវិហា ឧត្តមានជ័យ សៀមរាប-៧)/Exam-PVH-UDM-7-ប្រឡង-questionstats.xlsx', 'data_source/ប្រឡងវិញ្ញាបនបត្រជំនាញឌីជីថលចាំបាច់/DSE-EXAM-ERA5-Senate-វិញ្ញាសាប្រឡង-grades (1).xlsx', 'data_source/ប្រឡងវិញ្ញាបនបត្រជំនាញឌីជីថលចាំបាច់/DSE-EXAM-ERA5-Senate-វិញ្ញាសាប្រឡង-questionstats.xlsx', 'data_source/ប្រឡងវិញ្ញាបនបត្រជំនាញឌីជីថលចាំបាច់ខេត្តកែប-កំពត-ព្រះសីហនុ-កោះកុង/questionstats.xlsx', 'data_source/ប្រឡងវិញ្ញាបនបត្រជំនាញឌីជីថលចាំបាច់ខេត្តកែប-កំពត-ព្រះសីហនុ-កោះកុង/grades.xlsx', 'data_source/ប្រឡងវិញ្ញាបនបត្រជំនាញឌីជីថលចាំបាច់ (Senate-City Hall & Moeys)/ប្រឡងវិញ្ញាបនបត្រជំនាញឌីជីថលចាំបាច់(2022)-ប្រឡងវិញ្ញាបនបត្រជំនាញឌីជីថលចាំបាច់-grades.xlsx', 'data_source/ប្រឡងវិញ្ញាបនបត្រជំនាញឌីជីថលចាំបាច់ (Senate-City Hall & Moeys)/ប្រឡងវិញ្ញាបនបត្រជំនាញឌីជីថលចាំបាច់(2022)-ប្រឡងវិញ្ញាបនបត្រជំនាញឌីជីថលចាំបាច់-questionstats.xlsx', 'data_source/ប្រឡងវិញ្ញាបនបត្រជំនាញឌីជីថលចាំបាច់ខេត្តបន្ទាយមានជ័យ -\\u200b ខេត្តបាត់ដំបង -ពោធិ៍សាត់ -កំពង់ឆ្នាំង-ប៉ៃលិន (DSE-09)/questionstats.xlsx', 'data_source/ប្រឡងវិញ្ញាបនបត្រជំនាញឌីជីថលចាំបាច់ខេត្តបន្ទាយមានជ័យ -\\u200b ខេត្តបាត់ដំបង -ពោធិ៍សាត់ -កំពង់ឆ្នាំង-ប៉ៃលិន (DSE-09)/grades (1).xlsx', 'data_source/ប្រឡងវិញ្ញាបនបត្រជំនាញឌីជីថលចាំបាច់ នៃក្រសួងប្រៃសណីយ៍ និងទូរគមនាគមន៍-8/ប្រឡងវិញ្ញាបនបត្រក្រសួងប្រៃសណីយ៍ និងទូរគមនាគមន៍-ប្រឡងវិញ្ញាបនបត្រ DSE (ក្រសួងប្រៃសណីយ៍ និងទូរគមនាគមន៍-8)-grades.xlsx', 'data_source/ប្រឡងវិញ្ញាបនបត្រជំនាញឌីជីថលចាំបាច់ នៃក្រសួងប្រៃសណីយ៍ និងទូរគមនាគមន៍-8/ប្រឡងវិញ្ញាបនបត្រក្រសួងប្រៃសណីយ៍ និងទូរគមនាគមន៍-ប្រឡងវិញ្ញាបនបត្រ DSE (ក្រសួងប្រៃសណីយ៍ និងទូរគមនាគមន៍-8)-questionstats.xlsx', 'data_source/ប្រឡងវិញ្ញាបនបត្រជំនាញឌីជីថលចាំបាច់ (CADT)/ប្រឡងវិញ្ញាបនបត្រជំនាញឌីជីថលចាំបាច់ (CADT-1)-Exam-grades.xlsx', 'data_source/ប្រឡងវិញ្ញាបនបត្រជំនាញឌីជីថលចាំបាច់ (CADT)/ប្រឡងវិញ្ញាបនបត្រជំនាញឌីជីថលចាំបាច់ (CADT-1)-Exam-questionstats.xlsx', 'data_source/ប្រឡងវិញ្ញាបនបត្រជំនាញឌីជីថលចាំបាច់ (ខេត្ត-6)/ប្រឡងវិញ្ញាបនបត្រជំនាញឌីជីថលចាំបាច់(2022)-ប្រឡងវិញ្ញាបនបត្រជំនាញឌីជីថលចាំបាច់-grades.xlsx', 'data_source/ប្រឡងវិញ្ញាបនបត្រជំនាញឌីជីថលចាំបាច់ (ខេត្ត-6)/ប្រឡងវិញ្ញាបនបត្រជំនាញឌីជីថលចាំបាច់(2022)-ប្រឡងវិញ្ញាបនបត្រជំនាញឌីជីថលចាំបាច់-questionstats.xlsx', 'data_source/All-Pretest/តេស្តចូលរៀន( ខេត្តព្រះសីហនុ + ប៉ៃលិន)-តេស្ត-grades.xlsx', 'data_source/All-Pretest/តេស្តចូលរៀន4-តេស្តចូលរៀន-grades.xlsx', 'data_source/All-Pretest/តេស្តចូលរៀន-តេស្តចូលរៀន-grades.xlsx', 'data_source/All-Pretest/តេស្តចូលរៀនមន្រ្តីរាជការទូទៅ តេស្តចូលរៀន-grades.xlsx']\n"
     ]
    }
   ],
   "source": [
    "excel_data_paths = glob.glob('data_source/**/*.xlsx', recursive=True)\n",
    "print(\"Amount of CSV file: \", len(excel_data_paths))\n",
    "print(\"Excel Data:\", excel_data_paths)"
   ]
  },
  {
   "cell_type": "markdown",
   "metadata": {},
   "source": [
    "### Combine All-Pretest"
   ]
  },
  {
   "cell_type": "code",
   "execution_count": 5,
   "metadata": {},
   "outputs": [
    {
     "name": "stdout",
     "output_type": "stream",
     "text": [
      "data_source/All-Pretest/តេស្តចូលរៀន( ខេត្តព្រះសីហនុ + ប៉ៃលិន)-តេស្ត-grades.xlsx\n"
     ]
    },
    {
     "ename": "ImportError",
     "evalue": "Missing optional dependency 'openpyxl'.  Use pip or conda to install openpyxl.",
     "output_type": "error",
     "traceback": [
      "\u001b[0;31m---------------------------------------------------------------------------\u001b[0m",
      "\u001b[0;31mModuleNotFoundError\u001b[0m                       Traceback (most recent call last)",
      "File \u001b[0;32m~/opt/miniconda3/envs/dse_project/lib/python3.9/site-packages/pandas/compat/_optional.py:142\u001b[0m, in \u001b[0;36mimport_optional_dependency\u001b[0;34m(name, extra, errors, min_version)\u001b[0m\n\u001b[1;32m    141\u001b[0m \u001b[39mtry\u001b[39;00m:\n\u001b[0;32m--> 142\u001b[0m     module \u001b[39m=\u001b[39m importlib\u001b[39m.\u001b[39;49mimport_module(name)\n\u001b[1;32m    143\u001b[0m \u001b[39mexcept\u001b[39;00m \u001b[39mImportError\u001b[39;00m:\n",
      "File \u001b[0;32m~/opt/miniconda3/envs/dse_project/lib/python3.9/importlib/__init__.py:127\u001b[0m, in \u001b[0;36mimport_module\u001b[0;34m(name, package)\u001b[0m\n\u001b[1;32m    126\u001b[0m         level \u001b[39m+\u001b[39m\u001b[39m=\u001b[39m \u001b[39m1\u001b[39m\n\u001b[0;32m--> 127\u001b[0m \u001b[39mreturn\u001b[39;00m _bootstrap\u001b[39m.\u001b[39;49m_gcd_import(name[level:], package, level)\n",
      "File \u001b[0;32m<frozen importlib._bootstrap>:1030\u001b[0m, in \u001b[0;36m_gcd_import\u001b[0;34m(name, package, level)\u001b[0m\n",
      "File \u001b[0;32m<frozen importlib._bootstrap>:1007\u001b[0m, in \u001b[0;36m_find_and_load\u001b[0;34m(name, import_)\u001b[0m\n",
      "File \u001b[0;32m<frozen importlib._bootstrap>:984\u001b[0m, in \u001b[0;36m_find_and_load_unlocked\u001b[0;34m(name, import_)\u001b[0m\n",
      "\u001b[0;31mModuleNotFoundError\u001b[0m: No module named 'openpyxl'",
      "\nDuring handling of the above exception, another exception occurred:\n",
      "\u001b[0;31mImportError\u001b[0m                               Traceback (most recent call last)",
      "\u001b[1;32m/Users/thearsophal/Documents/CADT/PROJECT/2_DSE/code_dse/1_dataset_creation.ipynb Cell 7\u001b[0m line \u001b[0;36m8\n\u001b[1;32m      <a href='vscode-notebook-cell:/Users/thearsophal/Documents/CADT/PROJECT/2_DSE/code_dse/1_dataset_creation.ipynb#W6sZmlsZQ%3D%3D?line=5'>6</a>\u001b[0m \u001b[39melse\u001b[39;00m:\n\u001b[1;32m      <a href='vscode-notebook-cell:/Users/thearsophal/Documents/CADT/PROJECT/2_DSE/code_dse/1_dataset_creation.ipynb#W6sZmlsZQ%3D%3D?line=6'>7</a>\u001b[0m     \u001b[39mprint\u001b[39m(path)\n\u001b[0;32m----> <a href='vscode-notebook-cell:/Users/thearsophal/Documents/CADT/PROJECT/2_DSE/code_dse/1_dataset_creation.ipynb#W6sZmlsZQ%3D%3D?line=7'>8</a>\u001b[0m     df \u001b[39m=\u001b[39m pd\u001b[39m.\u001b[39;49mread_excel(path)\n\u001b[1;32m      <a href='vscode-notebook-cell:/Users/thearsophal/Documents/CADT/PROJECT/2_DSE/code_dse/1_dataset_creation.ipynb#W6sZmlsZQ%3D%3D?line=8'>9</a>\u001b[0m     df \u001b[39m=\u001b[39m df\u001b[39m.\u001b[39mhead(\u001b[39mlen\u001b[39m(df)\u001b[39m-\u001b[39m\u001b[39m1\u001b[39m) \u001b[39m# drop the last row\u001b[39;00m\n\u001b[1;32m     <a href='vscode-notebook-cell:/Users/thearsophal/Documents/CADT/PROJECT/2_DSE/code_dse/1_dataset_creation.ipynb#W6sZmlsZQ%3D%3D?line=9'>10</a>\u001b[0m     \u001b[39mprint\u001b[39m(\u001b[39m\"\u001b[39m\u001b[39mDataset shape\u001b[39m\u001b[39m\"\u001b[39m, df\u001b[39m.\u001b[39mshape) \n",
      "File \u001b[0;32m~/opt/miniconda3/envs/dse_project/lib/python3.9/site-packages/pandas/io/excel/_base.py:478\u001b[0m, in \u001b[0;36mread_excel\u001b[0;34m(io, sheet_name, header, names, index_col, usecols, dtype, engine, converters, true_values, false_values, skiprows, nrows, na_values, keep_default_na, na_filter, verbose, parse_dates, date_parser, date_format, thousands, decimal, comment, skipfooter, storage_options, dtype_backend)\u001b[0m\n\u001b[1;32m    476\u001b[0m \u001b[39mif\u001b[39;00m \u001b[39mnot\u001b[39;00m \u001b[39misinstance\u001b[39m(io, ExcelFile):\n\u001b[1;32m    477\u001b[0m     should_close \u001b[39m=\u001b[39m \u001b[39mTrue\u001b[39;00m\n\u001b[0;32m--> 478\u001b[0m     io \u001b[39m=\u001b[39m ExcelFile(io, storage_options\u001b[39m=\u001b[39;49mstorage_options, engine\u001b[39m=\u001b[39;49mengine)\n\u001b[1;32m    479\u001b[0m \u001b[39melif\u001b[39;00m engine \u001b[39mand\u001b[39;00m engine \u001b[39m!=\u001b[39m io\u001b[39m.\u001b[39mengine:\n\u001b[1;32m    480\u001b[0m     \u001b[39mraise\u001b[39;00m \u001b[39mValueError\u001b[39;00m(\n\u001b[1;32m    481\u001b[0m         \u001b[39m\"\u001b[39m\u001b[39mEngine should not be specified when passing \u001b[39m\u001b[39m\"\u001b[39m\n\u001b[1;32m    482\u001b[0m         \u001b[39m\"\u001b[39m\u001b[39man ExcelFile - ExcelFile already has the engine set\u001b[39m\u001b[39m\"\u001b[39m\n\u001b[1;32m    483\u001b[0m     )\n",
      "File \u001b[0;32m~/opt/miniconda3/envs/dse_project/lib/python3.9/site-packages/pandas/io/excel/_base.py:1513\u001b[0m, in \u001b[0;36mExcelFile.__init__\u001b[0;34m(self, path_or_buffer, engine, storage_options)\u001b[0m\n\u001b[1;32m   1510\u001b[0m \u001b[39mself\u001b[39m\u001b[39m.\u001b[39mengine \u001b[39m=\u001b[39m engine\n\u001b[1;32m   1511\u001b[0m \u001b[39mself\u001b[39m\u001b[39m.\u001b[39mstorage_options \u001b[39m=\u001b[39m storage_options\n\u001b[0;32m-> 1513\u001b[0m \u001b[39mself\u001b[39m\u001b[39m.\u001b[39m_reader \u001b[39m=\u001b[39m \u001b[39mself\u001b[39;49m\u001b[39m.\u001b[39;49m_engines[engine](\u001b[39mself\u001b[39;49m\u001b[39m.\u001b[39;49m_io, storage_options\u001b[39m=\u001b[39;49mstorage_options)\n",
      "File \u001b[0;32m~/opt/miniconda3/envs/dse_project/lib/python3.9/site-packages/pandas/io/excel/_openpyxl.py:548\u001b[0m, in \u001b[0;36mOpenpyxlReader.__init__\u001b[0;34m(self, filepath_or_buffer, storage_options)\u001b[0m\n\u001b[1;32m    533\u001b[0m \u001b[39m@doc\u001b[39m(storage_options\u001b[39m=\u001b[39m_shared_docs[\u001b[39m\"\u001b[39m\u001b[39mstorage_options\u001b[39m\u001b[39m\"\u001b[39m])\n\u001b[1;32m    534\u001b[0m \u001b[39mdef\u001b[39;00m \u001b[39m__init__\u001b[39m(\n\u001b[1;32m    535\u001b[0m     \u001b[39mself\u001b[39m,\n\u001b[1;32m    536\u001b[0m     filepath_or_buffer: FilePath \u001b[39m|\u001b[39m ReadBuffer[\u001b[39mbytes\u001b[39m],\n\u001b[1;32m    537\u001b[0m     storage_options: StorageOptions \u001b[39m=\u001b[39m \u001b[39mNone\u001b[39;00m,\n\u001b[1;32m    538\u001b[0m ) \u001b[39m-\u001b[39m\u001b[39m>\u001b[39m \u001b[39mNone\u001b[39;00m:\n\u001b[1;32m    539\u001b[0m \u001b[39m    \u001b[39m\u001b[39m\"\"\"\u001b[39;00m\n\u001b[1;32m    540\u001b[0m \u001b[39m    Reader using openpyxl engine.\u001b[39;00m\n\u001b[1;32m    541\u001b[0m \n\u001b[0;32m   (...)\u001b[0m\n\u001b[1;32m    546\u001b[0m \u001b[39m    {storage_options}\u001b[39;00m\n\u001b[1;32m    547\u001b[0m \u001b[39m    \"\"\"\u001b[39;00m\n\u001b[0;32m--> 548\u001b[0m     import_optional_dependency(\u001b[39m\"\u001b[39;49m\u001b[39mopenpyxl\u001b[39;49m\u001b[39m\"\u001b[39;49m)\n\u001b[1;32m    549\u001b[0m     \u001b[39msuper\u001b[39m()\u001b[39m.\u001b[39m\u001b[39m__init__\u001b[39m(filepath_or_buffer, storage_options\u001b[39m=\u001b[39mstorage_options)\n",
      "File \u001b[0;32m~/opt/miniconda3/envs/dse_project/lib/python3.9/site-packages/pandas/compat/_optional.py:145\u001b[0m, in \u001b[0;36mimport_optional_dependency\u001b[0;34m(name, extra, errors, min_version)\u001b[0m\n\u001b[1;32m    143\u001b[0m \u001b[39mexcept\u001b[39;00m \u001b[39mImportError\u001b[39;00m:\n\u001b[1;32m    144\u001b[0m     \u001b[39mif\u001b[39;00m errors \u001b[39m==\u001b[39m \u001b[39m\"\u001b[39m\u001b[39mraise\u001b[39m\u001b[39m\"\u001b[39m:\n\u001b[0;32m--> 145\u001b[0m         \u001b[39mraise\u001b[39;00m \u001b[39mImportError\u001b[39;00m(msg)\n\u001b[1;32m    146\u001b[0m     \u001b[39mreturn\u001b[39;00m \u001b[39mNone\u001b[39;00m\n\u001b[1;32m    148\u001b[0m \u001b[39m# Handle submodules: if we have submodule, grab parent module from sys.modules\u001b[39;00m\n",
      "\u001b[0;31mImportError\u001b[0m: Missing optional dependency 'openpyxl'.  Use pip or conda to install openpyxl."
     ]
    }
   ],
   "source": [
    "df_pre_test_combined = pd.DataFrame()\n",
    "all_pretest_count = 0\n",
    "for path in excel_data_paths:\n",
    "    if('All-Pretest' not in path):\n",
    "        continue\n",
    "    else:\n",
    "        print(path)\n",
    "        df = pd.read_excel(path)\n",
    "        df = df.head(len(df)-1) # drop the last row\n",
    "        print(\"Dataset shape\", df.shape) \n",
    "        all_pretest_count = all_pretest_count + df.shape[0] \n",
    "        print()\n",
    "\n",
    "        # combine dataset - all_pretest\n",
    "        df_pre_test_combined = pd.concat([df_pre_test_combined, df], ignore_index=True)\n",
    "    # break\n",
    "\n",
    "df_pre_test_combined = pd.concat([df_pre_test_combined, df_csv_format_pretest], ignore_index=True)\n",
    "\n",
    "# print(all_pretest_count)\n",
    "print(\"Total:\", len(df_pre_test_combined))\n",
    "# print(df_pre_test_combined.head(5))\n",
    "\n",
    "result = df_pre_test_combined.to_csv(\"./datasets/all_pretest_combined.csv\")"
   ]
  },
  {
   "cell_type": "markdown",
   "metadata": {},
   "source": [
    "### Combine All Test"
   ]
  },
  {
   "cell_type": "code",
   "execution_count": null,
   "metadata": {},
   "outputs": [
    {
     "name": "stdout",
     "output_type": "stream",
     "text": [
      "data_source/ប្រឡងវិញ្ញាបនបត្រជំនាញឌីជីថលចាំបាច់ (ខេត្តព្រះវិហា ឧត្តមានជ័យ សៀមរាប-៧)/Exam-PVH-UDM-7-ប្រឡង-grades.xlsx\n",
      "Dataset shape (199, 108)\n",
      "\n",
      "data_source/ប្រឡងវិញ្ញាបនបត្រជំនាញឌីជីថលចាំបាច់/DSE-EXAM-ERA5-Senate-វិញ្ញាសាប្រឡង-grades (1).xlsx\n",
      "Dataset shape (672, 108)\n",
      "\n",
      "data_source/ប្រឡងវិញ្ញាបនបត្រជំនាញឌីជីថលចាំបាច់ខេត្តកែប-កំពត-ព្រះសីហនុ-កោះកុង/grades.xlsx\n",
      "Dataset shape (279, 108)\n",
      "\n",
      "data_source/ប្រឡងវិញ្ញាបនបត្រជំនាញឌីជីថលចាំបាច់ (Senate-City Hall & Moeys)/ប្រឡងវិញ្ញាបនបត្រជំនាញឌីជីថលចាំបាច់(2022)-ប្រឡងវិញ្ញាបនបត្រជំនាញឌីជីថលចាំបាច់-grades.xlsx\n",
      "Dataset shape (174, 108)\n",
      "\n",
      "data_source/ប្រឡងវិញ្ញាបនបត្រជំនាញឌីជីថលចាំបាច់ខេត្តបន្ទាយមានជ័យ -​ ខេត្តបាត់ដំបង -ពោធិ៍សាត់ -កំពង់ឆ្នាំង-ប៉ៃលិន (DSE-09)/grades (1).xlsx\n",
      "Dataset shape (345, 108)\n",
      "\n",
      "data_source/ប្រឡងវិញ្ញាបនបត្រជំនាញឌីជីថលចាំបាច់ នៃក្រសួងប្រៃសណីយ៍ និងទូរគមនាគមន៍-8/ប្រឡងវិញ្ញាបនបត្រក្រសួងប្រៃសណីយ៍ និងទូរគមនាគមន៍-ប្រឡងវិញ្ញាបនបត្រ DSE (ក្រសួងប្រៃសណីយ៍ និងទូរគមនាគមន៍-8)-grades.xlsx\n",
      "Dataset shape (230, 108)\n",
      "\n",
      "data_source/ប្រឡងវិញ្ញាបនបត្រជំនាញឌីជីថលចាំបាច់ (CADT)/ប្រឡងវិញ្ញាបនបត្រជំនាញឌីជីថលចាំបាច់ (CADT-1)-Exam-grades.xlsx\n",
      "Dataset shape (169, 108)\n",
      "\n",
      "data_source/ប្រឡងវិញ្ញាបនបត្រជំនាញឌីជីថលចាំបាច់ (ខេត្ត-6)/ប្រឡងវិញ្ញាបនបត្រជំនាញឌីជីថលចាំបាច់(2022)-ប្រឡងវិញ្ញាបនបត្រជំនាញឌីជីថលចាំបាច់-grades.xlsx\n",
      "Dataset shape (174, 108)\n",
      "\n",
      "Total: 2242\n"
     ]
    }
   ],
   "source": [
    "df_test_combined = pd.DataFrame()\n",
    "all_test_count = 0\n",
    "\n",
    "for path in excel_data_paths:\n",
    "    if('All-Pretest' in path or 'questionstats' in path):\n",
    "        continue\n",
    "    else:\n",
    "        print(path)\n",
    "        df = pd.read_excel(path)\n",
    "        df = df.head(len(df)-1) # drop the last row\n",
    "        print(\"Dataset shape\", df.shape)\n",
    "        all_test_count = all_test_count + df.shape[0]\n",
    "        print()\n",
    "\n",
    "        # combine dataset - all_pretest\n",
    "        df_test_combined = pd.concat([df_test_combined, df], ignore_index=True)\n",
    "\n",
    "print(\"Total:\", all_test_count)\n",
    "# print(df_pre_test_combined.head(5))\n",
    "\n",
    "df_test_combined.to_csv(\"./datasets/all_test_combined.csv\")"
   ]
  },
  {
   "cell_type": "markdown",
   "metadata": {},
   "source": [
    "### Test on Dataset"
   ]
  },
  {
   "cell_type": "markdown",
   "metadata": {},
   "source": [
    "#### Function to display dataset information - PASSING SCORE 60"
   ]
  },
  {
   "cell_type": "code",
   "execution_count": null,
   "metadata": {},
   "outputs": [],
   "source": [
    "def dataset_information(path):\n",
    "    df = pd.read_excel(path)\n",
    "\n",
    "    # Replace - with None\n",
    "    columns = df.columns\n",
    "    for col in columns:\n",
    "        df[col] = df[col].replace(['-'], float(0))\n",
    "\n",
    "    df['Grade/100.00'] = df['Grade/100.00'].astype('float64')\n",
    "\n",
    "    df.loc[df['Grade/100.00'] >= float(60), 'label'] = 'Passed'\n",
    "    df.loc[df['Grade/100.00'] < float(60), 'label'] = 'Failed'\n",
    "\n",
    "    num_failed = len(df[df['label'] == 'Failed'])\n",
    "    num_passed = len(df[df['label'] == 'Passed'])\n",
    "\n",
    "    num_of_examinee = len(df)\n",
    "    num_finished_examinee = len(df[df['State'] == \"Finished\"])\n",
    "    num_in_progress_examinee = len(df[df['State'] != \"Finished\"])\n",
    "    num_failed = len(df[df['label'] == 'Failed'])\n",
    "    num_passed = len(df[df['label'] == 'Passed'])\n",
    "\n",
    "\n",
    "    print(\"Total Examinee:\", num_of_examinee)\n",
    "    print(\"Total Finished Examinee:\", num_finished_examinee)\n",
    "    print(\"Total Examinee in Progress:\", num_in_progress_examinee)\n",
    "    print(\"Number of Passed Examinee:\", num_passed, \" | Passing rate:\", num_passed / (num_passed+num_failed))\n",
    "    print(\"Number of Failed Examinee:\", num_failed, \" | Failing rate:\", num_failed / (num_passed+num_failed))\n",
    "    passed_df = df[df['label'] == 'Passed']\n",
    "    print(\"Average Score of Passed Examinee: \", passed_df['Grade/100.00'].mean())\n",
    "    failed_df = df[df['label'] == 'Failed']\n",
    "    print(\"Average Score of Failed Examinee: \", failed_df['Grade/100.00'].mean())\n",
    "    "
   ]
  },
  {
   "cell_type": "code",
   "execution_count": null,
   "metadata": {},
   "outputs": [],
   "source": [
    "# for path in excel_data_paths:\n",
    "#     if('All-Pretest' in path or 'questionstats' in path):\n",
    "#         continue\n",
    "#     else:\n",
    "#         print(path)\n",
    "#         dataset_information(path)\n",
    "    \n",
    "#     print()\n",
    "    "
   ]
  },
  {
   "cell_type": "markdown",
   "metadata": {},
   "source": [
    "#### 1. ខេត្តព្រះវិហារ ឧត្តរមានជ័យ សៀមរាប"
   ]
  },
  {
   "cell_type": "code",
   "execution_count": null,
   "metadata": {},
   "outputs": [
    {
     "name": "stdout",
     "output_type": "stream",
     "text": [
      "Total Examinee: 200\n",
      "Total Finished Examinee: 199\n",
      "Total Examinee in Progress: 1\n",
      "Number of Passed Examinee: 58  | Passing rate: 0.29\n",
      "Number of Failed Examinee: 142  | Failing rate: 0.71\n",
      "Average Score of Passed Examinee:  68.10310344827586\n",
      "Average Score of Failed Examinee:  46.98387323943661\n"
     ]
    },
    {
     "name": "stderr",
     "output_type": "stream",
     "text": [
      "/var/folders/dt/90w7dnxx5xzfd7px48yrrpt00000gn/T/ipykernel_40445/1976009895.py:11: PerformanceWarning: DataFrame is highly fragmented.  This is usually the result of calling `frame.insert` many times, which has poor performance.  Consider joining all columns at once using pd.concat(axis=1) instead. To get a de-fragmented frame, use `newframe = frame.copy()`\n",
      "  df.loc[df['Grade/100.00'] >= float(60), 'label'] = 'Passed'\n",
      "/var/folders/dt/90w7dnxx5xzfd7px48yrrpt00000gn/T/ipykernel_40445/1976009895.py:11: FutureWarning: Setting an item of incompatible dtype is deprecated and will raise in a future error of pandas. Value 'Passed' has dtype incompatible with float64, please explicitly cast to a compatible dtype first.\n",
      "  df.loc[df['Grade/100.00'] >= float(60), 'label'] = 'Passed'\n"
     ]
    }
   ],
   "source": [
    "dataset_information('data_source/ប្រឡងវិញ្ញាបនបត្រជំនាញឌីជីថលចាំបាច់ (ខេត្តព្រះវិហា ឧត្តមានជ័យ សៀមរាប-៧)/Exam-PVH-UDM-7-ប្រឡង-grades.xlsx')"
   ]
  },
  {
   "cell_type": "markdown",
   "metadata": {},
   "source": [
    "#### 2. ភូមិន្ធរដ្ឋបាល"
   ]
  },
  {
   "cell_type": "code",
   "execution_count": null,
   "metadata": {},
   "outputs": [
    {
     "name": "stdout",
     "output_type": "stream",
     "text": [
      "Total Examinee: 673\n",
      "Total Finished Examinee: 670\n",
      "Total Examinee in Progress: 3\n",
      "Number of Passed Examinee: 303  | Passing rate: 0.45022288261515603\n",
      "Number of Failed Examinee: 370  | Failing rate: 0.549777117384844\n",
      "Average Score of Passed Examinee:  71.74980198019801\n",
      "Average Score of Failed Examinee:  46.82027027027027\n"
     ]
    },
    {
     "name": "stderr",
     "output_type": "stream",
     "text": [
      "/var/folders/dt/90w7dnxx5xzfd7px48yrrpt00000gn/T/ipykernel_40445/1976009895.py:11: PerformanceWarning: DataFrame is highly fragmented.  This is usually the result of calling `frame.insert` many times, which has poor performance.  Consider joining all columns at once using pd.concat(axis=1) instead. To get a de-fragmented frame, use `newframe = frame.copy()`\n",
      "  df.loc[df['Grade/100.00'] >= float(60), 'label'] = 'Passed'\n",
      "/var/folders/dt/90w7dnxx5xzfd7px48yrrpt00000gn/T/ipykernel_40445/1976009895.py:11: FutureWarning: Setting an item of incompatible dtype is deprecated and will raise in a future error of pandas. Value 'Passed' has dtype incompatible with float64, please explicitly cast to a compatible dtype first.\n",
      "  df.loc[df['Grade/100.00'] >= float(60), 'label'] = 'Passed'\n"
     ]
    }
   ],
   "source": [
    "dataset_information('data_source/ប្រឡងវិញ្ញាបនបត្រជំនាញឌីជីថលចាំបាច់/DSE-EXAM-ERA5-Senate-វិញ្ញាសាប្រឡង-grades (1).xlsx')"
   ]
  },
  {
   "cell_type": "markdown",
   "metadata": {},
   "source": [
    "#### 3. កែប កំពត ព្រះសីហនុ កោះកុង"
   ]
  },
  {
   "cell_type": "code",
   "execution_count": null,
   "metadata": {},
   "outputs": [
    {
     "name": "stdout",
     "output_type": "stream",
     "text": [
      "Total Examinee: 280\n",
      "Total Finished Examinee: 279\n",
      "Total Examinee in Progress: 1\n",
      "Number of Passed Examinee: 85  | Passing rate: 0.30357142857142855\n",
      "Number of Failed Examinee: 195  | Failing rate: 0.6964285714285714\n",
      "Average Score of Passed Examinee:  68.32011764705882\n",
      "Average Score of Failed Examinee:  44.976871794871805\n"
     ]
    },
    {
     "name": "stderr",
     "output_type": "stream",
     "text": [
      "/var/folders/dt/90w7dnxx5xzfd7px48yrrpt00000gn/T/ipykernel_40445/1976009895.py:11: PerformanceWarning: DataFrame is highly fragmented.  This is usually the result of calling `frame.insert` many times, which has poor performance.  Consider joining all columns at once using pd.concat(axis=1) instead. To get a de-fragmented frame, use `newframe = frame.copy()`\n",
      "  df.loc[df['Grade/100.00'] >= float(60), 'label'] = 'Passed'\n",
      "/var/folders/dt/90w7dnxx5xzfd7px48yrrpt00000gn/T/ipykernel_40445/1976009895.py:11: FutureWarning: Setting an item of incompatible dtype is deprecated and will raise in a future error of pandas. Value 'Passed' has dtype incompatible with float64, please explicitly cast to a compatible dtype first.\n",
      "  df.loc[df['Grade/100.00'] >= float(60), 'label'] = 'Passed'\n"
     ]
    }
   ],
   "source": [
    "dataset_information('data_source/ប្រឡងវិញ្ញាបនបត្រជំនាញឌីជីថលចាំបាច់ខេត្តកែប-កំពត-ព្រះសីហនុ-កោះកុង/grades.xlsx')"
   ]
  },
  {
   "cell_type": "markdown",
   "metadata": {},
   "source": [
    "#### 4. ព្រឹទ្ធសភា សាលាក្រុង ក្រសួងអប់រំ"
   ]
  },
  {
   "cell_type": "code",
   "execution_count": null,
   "metadata": {},
   "outputs": [
    {
     "name": "stdout",
     "output_type": "stream",
     "text": [
      "Total Examinee: 175\n",
      "Total Finished Examinee: 174\n",
      "Total Examinee in Progress: 1\n",
      "Number of Passed Examinee: 46  | Passing rate: 0.26285714285714284\n",
      "Number of Failed Examinee: 129  | Failing rate: 0.7371428571428571\n",
      "Average Score of Passed Examinee:  66.71130434782609\n",
      "Average Score of Failed Examinee:  46.03891472868217\n"
     ]
    },
    {
     "name": "stderr",
     "output_type": "stream",
     "text": [
      "/var/folders/dt/90w7dnxx5xzfd7px48yrrpt00000gn/T/ipykernel_40445/1976009895.py:11: PerformanceWarning: DataFrame is highly fragmented.  This is usually the result of calling `frame.insert` many times, which has poor performance.  Consider joining all columns at once using pd.concat(axis=1) instead. To get a de-fragmented frame, use `newframe = frame.copy()`\n",
      "  df.loc[df['Grade/100.00'] >= float(60), 'label'] = 'Passed'\n",
      "/var/folders/dt/90w7dnxx5xzfd7px48yrrpt00000gn/T/ipykernel_40445/1976009895.py:11: FutureWarning: Setting an item of incompatible dtype is deprecated and will raise in a future error of pandas. Value 'Passed' has dtype incompatible with float64, please explicitly cast to a compatible dtype first.\n",
      "  df.loc[df['Grade/100.00'] >= float(60), 'label'] = 'Passed'\n"
     ]
    }
   ],
   "source": [
    "dataset_information('data_source/ប្រឡងវិញ្ញាបនបត្រជំនាញឌីជីថលចាំបាច់ (Senate-City Hall & Moeys)/ប្រឡងវិញ្ញាបនបត្រជំនាញឌីជីថលចាំបាច់(2022)-ប្រឡងវិញ្ញាបនបត្រជំនាញឌីជីថលចាំបាច់-grades.xlsx')"
   ]
  },
  {
   "cell_type": "markdown",
   "metadata": {},
   "source": [
    "#### 5. បន្ទាយមានជ័យ បាត់ដំបង ពោធិ៍សាត់ កំពង់ឆ្នាំង ប៉ៃលិន"
   ]
  },
  {
   "cell_type": "code",
   "execution_count": null,
   "metadata": {},
   "outputs": [
    {
     "name": "stdout",
     "output_type": "stream",
     "text": [
      "Total Examinee: 346\n",
      "Total Finished Examinee: 345\n",
      "Total Examinee in Progress: 1\n",
      "Number of Passed Examinee: 86  | Passing rate: 0.24855491329479767\n",
      "Number of Failed Examinee: 260  | Failing rate: 0.7514450867052023\n",
      "Average Score of Passed Examinee:  68.73767441860464\n",
      "Average Score of Failed Examinee:  45.301153846153845\n"
     ]
    },
    {
     "name": "stderr",
     "output_type": "stream",
     "text": [
      "/var/folders/dt/90w7dnxx5xzfd7px48yrrpt00000gn/T/ipykernel_40445/1976009895.py:11: PerformanceWarning: DataFrame is highly fragmented.  This is usually the result of calling `frame.insert` many times, which has poor performance.  Consider joining all columns at once using pd.concat(axis=1) instead. To get a de-fragmented frame, use `newframe = frame.copy()`\n",
      "  df.loc[df['Grade/100.00'] >= float(60), 'label'] = 'Passed'\n",
      "/var/folders/dt/90w7dnxx5xzfd7px48yrrpt00000gn/T/ipykernel_40445/1976009895.py:11: FutureWarning: Setting an item of incompatible dtype is deprecated and will raise in a future error of pandas. Value 'Passed' has dtype incompatible with float64, please explicitly cast to a compatible dtype first.\n",
      "  df.loc[df['Grade/100.00'] >= float(60), 'label'] = 'Passed'\n"
     ]
    }
   ],
   "source": [
    "dataset_information('data_source/ប្រឡងវិញ្ញាបនបត្រជំនាញឌីជីថលចាំបាច់ខេត្តបន្ទាយមានជ័យ -​ ខេត្តបាត់ដំបង -ពោធិ៍សាត់ -កំពង់ឆ្នាំង-ប៉ៃលិន (DSE-09)/grades (1).xlsx')"
   ]
  },
  {
   "cell_type": "markdown",
   "metadata": {},
   "source": [
    "#### 6. ក្រសួងប្រៃសណីយ៍ និងទូរគមនាគមន៍"
   ]
  },
  {
   "cell_type": "code",
   "execution_count": null,
   "metadata": {},
   "outputs": [
    {
     "name": "stdout",
     "output_type": "stream",
     "text": [
      "Total Examinee: 231\n",
      "Total Finished Examinee: 230\n",
      "Total Examinee in Progress: 1\n",
      "Number of Passed Examinee: 118  | Passing rate: 0.5108225108225108\n",
      "Number of Failed Examinee: 113  | Failing rate: 0.48917748917748916\n",
      "Average Score of Passed Examinee:  72.66322033898305\n",
      "Average Score of Failed Examinee:  48.93194690265487\n"
     ]
    },
    {
     "name": "stderr",
     "output_type": "stream",
     "text": [
      "/var/folders/dt/90w7dnxx5xzfd7px48yrrpt00000gn/T/ipykernel_40445/1976009895.py:11: PerformanceWarning: DataFrame is highly fragmented.  This is usually the result of calling `frame.insert` many times, which has poor performance.  Consider joining all columns at once using pd.concat(axis=1) instead. To get a de-fragmented frame, use `newframe = frame.copy()`\n",
      "  df.loc[df['Grade/100.00'] >= float(60), 'label'] = 'Passed'\n",
      "/var/folders/dt/90w7dnxx5xzfd7px48yrrpt00000gn/T/ipykernel_40445/1976009895.py:11: FutureWarning: Setting an item of incompatible dtype is deprecated and will raise in a future error of pandas. Value 'Passed' has dtype incompatible with float64, please explicitly cast to a compatible dtype first.\n",
      "  df.loc[df['Grade/100.00'] >= float(60), 'label'] = 'Passed'\n"
     ]
    }
   ],
   "source": [
    "dataset_information('data_source/ប្រឡងវិញ្ញាបនបត្រជំនាញឌីជីថលចាំបាច់ នៃក្រសួងប្រៃសណីយ៍ និងទូរគមនាគមន៍-8/ប្រឡងវិញ្ញាបនបត្រក្រសួងប្រៃសណីយ៍ និងទូរគមនាគមន៍-ប្រឡងវិញ្ញាបនបត្រ DSE (ក្រសួងប្រៃសណីយ៍ និងទូរគមនាគមន៍-8)-grades.xlsx')"
   ]
  },
  {
   "cell_type": "markdown",
   "metadata": {},
   "source": [
    "#### 7. បណ្ឌិត្យសភាបច្ចេកវិទ្យាឌីជីថលកម្ពុជា"
   ]
  },
  {
   "cell_type": "code",
   "execution_count": null,
   "metadata": {},
   "outputs": [
    {
     "name": "stdout",
     "output_type": "stream",
     "text": [
      "Total Examinee: 170\n",
      "Total Finished Examinee: 169\n",
      "Total Examinee in Progress: 1\n",
      "Number of Passed Examinee: 106  | Passing rate: 0.6235294117647059\n",
      "Number of Failed Examinee: 64  | Failing rate: 0.3764705882352941\n",
      "Average Score of Passed Examinee:  72.77707547169811\n",
      "Average Score of Failed Examinee:  44.825\n"
     ]
    },
    {
     "name": "stderr",
     "output_type": "stream",
     "text": [
      "/var/folders/dt/90w7dnxx5xzfd7px48yrrpt00000gn/T/ipykernel_40445/1976009895.py:11: PerformanceWarning: DataFrame is highly fragmented.  This is usually the result of calling `frame.insert` many times, which has poor performance.  Consider joining all columns at once using pd.concat(axis=1) instead. To get a de-fragmented frame, use `newframe = frame.copy()`\n",
      "  df.loc[df['Grade/100.00'] >= float(60), 'label'] = 'Passed'\n",
      "/var/folders/dt/90w7dnxx5xzfd7px48yrrpt00000gn/T/ipykernel_40445/1976009895.py:11: FutureWarning: Setting an item of incompatible dtype is deprecated and will raise in a future error of pandas. Value 'Passed' has dtype incompatible with float64, please explicitly cast to a compatible dtype first.\n",
      "  df.loc[df['Grade/100.00'] >= float(60), 'label'] = 'Passed'\n"
     ]
    }
   ],
   "source": [
    "dataset_information('data_source/ប្រឡងវិញ្ញាបនបត្រជំនាញឌីជីថលចាំបាច់ (CADT)/ប្រឡងវិញ្ញាបនបត្រជំនាញឌីជីថលចាំបាច់ (CADT-1)-Exam-grades.xlsx')"
   ]
  },
  {
   "cell_type": "markdown",
   "metadata": {},
   "source": [
    "#### 8. ៦ខេត្តផ្សេង"
   ]
  },
  {
   "cell_type": "code",
   "execution_count": null,
   "metadata": {},
   "outputs": [
    {
     "name": "stdout",
     "output_type": "stream",
     "text": [
      "Total Examinee: 175\n",
      "Total Finished Examinee: 174\n",
      "Total Examinee in Progress: 1\n",
      "Number of Passed Examinee: 46  | Passing rate: 0.26285714285714284\n",
      "Number of Failed Examinee: 129  | Failing rate: 0.7371428571428571\n",
      "Average Score of Passed Examinee:  66.71130434782609\n",
      "Average Score of Failed Examinee:  46.03891472868217\n"
     ]
    },
    {
     "name": "stderr",
     "output_type": "stream",
     "text": [
      "/var/folders/dt/90w7dnxx5xzfd7px48yrrpt00000gn/T/ipykernel_40445/1976009895.py:11: PerformanceWarning: DataFrame is highly fragmented.  This is usually the result of calling `frame.insert` many times, which has poor performance.  Consider joining all columns at once using pd.concat(axis=1) instead. To get a de-fragmented frame, use `newframe = frame.copy()`\n",
      "  df.loc[df['Grade/100.00'] >= float(60), 'label'] = 'Passed'\n",
      "/var/folders/dt/90w7dnxx5xzfd7px48yrrpt00000gn/T/ipykernel_40445/1976009895.py:11: FutureWarning: Setting an item of incompatible dtype is deprecated and will raise in a future error of pandas. Value 'Passed' has dtype incompatible with float64, please explicitly cast to a compatible dtype first.\n",
      "  df.loc[df['Grade/100.00'] >= float(60), 'label'] = 'Passed'\n"
     ]
    }
   ],
   "source": [
    "dataset_information('data_source/ប្រឡងវិញ្ញាបនបត្រជំនាញឌីជីថលចាំបាច់ (ខេត្ត-6)/ប្រឡងវិញ្ញាបនបត្រជំនាញឌីជីថលចាំបាច់(2022)-ប្រឡងវិញ្ញាបនបត្រជំនាញឌីជីថលចាំបាច់-grades.xlsx')"
   ]
  },
  {
   "cell_type": "markdown",
   "metadata": {},
   "source": [
    "#### Function to display dataset information - PASSING SCORE 50"
   ]
  },
  {
   "cell_type": "code",
   "execution_count": null,
   "metadata": {},
   "outputs": [],
   "source": [
    "def dataset_information_50(path):\n",
    "    print(path)\n",
    "    df = pd.read_excel(path)\n",
    "\n",
    "    # Replace - with None\n",
    "    columns = df.columns\n",
    "    for col in columns:\n",
    "        df[col] = df[col].replace(['-'], float(0))\n",
    "\n",
    "    df['Grade/100.00'] = df['Grade/100.00'].astype('float64')\n",
    "\n",
    "    df.loc[df['Grade/100.00'] >= float(50), 'label'] = 'Passed'\n",
    "    df.loc[df['Grade/100.00'] < float(50), 'label'] = 'Failed'\n",
    "\n",
    "    num_failed = len(df[df['label'] == 'Failed'])\n",
    "    num_passed = len(df[df['label'] == 'Passed'])\n",
    "\n",
    "    num_of_examinee = len(df)\n",
    "    num_finished_examinee = len(df[df['State'] == \"Finished\"])\n",
    "    num_in_progress_examinee = len(df[df['State'] != \"Finished\"])\n",
    "    num_failed = len(df[df['label'] == 'Failed'])\n",
    "    num_passed = len(df[df['label'] == 'Passed'])\n",
    "\n",
    "\n",
    "    print(\"Total Examinee:\", num_of_examinee)\n",
    "    print(\"Total Finished Examinee:\", num_finished_examinee)\n",
    "    print(\"Total Examinee in Progress:\", num_in_progress_examinee)\n",
    "    print(\"Number of Passed Examinee:\", num_passed, \" | Passing rate:\", num_passed / (num_passed+num_failed))\n",
    "    print(\"Number of Failed Examinee:\", num_failed, \" | Failing rate:\", num_failed / (num_passed+num_failed))\n",
    "    passed_df = df[df['label'] == 'Passed']\n",
    "    print(\"Average Score of Passed Examinee: \", passed_df['Grade/100.00'].mean())\n",
    "    failed_df = df[df['label'] == 'Failed']\n",
    "    print(\"Average Score of Failed Examinee: \", failed_df['Grade/100.00'].mean())\n",
    "\n",
    "    plt.bar([\"Passed\", \"Failed\"], [num_passed, num_failed])\n",
    "    "
   ]
  },
  {
   "cell_type": "markdown",
   "metadata": {},
   "source": [
    "#### 1. ខេត្តព្រះវិហារ ឧត្តរមានជ័យ សៀមរាប"
   ]
  },
  {
   "cell_type": "code",
   "execution_count": null,
   "metadata": {},
   "outputs": [
    {
     "name": "stdout",
     "output_type": "stream",
     "text": [
      "data_source/ប្រឡងវិញ្ញាបនបត្រជំនាញឌីជីថលចាំបាច់ (ខេត្តព្រះវិហា ឧត្តមានជ័យ សៀមរាប-៧)/Exam-PVH-UDM-7-ប្រឡង-grades.xlsx\n"
     ]
    },
    {
     "name": "stderr",
     "output_type": "stream",
     "text": [
      "/var/folders/dt/90w7dnxx5xzfd7px48yrrpt00000gn/T/ipykernel_40445/147274843.py:12: PerformanceWarning: DataFrame is highly fragmented.  This is usually the result of calling `frame.insert` many times, which has poor performance.  Consider joining all columns at once using pd.concat(axis=1) instead. To get a de-fragmented frame, use `newframe = frame.copy()`\n",
      "  df.loc[df['Grade/100.00'] >= float(50), 'label'] = 'Passed'\n",
      "/var/folders/dt/90w7dnxx5xzfd7px48yrrpt00000gn/T/ipykernel_40445/147274843.py:12: FutureWarning: Setting an item of incompatible dtype is deprecated and will raise in a future error of pandas. Value 'Passed' has dtype incompatible with float64, please explicitly cast to a compatible dtype first.\n",
      "  df.loc[df['Grade/100.00'] >= float(50), 'label'] = 'Passed'\n"
     ]
    },
    {
     "name": "stdout",
     "output_type": "stream",
     "text": [
      "Total Examinee: 200\n",
      "Total Finished Examinee: 199\n",
      "Total Examinee in Progress: 1\n",
      "Number of Passed Examinee: 123  | Passing rate: 0.615\n",
      "Number of Failed Examinee: 77  | Failing rate: 0.385\n",
      "Average Score of Passed Examinee:  61.13747967479675\n",
      "Average Score of Failed Examinee:  40.28285714285714\n"
     ]
    },
    {
     "data": {
      "image/png": "[encoded data removed]",
      "text/plain": [
       "<Figure size 640x480 with 1 Axes>"
      ]
     },
     "metadata": {},
     "output_type": "display_data"
    }
   ],
   "source": [
    "dataset_information_50('data_source/ប្រឡងវិញ្ញាបនបត្រជំនាញឌីជីថលចាំបាច់ (ខេត្តព្រះវិហា ឧត្តមានជ័យ សៀមរាប-៧)/Exam-PVH-UDM-7-ប្រឡង-grades.xlsx')"
   ]
  },
  {
   "cell_type": "code",
   "execution_count": null,
   "metadata": {},
   "outputs": [],
   "source": []
  }
 ],
 "metadata": {
  "kernelspec": {
   "display_name": "base",
   "language": "python",
   "name": "python3"
  },
  "language_info": {
   "codemirror_mode": {
    "name": "ipython",
    "version": 3
   },
   "file_extension": ".py",
   "mimetype": "text/x-python",
   "name": "python",
   "nbconvert_exporter": "python",
   "pygments_lexer": "ipython3",
   "version": "3.12.0"
  },
  "orig_nbformat": 4
 },
 "nbformat": 4,
 "nbformat_minor": 2
}
